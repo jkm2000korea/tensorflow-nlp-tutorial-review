{
 "cells": [
  {
   "cell_type": "markdown",
   "metadata": {
    "id": "-WgOcilG95ah"
   },
   "source": [
    "**리뷰완료**\n",
    "이 자료는 위키독스 딥 러닝을 이용한 자연어 처리 입문의 판다스, 넘파이, 맷플롯립의 튜토리얼 자료입니다."
   ]
  },
  {
   "cell_type": "markdown",
   "metadata": {
    "id": "5hLFpOmY0LKL"
   },
   "source": [
    "링크 : https://wikidocs.net/32829"
   ]
  },
  {
   "cell_type": "markdown",
   "metadata": {
    "id": "XS6PFClTxelC"
   },
   "source": [
    "# 1. Pandas"
   ]
  },
  {
   "cell_type": "markdown",
   "metadata": {
    "id": "wF0kyklgxhJI"
   },
   "source": [
    "## 1) Series"
   ]
  },
  {
   "cell_type": "code",
   "execution_count": 1,
   "metadata": {
    "ExecuteTime": {
     "end_time": "2024-05-08T10:21:45.052125Z",
     "start_time": "2024-05-08T10:21:43.362942Z"
    },
    "id": "WvQQbDj9xXj2"
   },
   "outputs": [],
   "source": [
    "import pandas as pd"
   ]
  },
  {
   "cell_type": "code",
   "execution_count": 2,
   "metadata": {
    "ExecuteTime": {
     "end_time": "2024-05-08T10:21:47.692032Z",
     "start_time": "2024-05-08T10:21:47.668287Z"
    },
    "id": "T_zhBFOQxZRF"
   },
   "outputs": [],
   "source": [
    "sr = pd.Series([17000, 18000, 1000, 5000],\n",
    "               index=[\"피자\", \"치킨\", \"콜라\", \"맥주\"])"
   ]
  },
  {
   "cell_type": "code",
   "execution_count": 3,
   "metadata": {
    "ExecuteTime": {
     "end_time": "2024-05-08T10:22:04.289873Z",
     "start_time": "2024-05-08T10:22:04.263685Z"
    },
    "colab": {
     "base_uri": "https://localhost:8080/"
    },
    "id": "dbKPSEpE-Ak5",
    "outputId": "8657ae74-00a1-429b-ef31-ab44c0739556"
   },
   "outputs": [
    {
     "name": "stdout",
     "output_type": "stream",
     "text": [
      "시리즈 출력 :\n",
      "---------------\n",
      "피자    17000\n",
      "치킨    18000\n",
      "콜라     1000\n",
      "맥주     5000\n",
      "dtype: int64\n"
     ]
    }
   ],
   "source": [
    "print('시리즈 출력 :')\n",
    "print('-'*15)\n",
    "print(sr)"
   ]
  },
  {
   "cell_type": "code",
   "execution_count": 4,
   "metadata": {
    "ExecuteTime": {
     "end_time": "2024-05-08T10:22:22.674754Z",
     "start_time": "2024-05-08T10:22:22.642156Z"
    },
    "colab": {
     "base_uri": "https://localhost:8080/"
    },
    "id": "okubvkXRxabU",
    "outputId": "61e7684a-aa36-4916-bf48-d50a5676a872"
   },
   "outputs": [
    {
     "name": "stdout",
     "output_type": "stream",
     "text": [
      "시리즈의 값 : [17000 18000  1000  5000]\n",
      "시리즈의 인덱스 : Index(['피자', '치킨', '콜라', '맥주'], dtype='object')\n"
     ]
    }
   ],
   "source": [
    "print('시리즈의 값 : {}'.format(sr.values)) #value 는 쉼표\",\"가 없다.\n",
    "print('시리즈의 인덱스 : {}'.format(sr.index))"
   ]
  },
  {
   "cell_type": "markdown",
   "metadata": {
    "id": "Hyq8_EmTxpVb"
   },
   "source": [
    "## 2) 데이터프레임"
   ]
  },
  {
   "cell_type": "code",
   "execution_count": 5,
   "metadata": {
    "ExecuteTime": {
     "end_time": "2024-05-08T10:22:47.875506Z",
     "start_time": "2024-05-08T10:22:47.842002Z"
    },
    "colab": {
     "base_uri": "https://localhost:8080/"
    },
    "id": "uOtgmuaUxc12",
    "outputId": "8e3d05fb-6450-4aff-aa9b-0dba0cf6a591"
   },
   "outputs": [
    {
     "name": "stdout",
     "output_type": "stream",
     "text": [
      "데이터프레임 출력 :\n",
      "------------------\n",
      "       A  B  C\n",
      "one    1  2  3\n",
      "two    4  5  6\n",
      "three  7  8  9\n"
     ]
    }
   ],
   "source": [
    "values = [[1, 2, 3], [4, 5, 6], [7, 8, 9]]\n",
    "index = ['one', 'two', 'three']\n",
    "columns = ['A', 'B', 'C']\n",
    "\n",
    "df = pd.DataFrame(values, index=index, columns=columns)\n",
    "\n",
    "print('데이터프레임 출력 :')\n",
    "print('-'*18)\n",
    "print(df)"
   ]
  },
  {
   "cell_type": "code",
   "execution_count": 6,
   "metadata": {
    "ExecuteTime": {
     "end_time": "2024-05-08T10:23:16.199337Z",
     "start_time": "2024-05-08T10:23:16.172856Z"
    },
    "colab": {
     "base_uri": "https://localhost:8080/"
    },
    "id": "Ev8fpuIUxdwt",
    "outputId": "32a95ca2-c915-4449-94c3-655ed0cfd918"
   },
   "outputs": [
    {
     "name": "stdout",
     "output_type": "stream",
     "text": [
      "데이터프레임의 인덱스 : Index(['one', 'two', 'three'], dtype='object')\n",
      "데이터프레임의 열이름: Index(['A', 'B', 'C'], dtype='object')\n",
      "데이터프레임의 값 :\n",
      "------------------\n",
      "[[1 2 3]\n",
      " [4 5 6]\n",
      " [7 8 9]]\n"
     ]
    }
   ],
   "source": [
    "print('데이터프레임의 인덱스 : {}'.format(df.index))\n",
    "print('데이터프레임의 열이름: {}'.format(df.columns))\n",
    "print('데이터프레임의 값 :')\n",
    "print('-'*18)\n",
    "print(df.values) #value 는 쉼표\",\"가 없다."
   ]
  },
  {
   "cell_type": "code",
   "execution_count": 7,
   "metadata": {
    "ExecuteTime": {
     "end_time": "2024-05-08T10:28:31.763189Z",
     "start_time": "2024-05-08T10:28:31.740870Z"
    },
    "colab": {
     "base_uri": "https://localhost:8080/"
    },
    "id": "5ISuTwVpxn_9",
    "outputId": "c37615b9-04db-4125-9d01-58005711e0e9"
   },
   "outputs": [
    {
     "name": "stdout",
     "output_type": "stream",
     "text": [
      "      0         1      2\n",
      "0  1000     Steve  90.72\n",
      "1  1001     James  78.09\n",
      "2  1002    Doyeon  98.43\n",
      "3  1003      Jane  64.19\n",
      "4  1004  Pilwoong  81.30\n",
      "5  1005      Tony  99.14\n"
     ]
    }
   ],
   "source": [
    "# 리스트로 생성하기\n",
    "data = [\n",
    "    ['1000', 'Steve', 90.72], \n",
    "    ['1001', 'James', 78.09], \n",
    "    ['1002', 'Doyeon', 98.43], \n",
    "    ['1003', 'Jane', 64.19], \n",
    "    ['1004', 'Pilwoong', 81.30],\n",
    "    ['1005', 'Tony', 99.14],\n",
    "]\n",
    "\n",
    "df = pd.DataFrame(data)\n",
    "print(df)"
   ]
  },
  {
   "cell_type": "code",
   "execution_count": 8,
   "metadata": {
    "ExecuteTime": {
     "end_time": "2024-05-08T10:28:40.095996Z",
     "start_time": "2024-05-08T10:28:40.072911Z"
    },
    "colab": {
     "base_uri": "https://localhost:8080/"
    },
    "id": "WzNFf-DGxrgt",
    "outputId": "0f9af4d2-0b74-476b-f577-2377b68a221d"
   },
   "outputs": [
    {
     "name": "stdout",
     "output_type": "stream",
     "text": [
      "     학번        이름     점수\n",
      "0  1000     Steve  90.72\n",
      "1  1001     James  78.09\n",
      "2  1002    Doyeon  98.43\n",
      "3  1003      Jane  64.19\n",
      "4  1004  Pilwoong  81.30\n",
      "5  1005      Tony  99.14\n"
     ]
    }
   ],
   "source": [
    "df = pd.DataFrame(data, columns=['학번', '이름', '점수'])\n",
    "print(df)"
   ]
  },
  {
   "cell_type": "code",
   "execution_count": 9,
   "metadata": {
    "ExecuteTime": {
     "end_time": "2024-05-08T10:28:50.730958Z",
     "start_time": "2024-05-08T10:28:50.717788Z"
    },
    "colab": {
     "base_uri": "https://localhost:8080/"
    },
    "id": "xQpt0EJHxs7F",
    "outputId": "7d621718-5ccd-4565-996b-f20e3f6e72ce"
   },
   "outputs": [
    {
     "name": "stdout",
     "output_type": "stream",
     "text": [
      "     학번        이름     점수\n",
      "0  1000     Steve  90.72\n",
      "1  1001     James  78.09\n",
      "2  1002    Doyeon  98.43\n",
      "3  1003      Jane  64.19\n",
      "4  1004  Pilwoong  81.30\n",
      "5  1005      Tony  99.14\n"
     ]
    }
   ],
   "source": [
    "# 딕셔너리로 생성하기\n",
    "data = {\n",
    "    '학번' : ['1000', '1001', '1002', '1003', '1004', '1005'],\n",
    "    '이름' : [ 'Steve', 'James', 'Doyeon', 'Jane', 'Pilwoong', 'Tony'],\n",
    "    '점수': [90.72, 78.09, 98.43, 64.19, 81.30, 99.14]\n",
    "    }\n",
    "\n",
    "df = pd.DataFrame(data)\n",
    "print(df)"
   ]
  },
  {
   "cell_type": "code",
   "execution_count": 10,
   "metadata": {
    "ExecuteTime": {
     "end_time": "2024-05-08T10:28:54.836718Z",
     "start_time": "2024-05-08T10:28:54.825589Z"
    },
    "colab": {
     "base_uri": "https://localhost:8080/"
    },
    "id": "OnCv-rSTxtp9",
    "outputId": "ee4ccd31-2c9c-4117-914b-4f9fdd0cc953"
   },
   "outputs": [
    {
     "name": "stdout",
     "output_type": "stream",
     "text": [
      "     학번      이름     점수\n",
      "0  1000   Steve  90.72\n",
      "1  1001   James  78.09\n",
      "2  1002  Doyeon  98.43\n"
     ]
    }
   ],
   "source": [
    "# 앞 부분을 3개만 보기\n",
    "print(df.head(3))"
   ]
  },
  {
   "cell_type": "code",
   "execution_count": 11,
   "metadata": {
    "ExecuteTime": {
     "end_time": "2024-05-08T10:28:55.396506Z",
     "start_time": "2024-05-08T10:28:55.375585Z"
    },
    "colab": {
     "base_uri": "https://localhost:8080/"
    },
    "id": "WZRPndytxvSF",
    "outputId": "8a6b52f1-c1de-4ce6-b11a-2d8e5e77641f"
   },
   "outputs": [
    {
     "name": "stdout",
     "output_type": "stream",
     "text": [
      "     학번        이름     점수\n",
      "3  1003      Jane  64.19\n",
      "4  1004  Pilwoong  81.30\n",
      "5  1005      Tony  99.14\n"
     ]
    }
   ],
   "source": [
    "# 뒷 부분을 3개만 보기\n",
    "print(df.tail(3))"
   ]
  },
  {
   "cell_type": "code",
   "execution_count": 12,
   "metadata": {
    "ExecuteTime": {
     "end_time": "2024-05-08T10:28:56.337912Z",
     "start_time": "2024-05-08T10:28:56.329886Z"
    },
    "colab": {
     "base_uri": "https://localhost:8080/"
    },
    "id": "nxYUbP9NxwKV",
    "outputId": "fde0d7d1-6714-4f7c-a062-615c7eadcc5d"
   },
   "outputs": [
    {
     "name": "stdout",
     "output_type": "stream",
     "text": [
      "0    1000\n",
      "1    1001\n",
      "2    1002\n",
      "3    1003\n",
      "4    1004\n",
      "5    1005\n",
      "Name: 학번, dtype: object\n"
     ]
    }
   ],
   "source": [
    "# '학번'에 해당되는 열을 보기\n",
    "print(df['학번'])"
   ]
  },
  {
   "cell_type": "code",
   "execution_count": null,
   "metadata": {
    "id": "mDm73lE6xxCV"
   },
   "outputs": [],
   "source": [
    "# csv 파일을 사용하는 경우가 많습니다. csv 파일을 데이터프레임으로 로드 할 때는 다음과 같이 합니다.\n",
    "# df = pd.read_csv('csv 파일의 경로')"
   ]
  },
  {
   "cell_type": "markdown",
   "metadata": {
    "id": "gkjJYBC9x4m7"
   },
   "source": [
    "# 2. Numpy"
   ]
  },
  {
   "cell_type": "code",
   "execution_count": 13,
   "metadata": {
    "ExecuteTime": {
     "end_time": "2024-05-08T10:29:04.137090Z",
     "start_time": "2024-05-08T10:29:04.121489Z"
    },
    "id": "pt9Jg01Tyf7-"
   },
   "outputs": [],
   "source": [
    "import numpy as np"
   ]
  },
  {
   "cell_type": "markdown",
   "metadata": {
    "id": "w-KPmX5GGL7p"
   },
   "source": [
    "## 1) np.array()"
   ]
  },
  {
   "cell_type": "code",
   "execution_count": 14,
   "metadata": {
    "ExecuteTime": {
     "end_time": "2024-05-08T10:29:11.462744Z",
     "start_time": "2024-05-08T10:29:11.454213Z"
    },
    "colab": {
     "base_uri": "https://localhost:8080/"
    },
    "id": "P_U0oREuyhB-",
    "outputId": "73047dd7-50cd-4a2a-d420-036eab2e66fa"
   },
   "outputs": [
    {
     "name": "stdout",
     "output_type": "stream",
     "text": [
      "[1 2 3 4 5]\n"
     ]
    }
   ],
   "source": [
    "# 1차원 배열\n",
    "vec = np.array([1, 2, 3, 4, 5])\n",
    "print(vec)"
   ]
  },
  {
   "cell_type": "code",
   "execution_count": 15,
   "metadata": {
    "ExecuteTime": {
     "end_time": "2024-05-08T10:29:48.197554Z",
     "start_time": "2024-05-08T10:29:48.181361Z"
    },
    "colab": {
     "base_uri": "https://localhost:8080/"
    },
    "id": "aZQQe5AOyh7d",
    "outputId": "d406096f-16fc-42a4-d639-a21c533bbb0c"
   },
   "outputs": [
    {
     "name": "stdout",
     "output_type": "stream",
     "text": [
      "[[10 20 30]\n",
      " [60 70 80]]\n"
     ]
    }
   ],
   "source": [
    "# 2차원 배열\n",
    "mat = np.array([[10, 20, 30], [ 60, 70, 80]]) \n",
    "print(mat)"
   ]
  },
  {
   "cell_type": "code",
   "execution_count": 16,
   "metadata": {
    "ExecuteTime": {
     "end_time": "2024-05-08T10:29:48.722835Z",
     "start_time": "2024-05-08T10:29:48.714796Z"
    },
    "colab": {
     "base_uri": "https://localhost:8080/"
    },
    "id": "zYFnNSoOEwpU",
    "outputId": "5dd4a09d-dee0-473b-f521-58714842ee1c"
   },
   "outputs": [
    {
     "name": "stdout",
     "output_type": "stream",
     "text": [
      "vec의 타입 : <class 'numpy.ndarray'>\n",
      "mat의 타입 : <class 'numpy.ndarray'>\n"
     ]
    }
   ],
   "source": [
    "print('vec의 타입 :',type(vec))\n",
    "print('mat의 타입 :',type(mat))"
   ]
  },
  {
   "cell_type": "code",
   "execution_count": 17,
   "metadata": {
    "ExecuteTime": {
     "end_time": "2024-05-08T10:30:51.222905Z",
     "start_time": "2024-05-08T10:30:51.200571Z"
    },
    "colab": {
     "base_uri": "https://localhost:8080/"
    },
    "id": "bdkeNSRdyjhd",
    "outputId": "a271e281-65e8-4022-8dde-b706dd58e94e"
   },
   "outputs": [
    {
     "name": "stdout",
     "output_type": "stream",
     "text": [
      "vec의 차원 : 1\n",
      "vec의 크기(shape) : (5,)\n"
     ]
    }
   ],
   "source": [
    "print('vec의 차원 :',vec.ndim) # 차원 출력\n",
    "print('vec의 크기(shape) :',vec.shape) # 크기 출력"
   ]
  },
  {
   "cell_type": "code",
   "execution_count": 18,
   "metadata": {
    "ExecuteTime": {
     "end_time": "2024-05-08T10:30:52.701576Z",
     "start_time": "2024-05-08T10:30:52.692788Z"
    },
    "colab": {
     "base_uri": "https://localhost:8080/"
    },
    "id": "Ed7s8m8syix9",
    "outputId": "af8128ee-85ab-45c4-f186-ae25daed082a"
   },
   "outputs": [
    {
     "name": "stdout",
     "output_type": "stream",
     "text": [
      "mat의 차원 : 2\n",
      "mat의 크기(shape) : (2, 3)\n"
     ]
    }
   ],
   "source": [
    "print('mat의 차원 :',mat.ndim) # 차원 출력\n",
    "print('mat의 크기(shape) :',mat.shape) # 크기 출력"
   ]
  },
  {
   "cell_type": "markdown",
   "metadata": {
    "id": "PTP-0ZMoGQHU"
   },
   "source": [
    "## 2) ndarray의 초기화"
   ]
  },
  {
   "cell_type": "code",
   "execution_count": 19,
   "metadata": {
    "ExecuteTime": {
     "end_time": "2024-05-08T10:31:36.549074Z",
     "start_time": "2024-05-08T10:31:36.541883Z"
    },
    "colab": {
     "base_uri": "https://localhost:8080/"
    },
    "id": "9LA6WC8IykL9",
    "outputId": "9b8cd513-faf0-40f3-9e1c-90985dee6d5c"
   },
   "outputs": [
    {
     "name": "stdout",
     "output_type": "stream",
     "text": [
      "[[0. 0. 0.]\n",
      " [0. 0. 0.]]\n"
     ]
    }
   ],
   "source": [
    "# 모든 값이 0인 2x3 배열 생성.\n",
    "zero_mat = np.zeros((2,3))\n",
    "print(zero_mat)"
   ]
  },
  {
   "cell_type": "code",
   "execution_count": 20,
   "metadata": {
    "ExecuteTime": {
     "end_time": "2024-05-08T10:31:38.367240Z",
     "start_time": "2024-05-08T10:31:38.351616Z"
    },
    "colab": {
     "base_uri": "https://localhost:8080/"
    },
    "id": "URKJMV6dyk-V",
    "outputId": "0702b53d-858f-42e3-dc29-4bfe83d02230"
   },
   "outputs": [
    {
     "name": "stdout",
     "output_type": "stream",
     "text": [
      "[[1. 1. 1.]\n",
      " [1. 1. 1.]]\n"
     ]
    }
   ],
   "source": [
    "# 모든 값이 1인 2x3 배열 생성.\n",
    "one_mat = np.ones((2,3))\n",
    "print(one_mat)"
   ]
  },
  {
   "cell_type": "code",
   "execution_count": 21,
   "metadata": {
    "ExecuteTime": {
     "end_time": "2024-05-08T10:38:39.635324Z",
     "start_time": "2024-05-08T10:38:39.627724Z"
    },
    "colab": {
     "base_uri": "https://localhost:8080/"
    },
    "id": "StQNvVUcyl3V",
    "outputId": "c580e08f-381d-42a9-e552-158b547e22d8"
   },
   "outputs": [
    {
     "name": "stdout",
     "output_type": "stream",
     "text": [
      "[[7 7]\n",
      " [7 7]]\n"
     ]
    }
   ],
   "source": [
    "# 모든 값이 특정 상수인 배열 생성. 이 경우 7.\n",
    "same_value_mat = np.full((2,2), 7)  # 2x2 배열 생성. 7이 채울 값\n",
    "print(same_value_mat)"
   ]
  },
  {
   "cell_type": "code",
   "execution_count": 22,
   "metadata": {
    "ExecuteTime": {
     "end_time": "2024-05-08T10:38:41.635269Z",
     "start_time": "2024-05-08T10:38:41.627158Z"
    },
    "colab": {
     "base_uri": "https://localhost:8080/"
    },
    "id": "MZt1Vt3Fym1l",
    "outputId": "47b4b941-0771-44fc-9ad2-c1395ab23ed8"
   },
   "outputs": [
    {
     "name": "stdout",
     "output_type": "stream",
     "text": [
      "[[1. 0. 0.]\n",
      " [0. 1. 0.]\n",
      " [0. 0. 1.]]\n"
     ]
    }
   ],
   "source": [
    "# 대각선 값이 1이고 나머지 값이 0인 2차원 배열을 생성.\n",
    "eye_mat = np.eye(3)\n",
    "print(eye_mat)"
   ]
  },
  {
   "cell_type": "code",
   "execution_count": 23,
   "metadata": {
    "ExecuteTime": {
     "end_time": "2024-05-08T10:38:47.340251Z",
     "start_time": "2024-05-08T10:38:47.316612Z"
    },
    "colab": {
     "base_uri": "https://localhost:8080/"
    },
    "id": "MLJm1sa7ynk1",
    "outputId": "e0aea60b-c509-41f3-9a05-c26064accc01"
   },
   "outputs": [
    {
     "name": "stdout",
     "output_type": "stream",
     "text": [
      "[[0.01807292 0.5698311 ]\n",
      " [0.7378014  0.54659546]]\n"
     ]
    }
   ],
   "source": [
    "random_mat = np.random.random((2,2)) # 임의의 값으로 채워진 배열 생성\n",
    "print(random_mat)"
   ]
  },
  {
   "cell_type": "markdown",
   "metadata": {
    "id": "JB0vz3LaGXAD"
   },
   "source": [
    "## 3) np.arange()"
   ]
  },
  {
   "cell_type": "code",
   "execution_count": 24,
   "metadata": {
    "ExecuteTime": {
     "end_time": "2024-05-08T10:38:55.392567Z",
     "start_time": "2024-05-08T10:38:55.378102Z"
    },
    "colab": {
     "base_uri": "https://localhost:8080/"
    },
    "id": "6ZNKqAaKyoS1",
    "outputId": "7e8e392e-4770-4bbf-8bdb-edb1a2899872"
   },
   "outputs": [
    {
     "name": "stdout",
     "output_type": "stream",
     "text": [
      "[0 1 2 3 4 5 6 7 8 9]\n"
     ]
    }
   ],
   "source": [
    "# 0부터 9까지\n",
    "range_vec = np.arange(10)\n",
    "print(range_vec)"
   ]
  },
  {
   "cell_type": "code",
   "execution_count": 25,
   "metadata": {
    "ExecuteTime": {
     "end_time": "2024-05-08T10:39:01.428145Z",
     "start_time": "2024-05-08T10:39:01.406624Z"
    },
    "colab": {
     "base_uri": "https://localhost:8080/"
    },
    "id": "nlwPO44CyuN9",
    "outputId": "a8c7f0ba-3bbb-4fce-9b6f-333923cb83c0"
   },
   "outputs": [
    {
     "name": "stdout",
     "output_type": "stream",
     "text": [
      "[1 3 5 7 9]\n"
     ]
    }
   ],
   "source": [
    "# 1부터 9까지 +2씩 적용되는 범위\n",
    "n = 2\n",
    "range_n_step_vec = np.arange(1, 10, n)\n",
    "print(range_n_step_vec)"
   ]
  },
  {
   "cell_type": "markdown",
   "metadata": {
    "id": "P8bEatEdGhD2"
   },
   "source": [
    "## 4) reshape()"
   ]
  },
  {
   "cell_type": "code",
   "execution_count": 26,
   "metadata": {
    "ExecuteTime": {
     "end_time": "2024-05-08T10:40:09.146565Z",
     "start_time": "2024-05-08T10:40:09.131325Z"
    },
    "colab": {
     "base_uri": "https://localhost:8080/"
    },
    "id": "cOQLss65yu8V",
    "outputId": "a4b869da-0e23-40ef-ecd9-98e23d4f01c0"
   },
   "outputs": [
    {
     "name": "stdout",
     "output_type": "stream",
     "text": [
      "[[ 0  1  2  3  4  5]\n",
      " [ 6  7  8  9 10 11]\n",
      " [12 13 14 15 16 17]\n",
      " [18 19 20 21 22 23]\n",
      " [24 25 26 27 28 29]]\n"
     ]
    }
   ],
   "source": [
    "reshape_mat = np.array(np.arange(30)).reshape((5,6))\n",
    "print(reshape_mat)"
   ]
  },
  {
   "cell_type": "markdown",
   "metadata": {
    "id": "qVpk7FZyGp_X"
   },
   "source": [
    "## 5) Numpy 슬라이싱"
   ]
  },
  {
   "cell_type": "code",
   "execution_count": 27,
   "metadata": {
    "ExecuteTime": {
     "end_time": "2024-05-08T10:40:13.830252Z",
     "start_time": "2024-05-08T10:40:13.808447Z"
    },
    "colab": {
     "base_uri": "https://localhost:8080/"
    },
    "id": "q0XpIBOFyv0t",
    "outputId": "cd03e0b6-b0c1-4d01-e4b8-0e024822a170"
   },
   "outputs": [
    {
     "name": "stdout",
     "output_type": "stream",
     "text": [
      "[[1 2 3]\n",
      " [4 5 6]]\n"
     ]
    }
   ],
   "source": [
    "mat = np.array([[1, 2, 3], [4, 5, 6]])\n",
    "print(mat)"
   ]
  },
  {
   "cell_type": "code",
   "execution_count": 28,
   "metadata": {
    "ExecuteTime": {
     "end_time": "2024-05-08T10:40:21.579737Z",
     "start_time": "2024-05-08T10:40:21.557937Z"
    },
    "colab": {
     "base_uri": "https://localhost:8080/"
    },
    "id": "LbsNxhHfyzU1",
    "outputId": "d36eb5d8-3ce6-454d-e50c-e0a6d370cbb0"
   },
   "outputs": [
    {
     "name": "stdout",
     "output_type": "stream",
     "text": [
      "[1 2 3]\n"
     ]
    }
   ],
   "source": [
    "# 첫번째 행 출력\n",
    "slicing_mat = mat[0, :]\n",
    "print(slicing_mat)"
   ]
  },
  {
   "cell_type": "code",
   "execution_count": 29,
   "metadata": {
    "ExecuteTime": {
     "end_time": "2024-05-08T10:40:31.709310Z",
     "start_time": "2024-05-08T10:40:31.687585Z"
    },
    "colab": {
     "base_uri": "https://localhost:8080/"
    },
    "id": "XUDf8f-Kzgve",
    "outputId": "3db1e87c-b1ef-4776-f9c2-49f01633fb23"
   },
   "outputs": [
    {
     "name": "stdout",
     "output_type": "stream",
     "text": [
      "[2 5]\n"
     ]
    }
   ],
   "source": [
    "# 두번째 열 출력\n",
    "slicing_mat = mat[:, 1]\n",
    "print(slicing_mat)"
   ]
  },
  {
   "cell_type": "markdown",
   "metadata": {
    "id": "UGIbk172HJZE"
   },
   "source": [
    "## 6) Numpy 정수 인덱싱(integer indexing)"
   ]
  },
  {
   "cell_type": "code",
   "execution_count": 30,
   "metadata": {
    "ExecuteTime": {
     "end_time": "2024-05-08T10:40:44.860964Z",
     "start_time": "2024-05-08T10:40:44.849839Z"
    },
    "colab": {
     "base_uri": "https://localhost:8080/"
    },
    "id": "3-kr1rwUzhfW",
    "outputId": "1eb2a28b-0775-49d2-ac26-e4b381b1946c"
   },
   "outputs": [
    {
     "name": "stdout",
     "output_type": "stream",
     "text": [
      "[[1 2]\n",
      " [4 5]\n",
      " [7 8]]\n"
     ]
    }
   ],
   "source": [
    "mat = np.array([[1, 2], [4, 5], [7, 8]])\n",
    "print(mat)"
   ]
  },
  {
   "cell_type": "code",
   "execution_count": 31,
   "metadata": {
    "ExecuteTime": {
     "end_time": "2024-05-08T10:41:06.581236Z",
     "start_time": "2024-05-08T10:41:06.564656Z"
    },
    "colab": {
     "base_uri": "https://localhost:8080/"
    },
    "id": "FHLqpXK3vh7s",
    "outputId": "f79f7062-744f-4ba7-90a1-e1e53b8bfec6"
   },
   "outputs": [
    {
     "name": "stdout",
     "output_type": "stream",
     "text": [
      "4\n"
     ]
    }
   ],
   "source": [
    "# 1행 0열의 원소\n",
    "# => 0부터 카운트하므로 두번째 행 첫번째 열의 원소.\n",
    "print(mat[1, 0])"
   ]
  },
  {
   "cell_type": "code",
   "execution_count": 32,
   "metadata": {
    "ExecuteTime": {
     "end_time": "2024-05-08T10:41:40.392927Z",
     "start_time": "2024-05-08T10:41:40.382155Z"
    },
    "colab": {
     "base_uri": "https://localhost:8080/"
    },
    "id": "BdQDyM72q8OO",
    "outputId": "319ff1fe-a0d2-4946-d7d0-8d3945aa2fce"
   },
   "outputs": [
    {
     "name": "stdout",
     "output_type": "stream",
     "text": [
      "[7 5]\n"
     ]
    }
   ],
   "source": [
    "# mat[[2행, 1행],[0열, 1열]]\n",
    "# 각 행과 열의 쌍을 매칭하면 2행 0열, 1행 1열의 두 개의 원소.\n",
    "indexing_mat = mat[[2, 1],[0, 1]] # 2행 1열, 0행 1열이 아님에 주의\n",
    "print(indexing_mat)"
   ]
  },
  {
   "cell_type": "markdown",
   "metadata": {
    "id": "F8HFi2-fDS9M"
   },
   "source": [
    "## 7) Numpy 연산"
   ]
  },
  {
   "cell_type": "code",
   "execution_count": 33,
   "metadata": {
    "ExecuteTime": {
     "end_time": "2024-05-08T10:41:48.171803Z",
     "start_time": "2024-05-08T10:41:48.163032Z"
    },
    "id": "L5zynIJCziQO"
   },
   "outputs": [],
   "source": [
    "x = np.array([1,2,3])\n",
    "y = np.array([4,5,6])"
   ]
  },
  {
   "cell_type": "code",
   "execution_count": 34,
   "metadata": {
    "ExecuteTime": {
     "end_time": "2024-05-08T10:41:50.881620Z",
     "start_time": "2024-05-08T10:41:50.852576Z"
    },
    "colab": {
     "base_uri": "https://localhost:8080/"
    },
    "id": "RcwIbWQyzjEe",
    "outputId": "a693e712-1285-46fd-829f-49b772df0573"
   },
   "outputs": [
    {
     "name": "stdout",
     "output_type": "stream",
     "text": [
      "[5 7 9]\n"
     ]
    }
   ],
   "source": [
    "# result = np.add(x, y)와 동일.\n",
    "result = x + y\n",
    "print(result)"
   ]
  },
  {
   "cell_type": "code",
   "execution_count": 35,
   "metadata": {
    "ExecuteTime": {
     "end_time": "2024-05-08T10:41:51.699149Z",
     "start_time": "2024-05-08T10:41:51.678779Z"
    },
    "colab": {
     "base_uri": "https://localhost:8080/"
    },
    "id": "jVYrcuuEzj3G",
    "outputId": "91f63e84-a0f9-489c-8da7-58e834ce872f"
   },
   "outputs": [
    {
     "name": "stdout",
     "output_type": "stream",
     "text": [
      "[-3 -3 -3]\n"
     ]
    }
   ],
   "source": [
    "# result = np.subtract(x, y)와 동일.\n",
    "result = x - y\n",
    "print(result)"
   ]
  },
  {
   "cell_type": "code",
   "execution_count": 36,
   "metadata": {
    "ExecuteTime": {
     "end_time": "2024-05-08T10:41:58.516826Z",
     "start_time": "2024-05-08T10:41:58.492638Z"
    },
    "colab": {
     "base_uri": "https://localhost:8080/"
    },
    "id": "Qe5nkwwVzku2",
    "outputId": "ee8f8229-c01f-4867-fbbe-0d6af7ca04de"
   },
   "outputs": [
    {
     "name": "stdout",
     "output_type": "stream",
     "text": [
      "[-3 -6 -9]\n"
     ]
    }
   ],
   "source": [
    "# result = np.multiply(result, x)와 동일.\n",
    "result = result * x\n",
    "print(result)"
   ]
  },
  {
   "cell_type": "code",
   "execution_count": 37,
   "metadata": {
    "ExecuteTime": {
     "end_time": "2024-05-08T10:42:01.965149Z",
     "start_time": "2024-05-08T10:42:01.936917Z"
    },
    "colab": {
     "base_uri": "https://localhost:8080/"
    },
    "id": "smm3Vl9yzlfW",
    "outputId": "b50dbb37-0d32-44e3-b0fb-eaf3279860c5"
   },
   "outputs": [
    {
     "name": "stdout",
     "output_type": "stream",
     "text": [
      "[-3. -3. -3.]\n"
     ]
    }
   ],
   "source": [
    "# result = np.divide(result, x)와 동일.\n",
    "result = result / x\n",
    "print(result)"
   ]
  },
  {
   "cell_type": "code",
   "execution_count": 43,
   "metadata": {
    "ExecuteTime": {
     "end_time": "2024-05-08T11:20:46.269637Z",
     "start_time": "2024-05-08T11:20:46.257364Z"
    },
    "colab": {
     "base_uri": "https://localhost:8080/"
    },
    "id": "rptb2AW2zmTO",
    "outputId": "cb57cb0b-6240-4553-afe7-2dee72d9d9f5"
   },
   "outputs": [
    {
     "name": "stdout",
     "output_type": "stream",
     "text": [
      "[[19 22]\n",
      " [43 50]]\n"
     ]
    }
   ],
   "source": [
    "mat1 = np.array([[1,2],[3,4]])\n",
    "mat2 = np.array([[5,6],[7,8]])\n",
    "\n",
    "mat3 = np.dot(mat1, mat2) #1*5+2*7, 2*5+2*6,3*5+4*7  ,3*6+4*8\n",
    "print(mat3)"
   ]
  },
  {
   "cell_type": "markdown",
   "metadata": {
    "id": "AajQtCcczpdj"
   },
   "source": [
    "# 3. Matplotlib"
   ]
  },
  {
   "cell_type": "code",
   "execution_count": 39,
   "metadata": {
    "ExecuteTime": {
     "end_time": "2024-05-08T10:48:57.663328Z",
     "start_time": "2024-05-08T10:48:56.204327Z"
    },
    "id": "yZkyzK8yz3xm"
   },
   "outputs": [],
   "source": [
    "import matplotlib.pyplot as plt"
   ]
  },
  {
   "cell_type": "code",
   "execution_count": 40,
   "metadata": {
    "ExecuteTime": {
     "end_time": "2024-05-08T10:48:58.004654Z",
     "start_time": "2024-05-08T10:48:57.663328Z"
    },
    "colab": {
     "base_uri": "https://localhost:8080/"
    },
    "id": "oSMMdyXczqtr",
    "outputId": "db4dba7b-a939-4c21-a2a3-893985d391cc"
   },
   "outputs": [
    {
     "data": {
      "image/png": "[encoded data removed]",
      "text/plain": [
       "<Figure size 432x288 with 1 Axes>"
      ]
     },
     "metadata": {
      "needs_background": "light"
     },
     "output_type": "display_data"
    }
   ],
   "source": [
    "plt.title('test')\n",
    "plt.plot([1,2,3,4],[2,4,8,6])\n",
    "plt.show()"
   ]
  },
  {
   "cell_type": "code",
   "execution_count": 41,
   "metadata": {
    "ExecuteTime": {
     "end_time": "2024-05-08T10:48:58.209063Z",
     "start_time": "2024-05-08T10:48:58.004654Z"
    },
    "colab": {
     "base_uri": "https://localhost:8080/",
     "height": 295
    },
    "id": "ps560nAtz2Su",
    "outputId": "e6d83b83-1293-434b-eada-0827690eda9b"
   },
   "outputs": [
    {
     "data": {
      "image/png": "[encoded data removed]",
      "text/plain": [
       "<Figure size 432x288 with 1 Axes>"
      ]
     },
     "metadata": {
      "needs_background": "light"
     },
     "output_type": "display_data"
    }
   ],
   "source": [
    "plt.title('test')\n",
    "plt.plot([1,2,3,4],[2,4,8,6])\n",
    "plt.xlabel('hours')\n",
    "plt.ylabel('score')\n",
    "plt.show()"
   ]
  },
  {
   "cell_type": "code",
   "execution_count": 42,
   "metadata": {
    "ExecuteTime": {
     "end_time": "2024-05-08T10:48:58.471070Z",
     "start_time": "2024-05-08T10:48:58.210944Z"
    },
    "colab": {
     "base_uri": "https://localhost:8080/"
    },
    "id": "U_TFNGhFz_ou",
    "outputId": "bb8bff6c-0b56-4d7a-d07d-0aedcb78e481"
   },
   "outputs": [
    {
     "data": {
      "image/png": "[encoded data removed]",
      "text/plain": [
       "<Figure size 432x288 with 1 Axes>"
      ]
     },
     "metadata": {
      "needs_background": "light"
     },
     "output_type": "display_data"
    }
   ],
   "source": [
    "plt.title('students')\n",
    "plt.plot([1,2,3,4],[2,4,8,6])\n",
    "plt.plot([1.5,2.5,3.5,4.5],[3,5,8,10]) # 라인 신규 추가\n",
    "plt.xlabel('hours')\n",
    "plt.ylabel('score')\n",
    "plt.legend(['A student', 'B student']) # 범례 삽입\n",
    "plt.show()"
   ]
  }
 ],
 "metadata": {
  "colab": {
   "collapsed_sections": [],
   "name": "Pandas Numpy Matplotlib.ipynb",
   "provenance": []
  },
  "kernelspec": {
   "display_name": "Python 3",
   "language": "python",
   "name": "python3"
  },
  "language_info": {
   "codemirror_mode": {
    "name": "ipython",
    "version": 3
   },
   "file_extension": ".py",
   "mimetype": "text/x-python",
   "name": "python",
   "nbconvert_exporter": "python",
   "pygments_lexer": "ipython3",
   "version": "3.8.5"
  }
 },
 "nbformat": 4,
 "nbformat_minor": 1
}
