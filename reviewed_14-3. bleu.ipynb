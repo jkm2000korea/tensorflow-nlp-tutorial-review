{
 "cells": [
  {
   "cell_type": "markdown",
   "metadata": {},
   "source": [
    "# 리뷰완료"
   ]
  },
  {
   "cell_type": "markdown",
   "metadata": {
    "id": "tMsvn7zofJ9l"
   },
   "source": [
    "이 자료는 2021년 12월 14일에 마지막으로 테스트되었습니다."
   ]
  },
  {
   "cell_type": "markdown",
   "metadata": {
    "id": "jcj3rsAPfNpK"
   },
   "source": [
    "이 자료는 위키독스 '딥 러닝을 이용한 자연어 처리 입문'에서 BLEU 구현하기 튜토리얼입니다.  \n",
    "링크 : https://wikidocs.net/31695"
   ]
  },
  {
   "cell_type": "markdown",
   "metadata": {},
   "source": [
    "# BLEU Score(Bilingual Evaluation Understudy Score) \n",
    "\n",
    "기계 번역기의 성능을 평가하기 위해 BLEU(Bilingual Evaluation Understudy)를 사용합니다. BLEU는 번역 결과와 사람이 직접 번역한 결과의 유사성을 n-gram 기반으로 측정합니다. BLEU 점수는 높을수록 번역 성능이 우수함을 의미합니다.\n",
    "\n",
    "## BLEU Score의 이점\n",
    "- 언어에 구애받지 않음\n",
    "- 계산 속도가 빠름\n",
    "\n",
    "## BLEU Score 계산 방법\n",
    "BLEU 점수를 이해하기 위해 단계별로 설명합니다.\n",
    "\n",
    "### 1) 단어 개수 카운트로 측정하기(Unigram Precision)\n",
    "Unigram Precision은 Candidate 문장과 Reference 문장에서 일치하는 단어의 개수를 기반으로 계산합니다. 예를 들어, 다음과 같은 문장이 있다고 가정합니다.\n",
    "\n",
    "### 2) 중복을 제거하여 보정하기(Modified Unigram Precision)\n",
    "보정된 유니그램 정밀도 계산 방법\n",
    "**Maximum Reference Count (Max_Ref_Count)**: 각 유니그램이 참조 문장에서 최대 몇 번 등장했는지를 카운트합니다.\n",
    "유니그램의 카운트가 Max_Ref_Count를 초과하면, 해당 유니그램의 카운트는 Max_Ref_Count로 대체됩니다."
   ]
  },
  {
   "cell_type": "code",
   "execution_count": 20,
   "metadata": {
    "ExecuteTime": {
     "end_time": "2024-06-28T07:55:55.128976Z",
     "start_time": "2024-06-28T07:55:55.122066Z"
    },
    "id": "BEmcPqJXeqaG"
   },
   "outputs": [],
   "source": [
    "import numpy as np\n",
    "from collections import Counter\n",
    "from nltk import ngrams"
   ]
  },
  {
   "cell_type": "markdown",
   "metadata": {},
   "source": [
    "### 3) 보정된 유니그램 정밀도 (Modified Unigram Precision) 구현하기\n",
    "보정된 유니그램 정밀도를 구현하기 위해서는 유니그램을 카운트 하는  함수와 함수 두 가지 함수를 구현해야 합니다. \n",
    "분모를 구하기 위해서  함수를 사용하고, 분자를 구하기 위해서  함수를 사용하면 보정된 유니그램 정밀도를 구할 수 있습니다. \n",
    "우선 유니그램을 단순히 하는 함수를 simple_count라는 이름의 아래 함수로 구현합니다."
   ]
  },
  {
   "cell_type": "code",
   "execution_count": 21,
   "metadata": {
    "ExecuteTime": {
     "end_time": "2024-06-28T07:55:55.143761Z",
     "start_time": "2024-06-28T07:55:55.132549Z"
    },
    "id": "sOyxrqAKerti"
   },
   "outputs": [],
   "source": [
    "# 토큰화 된 문장(tokens)에서 n-gram을 카운트\n",
    "def simple_count(tokens, n):\n",
    "    return Counter(ngrams(tokens, n))"
   ]
  },
  {
   "cell_type": "code",
   "execution_count": 22,
   "metadata": {
    "ExecuteTime": {
     "end_time": "2024-06-28T07:55:55.158994Z",
     "start_time": "2024-06-28T07:55:55.145760Z"
    },
    "colab": {
     "base_uri": "https://localhost:8080/"
    },
    "id": "0Tfao6sses3J",
    "outputId": "11258de0-de71-4ed8-cdf7-5ac8e812eff7"
   },
   "outputs": [
    {
     "name": "stdout",
     "output_type": "stream",
     "text": [
      "유니그램 카운트 : Counter({('the',): 3, ('It',): 1, ('is',): 1, ('a',): 1, ('guide',): 1, ('to',): 1, ('action',): 1, ('which',): 1, ('ensures',): 1, ('that',): 1, ('military',): 1, ('always',): 1, ('obeys',): 1, ('commands',): 1, ('of',): 1, ('party.',): 1})\n"
     ]
    }
   ],
   "source": [
    "candidate = \"It is a guide to action which ensures that the military always obeys the commands of the party.\"\n",
    "tokens = candidate.split() # 토큰화\n",
    "result = simple_count(tokens, 1) # n = 1은 유니그램\n",
    "print('유니그램 카운트 :',result)"
   ]
  },
  {
   "cell_type": "code",
   "execution_count": 23,
   "metadata": {
    "ExecuteTime": {
     "end_time": "2024-06-28T07:55:55.174174Z",
     "start_time": "2024-06-28T07:55:55.162512Z"
    },
    "colab": {
     "base_uri": "https://localhost:8080/"
    },
    "id": "gpUneYLLetiR",
    "outputId": "e3485c6f-3026-4390-fd4d-5638bd9fdf2a"
   },
   "outputs": [
    {
     "name": "stdout",
     "output_type": "stream",
     "text": [
      "유니그램 카운트 : Counter({('the',): 7})\n"
     ]
    }
   ],
   "source": [
    "candidate = 'the the the the the the the'\n",
    "tokens = candidate.split() # 토큰화\n",
    "result = simple_count(tokens, 1) # n = 1은 유니그램\n",
    "print('유니그램 카운트 :',result)"
   ]
  },
  {
   "cell_type": "code",
   "execution_count": 25,
   "metadata": {
    "ExecuteTime": {
     "end_time": "2024-06-28T07:56:44.862199Z",
     "start_time": "2024-06-28T07:56:44.848409Z"
    },
    "id": "8-_85DbjeuiJ"
   },
   "outputs": [],
   "source": [
    "def count_clip(candidate, reference_list, n):\n",
    "  # Ca 문장에서 n-gram 카운트\n",
    "    ca_cnt = simple_count(candidate, n)\n",
    "    max_ref_cnt_dict = dict()\n",
    "\n",
    "    for ref in reference_list: \n",
    "    # Ref 문장에서 n-gram 카운트\n",
    "        ref_cnt = simple_count(ref, n)\n",
    "\n",
    "    # 각 Ref 문장에 대해서 비교하여 n-gram의 최대 등장 횟수를 계산.\n",
    "        for n_gram in ref_cnt: \n",
    "            if n_gram in max_ref_cnt_dict:\n",
    "                max_ref_cnt_dict[n_gram] = max(ref_cnt[n_gram], max_ref_cnt_dict[n_gram])\n",
    "            else:\n",
    "                max_ref_cnt_dict[n_gram] = ref_cnt[n_gram]\n",
    "\n",
    "    return {\n",
    "        # count_clip = min(count, max_ref_count)\n",
    "        n_gram: min(ca_cnt.get(n_gram, 0), max_ref_cnt_dict.get(n_gram, 0)) for n_gram in ca_cnt\n",
    "     }"
   ]
  },
  {
   "cell_type": "code",
   "execution_count": 26,
   "metadata": {
    "ExecuteTime": {
     "end_time": "2024-06-28T07:56:45.450233Z",
     "start_time": "2024-06-28T07:56:45.429796Z"
    },
    "colab": {
     "base_uri": "https://localhost:8080/"
    },
    "id": "VxvQs1uAev55",
    "outputId": "ab3785f6-6dbc-4de4-9721-4057c45be1cb"
   },
   "outputs": [
    {
     "name": "stdout",
     "output_type": "stream",
     "text": [
      "보정된 유니그램 카운트 : {('the',): 2}\n"
     ]
    }
   ],
   "source": [
    "candidate = 'the the the the the the the'\n",
    "references = [\n",
    "    'the cat is on the mat',\n",
    "    'there is a cat on the mat'\n",
    "]\n",
    "result = count_clip(candidate.split(),list(map(lambda ref: ref.split(), references)),1)\n",
    "print('보정된 유니그램 카운트 :',result)"
   ]
  },
  {
   "cell_type": "code",
   "execution_count": 27,
   "metadata": {
    "ExecuteTime": {
     "end_time": "2024-06-28T07:56:45.617088Z",
     "start_time": "2024-06-28T07:56:45.609501Z"
    },
    "id": "orabqca5ewsp"
   },
   "outputs": [],
   "source": [
    "def modified_precision(candidate, reference_list, n):\n",
    "    clip_cnt = count_clip(candidate, reference_list, n) \n",
    "    total_clip_cnt = sum(clip_cnt.values()) # 분자\n",
    "\n",
    "    cnt = simple_count(candidate, n)\n",
    "    total_cnt = sum(cnt.values()) # 분모\n",
    "\n",
    "    # 분모가 0이 되는 것을 방지\n",
    "    if total_cnt == 0: \n",
    "        total_cnt = 1\n",
    "\n",
    "  # 분자 : count_clip의 합, 분모 : 단순 count의 합 ==> 보정된 정밀도\n",
    "    return (total_clip_cnt / total_cnt)"
   ]
  },
  {
   "cell_type": "code",
   "execution_count": 28,
   "metadata": {
    "ExecuteTime": {
     "end_time": "2024-06-28T07:56:45.782753Z",
     "start_time": "2024-06-28T07:56:45.775050Z"
    },
    "colab": {
     "base_uri": "https://localhost:8080/"
    },
    "id": "4OK2Sgk2ex15",
    "outputId": "3ea6a6f9-fe4a-4894-a405-4c5ec1ab7823"
   },
   "outputs": [
    {
     "name": "stdout",
     "output_type": "stream",
     "text": [
      "보정된 유니그램 정밀도 : 0.2857142857142857\n"
     ]
    }
   ],
   "source": [
    "result = modified_precision(candidate.split(), list(map(lambda ref: ref.split(), references)), n=1)\n",
    "print('보정된 유니그램 정밀도 :',result)"
   ]
  },
  {
   "cell_type": "markdown",
   "metadata": {},
   "source": [
    "### 4) 순서를 고려하기 위해서 n-gram으로 확장하기\n",
    "Unigram Precision은 단어의 순서를 고려하지 않으므로, n-gram Precision을 도입하여 단어의 순서를 고려합니다.\n",
    "\n",
    "### 5) 짧은 문장 길이에 대한 패널티(Brevity Penalty)\n",
    "Candidate 문장의 길이가 Reference보다 짧을 경우 패널티를 적용합니다. 이를 Brevity Penalty라고 합니다."
   ]
  },
  {
   "cell_type": "code",
   "execution_count": 29,
   "metadata": {
    "ExecuteTime": {
     "end_time": "2024-06-28T07:56:45.966171Z",
     "start_time": "2024-06-28T07:56:45.955064Z"
    },
    "id": "-ql4b_9BeyjR"
   },
   "outputs": [],
   "source": [
    "# Ca 길이와 가장 근접한 Ref의 길이를 리턴하는 함수\n",
    "def closest_ref_length(candidate, reference_list):\n",
    "    ca_len = len(candidate) # ca 길이\n",
    "    ref_lens = (len(ref) for ref in reference_list) # Ref들의 길이\n",
    "    # 길이 차이를 최소화하는 Ref를 찾아서 Ref의 길이를 리턴\n",
    "    closest_ref_len = min(ref_lens, key=lambda ref_len: (abs(ref_len - ca_len), ref_len))\n",
    "    return closest_ref_len"
   ]
  },
  {
   "cell_type": "code",
   "execution_count": 30,
   "metadata": {
    "ExecuteTime": {
     "end_time": "2024-06-28T07:56:46.118311Z",
     "start_time": "2024-06-28T07:56:46.108616Z"
    },
    "id": "4-crfbOcez8p"
   },
   "outputs": [],
   "source": [
    "def brevity_penalty(candidate, reference_list):\n",
    "    ca_len = len(candidate)\n",
    "    ref_len = closest_ref_length(candidate, reference_list)\n",
    "\n",
    "    if ca_len > ref_len:\n",
    "        return 1\n",
    "\n",
    "  # candidate가 비어있다면 BP = 0 → BLEU = 0.0\n",
    "    elif ca_len == 0 :\n",
    "        return 0\n",
    "    else:\n",
    "        return np.exp(1 - ref_len/ca_len)"
   ]
  },
  {
   "cell_type": "code",
   "execution_count": 31,
   "metadata": {
    "ExecuteTime": {
     "end_time": "2024-06-28T07:56:46.287826Z",
     "start_time": "2024-06-28T07:56:46.269523Z"
    },
    "id": "8MMy-2vCe015"
   },
   "outputs": [],
   "source": [
    "def bleu_score(candidate, reference_list, weights=[0.25, 0.25, 0.25, 0.25]):\n",
    "    bp = brevity_penalty(candidate, reference_list) # 브레버티 패널티, BP\n",
    "\n",
    "    p_n = [modified_precision(candidate, reference_list, n=n) for n, _ in enumerate(weights,start=1)] \n",
    "    # p1, p2, p3, ..., pn\n",
    "    score = np.sum([w_i * np.log(p_i) if p_i != 0 else 0 for w_i, p_i in zip(weights, p_n)])\n",
    "    return bp * np.exp(score)"
   ]
  },
  {
   "cell_type": "code",
   "execution_count": 32,
   "metadata": {
    "ExecuteTime": {
     "end_time": "2024-06-28T07:56:46.457152Z",
     "start_time": "2024-06-28T07:56:46.435387Z"
    },
    "colab": {
     "base_uri": "https://localhost:8080/"
    },
    "id": "41ipMxGpe1tp",
    "outputId": "a122dd4f-df95-4969-d0ad-1a487d8c424c"
   },
   "outputs": [
    {
     "name": "stdout",
     "output_type": "stream",
     "text": [
      "실습 코드의 BLEU : 0.5045666840058485\n",
      "패키지 NLTK의 BLEU : 0.5045666840058485\n"
     ]
    }
   ],
   "source": [
    "import nltk.translate.bleu_score as bleu\n",
    "\n",
    "candidate = 'It is a guide to action which ensures that the military always obeys the commands of the party'\n",
    "references = [\n",
    "    'It is a guide to action that ensures that the military will forever heed Party commands',\n",
    "    'It is the guiding principle which guarantees the military forces always being under the command of the Party',\n",
    "    'It is the practical guide for the army always to heed the directions of the party'\n",
    "]\n",
    "\n",
    "print('실습 코드의 BLEU :',bleu_score(candidate.split(),list(map(lambda ref: ref.split(), references))))\n",
    "print('패키지 NLTK의 BLEU :',bleu.sentence_bleu(list(map(lambda ref: ref.split(), references)),candidate.split()))"
   ]
  }
 ],
 "metadata": {
  "colab": {
   "collapsed_sections": [],
   "name": "BLEU.ipynb",
   "provenance": [],
   "toc_visible": true
  },
  "kernelspec": {
   "display_name": "Python 3",
   "language": "python",
   "name": "python3"
  },
  "language_info": {
   "codemirror_mode": {
    "name": "ipython",
    "version": 3
   },
   "file_extension": ".py",
   "mimetype": "text/x-python",
   "name": "python",
   "nbconvert_exporter": "python",
   "pygments_lexer": "ipython3",
   "version": "3.8.5"
  }
 },
 "nbformat": 4,
 "nbformat_minor": 1
}
