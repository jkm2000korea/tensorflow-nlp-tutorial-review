{
 "cells": [
  {
   "cell_type": "markdown",
   "metadata": {},
   "source": [
    "# 리뷰완료"
   ]
  },
  {
   "cell_type": "markdown",
   "metadata": {
    "id": "EK7zOfKku1uR"
   },
   "source": [
    "이 자료는 위키독스 딥 러닝을 이용한 자연어 처리 입문의 GloVe 튜토리얼 자료입니다.  \n",
    "\n",
    "링크 : https://wikidocs.net/22885  \n",
    "\n",
    "이 자료는 2021년 10월 14일에 마지막으로 테스트되었습니다."
   ]
  },
  {
   "cell_type": "markdown",
   "metadata": {},
   "source": [
    "글로브(Global Vectors for Word Representation, GloVe)는 카운트 기반과 예측 기반을 모두 사용하는 방법론  \n",
    "2014년에 미국 스탠포드대학에서 개발한 단어 임베딩 방법론입니다.   \n",
    "\n",
    "앞서 학습하였던 기존의   \n",
    "카운트 기반의 LSA(Latent Semantic Analysis)와  \n",
    "예측 기반의 Word2Vec의 단점을 지적하며 이를 보완한다는 목적으로 나왔고,   \n",
    "실제로도 Word2Vec만큼 뛰어난 성능을 보여줍니다.   \n",
    "\n",
    "현재까지의 연구에 따르면 단정적으로 Word2Vec와 GloVe 중에서 어떤 것이 더 뛰어나다고 말할 수는 없고,   \n",
    "이 두 가지 전부를 사용해보고 성능이 더 좋은 것을 사용하는 것이 바람직합니다."
   ]
  },
  {
   "cell_type": "code",
   "execution_count": 1,
   "metadata": {
    "ExecuteTime": {
     "end_time": "2024-06-12T13:14:02.992005Z",
     "start_time": "2024-06-12T13:13:56.801889Z"
    },
    "colab": {
     "base_uri": "https://localhost:8080/"
    },
    "id": "QMjYfR-HthWB",
    "outputId": "c22fd990-8e8e-41ee-e7af-dca1cfdc2583"
   },
   "outputs": [
    {
     "name": "stdout",
     "output_type": "stream",
     "text": [
      "Collecting glove_python_binary\n",
      "  Downloading glove_python_binary-0.2.0-cp38-cp38-win_amd64.whl (244 kB)\n",
      "Requirement already satisfied: numpy in c:\\users\\jkm20\\anaconda3\\lib\\site-packages (from glove_python_binary) (1.24.3)\n",
      "Requirement already satisfied: scipy in c:\\users\\jkm20\\anaconda3\\lib\\site-packages (from glove_python_binary) (1.10.1)\n",
      "Installing collected packages: glove-python-binary\n",
      "Successfully installed glove-python-binary-0.2.0\n"
     ]
    }
   ],
   "source": [
    "!pip install glove_python_binary"
   ]
  },
  {
   "cell_type": "code",
   "execution_count": 2,
   "metadata": {
    "ExecuteTime": {
     "end_time": "2024-06-12T13:14:03.191011Z",
     "start_time": "2024-06-12T13:14:02.994091Z"
    },
    "colab": {
     "base_uri": "https://localhost:8080/"
    },
    "id": "PAfH0_Y1u9_K",
    "outputId": "cb42211e-45dc-44d3-80aa-18a9db4f0fdc"
   },
   "outputs": [
    {
     "name": "stderr",
     "output_type": "stream",
     "text": [
      "'grep'은(는) 내부 또는 외부 명령, 실행할 수 있는 프로그램, 또는\n",
      "배치 파일이 아닙니다.\n"
     ]
    }
   ],
   "source": [
    "!pip list | grep glove"
   ]
  },
  {
   "cell_type": "code",
   "execution_count": 3,
   "metadata": {
    "ExecuteTime": {
     "end_time": "2024-06-12T13:14:09.087079Z",
     "start_time": "2024-06-12T13:14:03.279310Z"
    },
    "colab": {
     "base_uri": "https://localhost:8080/"
    },
    "id": "xqCVq3IStj0b",
    "outputId": "0fd3773f-071b-4bd3-9496-6d4381fca519"
   },
   "outputs": [
    {
     "name": "stderr",
     "output_type": "stream",
     "text": [
      "[nltk_data] Downloading package punkt to\n",
      "[nltk_data]     C:\\Users\\jkm20\\AppData\\Roaming\\nltk_data...\n",
      "[nltk_data]   Package punkt is already up-to-date!\n"
     ]
    },
    {
     "data": {
      "text/plain": [
       "True"
      ]
     },
     "execution_count": 3,
     "metadata": {},
     "output_type": "execute_result"
    }
   ],
   "source": [
    "import nltk\n",
    "nltk.download('punkt')"
   ]
  },
  {
   "cell_type": "code",
   "execution_count": 4,
   "metadata": {
    "ExecuteTime": {
     "end_time": "2024-06-12T13:14:09.144933Z",
     "start_time": "2024-06-12T13:14:09.089091Z"
    },
    "id": "Hw-A0mBCtoAB"
   },
   "outputs": [],
   "source": [
    "import urllib.request\n",
    "import zipfile\n",
    "from lxml import etree\n",
    "import re\n",
    "from nltk.tokenize import word_tokenize, sent_tokenize"
   ]
  },
  {
   "cell_type": "code",
   "execution_count": 5,
   "metadata": {
    "ExecuteTime": {
     "end_time": "2024-06-12T13:14:23.500541Z",
     "start_time": "2024-06-12T13:14:09.148922Z"
    },
    "colab": {
     "base_uri": "https://localhost:8080/"
    },
    "id": "NtkAw421toy4",
    "outputId": "1b0dec5d-5990-449f-c682-b85406b082eb"
   },
   "outputs": [
    {
     "data": {
      "text/plain": [
       "('ted_en-20160408.xml', <http.client.HTTPMessage at 0x1a55ea8c250>)"
      ]
     },
     "execution_count": 5,
     "metadata": {},
     "output_type": "execute_result"
    }
   ],
   "source": [
    "# 데이터 다운로드\n",
    "urllib.request.urlretrieve(\"https://raw.githubusercontent.com/GaoleMeng/RNN-and-FFNN-textClassification/master/ted_en-20160408.xml\", filename=\"ted_en-20160408.xml\")"
   ]
  },
  {
   "cell_type": "code",
   "execution_count": 6,
   "metadata": {
    "ExecuteTime": {
     "end_time": "2024-06-12T13:14:46.760533Z",
     "start_time": "2024-06-12T13:14:23.502361Z"
    },
    "id": "RBIBpnQDtpri"
   },
   "outputs": [],
   "source": [
    "targetXML = open('ted_en-20160408.xml', 'r', encoding='UTF8')\n",
    "target_text = etree.parse(targetXML)\n",
    "\n",
    "# xml 파일로부터 <content>와 </content> 사이의 내용만 가져온다.\n",
    "parse_text = '\\n'.join(target_text.xpath('//content/text()'))\n",
    "\n",
    "# 정규 표현식의 sub 모듈을 통해 content 중간에 등장하는 (Audio), (Laughter) 등의 배경음 부분을 제거.\n",
    "# 해당 코드는 괄호로 구성된 내용을 제거.\n",
    "content_text = re.sub(r'\\([^)]*\\)', '', parse_text)\n",
    "\n",
    "# 입력 코퍼스에 대해서 NLTK를 이용하여 문장 토큰화를 수행.\n",
    "sent_text = sent_tokenize(content_text)\n",
    "\n",
    "# 각 문장에 대해서 구두점을 제거하고, 대문자를 소문자로 변환.\n",
    "normalized_text = []\n",
    "for string in sent_text:\n",
    "     tokens = re.sub(r\"[^a-z0-9]+\", \" \", string.lower())\n",
    "     normalized_text.append(tokens)\n",
    "\n",
    "# 각 문장에 대해서 NLTK를 이용하여 단어 토큰화를 수행.\n",
    "result = [word_tokenize(sentence) for sentence in normalized_text]"
   ]
  },
  {
   "cell_type": "code",
   "execution_count": 7,
   "metadata": {
    "ExecuteTime": {
     "end_time": "2024-06-12T13:14:46.779650Z",
     "start_time": "2024-06-12T13:14:46.760533Z"
    },
    "colab": {
     "base_uri": "https://localhost:8080/"
    },
    "id": "lY3ZR568tswh",
    "outputId": "aa270632-d183-47ef-f34e-276f4e4a2d20"
   },
   "outputs": [
    {
     "name": "stdout",
     "output_type": "stream",
     "text": [
      "총 샘플의 개수 : 273424\n"
     ]
    }
   ],
   "source": [
    "print('총 샘플의 개수 : {}'.format(len(result)))"
   ]
  },
  {
   "cell_type": "code",
   "execution_count": 8,
   "metadata": {
    "ExecuteTime": {
     "end_time": "2024-06-12T13:15:28.212071Z",
     "start_time": "2024-06-12T13:14:46.781659Z"
    },
    "colab": {
     "base_uri": "https://localhost:8080/"
    },
    "id": "bMQ7L6ZutuLY",
    "outputId": "f97ddf8f-b66b-461a-eba0-0f4168ffd592"
   },
   "outputs": [
    {
     "name": "stdout",
     "output_type": "stream",
     "text": [
      "Performing 20 training epochs with 4 threads\n",
      "Epoch 0\n",
      "Epoch 1\n",
      "Epoch 2\n",
      "Epoch 3\n",
      "Epoch 4\n",
      "Epoch 5\n",
      "Epoch 6\n",
      "Epoch 7\n",
      "Epoch 8\n",
      "Epoch 9\n",
      "Epoch 10\n",
      "Epoch 11\n",
      "Epoch 12\n",
      "Epoch 13\n",
      "Epoch 14\n",
      "Epoch 15\n",
      "Epoch 16\n",
      "Epoch 17\n",
      "Epoch 18\n",
      "Epoch 19\n"
     ]
    }
   ],
   "source": [
    "from glove import Corpus, Glove\n",
    "\n",
    "corpus = Corpus() \n",
    "\n",
    "# 훈련 데이터로부터 GloVe에서 사용할 동시 등장 행렬 생성\n",
    "corpus.fit(result, window=5)\n",
    "glove = Glove(no_components=100, learning_rate=0.05)\n",
    "\n",
    "# 학습에 이용할 쓰레드의 개수는 4로 설정, 에포크는 20.\n",
    "glove.fit(corpus.matrix, epochs=20, no_threads=4, verbose=True)\n",
    "glove.add_dictionary(corpus.dictionary)"
   ]
  },
  {
   "cell_type": "code",
   "execution_count": 9,
   "metadata": {
    "ExecuteTime": {
     "end_time": "2024-06-12T13:18:21.215733Z",
     "start_time": "2024-06-12T13:18:21.166643Z"
    },
    "colab": {
     "base_uri": "https://localhost:8080/"
    },
    "id": "eVnbDhult4vg",
    "outputId": "0d75b489-714f-44c4-f60a-e5c67209e557"
   },
   "outputs": [
    {
     "name": "stdout",
     "output_type": "stream",
     "text": [
      "[('woman', 0.9603620760476753), ('guy', 0.8845771865479448), ('girl', 0.8713388800064402), ('kid', 0.8578088462714761)]\n"
     ]
    }
   ],
   "source": [
    "print(glove.most_similar(\"man\"))"
   ]
  },
  {
   "cell_type": "code",
   "execution_count": 10,
   "metadata": {
    "ExecuteTime": {
     "end_time": "2024-06-12T13:18:21.416503Z",
     "start_time": "2024-06-12T13:18:21.367980Z"
    },
    "colab": {
     "base_uri": "https://localhost:8080/"
    },
    "id": "nJhQgU7buUaI",
    "outputId": "ff865b55-cd0f-4a67-855c-f52b7c399f69"
   },
   "outputs": [
    {
     "name": "stdout",
     "output_type": "stream",
     "text": [
      "[('girl', 0.9385090829685033), ('woman', 0.8500961537984489), ('kid', 0.8309936890172507), ('man', 0.8293959373873518)]\n"
     ]
    }
   ],
   "source": [
    "print(glove.most_similar(\"boy\"))"
   ]
  },
  {
   "cell_type": "code",
   "execution_count": 11,
   "metadata": {
    "ExecuteTime": {
     "end_time": "2024-06-12T13:18:21.583272Z",
     "start_time": "2024-06-12T13:18:21.535402Z"
    },
    "colab": {
     "base_uri": "https://localhost:8080/"
    },
    "id": "grpzxNtBuU7B",
    "outputId": "1f74cd1f-0d32-4182-e46d-04d5f8ad4aac"
   },
   "outputs": [
    {
     "name": "stdout",
     "output_type": "stream",
     "text": [
      "[('harvard', 0.8918218549044832), ('mit', 0.8625898726819271), ('stanford', 0.8461804714488959), ('cambridge', 0.8438438652918612)]\n"
     ]
    }
   ],
   "source": [
    "print(glove.most_similar(\"university\"))"
   ]
  },
  {
   "cell_type": "code",
   "execution_count": 12,
   "metadata": {
    "ExecuteTime": {
     "end_time": "2024-06-12T13:18:21.901404Z",
     "start_time": "2024-06-12T13:18:21.853191Z"
    },
    "colab": {
     "base_uri": "https://localhost:8080/"
    },
    "id": "vafP_qTluWqI",
    "outputId": "a4f547e6-7841-43e6-ee71-332bd465724e"
   },
   "outputs": [
    {
     "name": "stdout",
     "output_type": "stream",
     "text": [
      "[('clean', 0.8436546443130409), ('fresh', 0.831762116119486), ('air', 0.8271148031626231), ('electricity', 0.8037353209315635)]\n"
     ]
    }
   ],
   "source": [
    "print(glove.most_similar(\"water\"))"
   ]
  },
  {
   "cell_type": "code",
   "execution_count": 13,
   "metadata": {
    "ExecuteTime": {
     "end_time": "2024-06-12T13:18:22.068599Z",
     "start_time": "2024-06-12T13:18:22.035381Z"
    },
    "colab": {
     "base_uri": "https://localhost:8080/"
    },
    "id": "PDmlKY1guYc4",
    "outputId": "bbf10f2a-64eb-4bc6-d677-d06b62f13c8e"
   },
   "outputs": [
    {
     "name": "stdout",
     "output_type": "stream",
     "text": [
      "[('chemistry', 0.8976574561251395), ('economics', 0.8802583642416056), ('mathematics', 0.8635247517748392), ('beauty', 0.8560893334600962)]\n"
     ]
    }
   ],
   "source": [
    "print(glove.most_similar(\"physics\"))"
   ]
  },
  {
   "cell_type": "code",
   "execution_count": 14,
   "metadata": {
    "ExecuteTime": {
     "end_time": "2024-06-12T13:18:22.234311Z",
     "start_time": "2024-06-12T13:18:22.199875Z"
    },
    "colab": {
     "base_uri": "https://localhost:8080/"
    },
    "id": "KXHmXldruaGI",
    "outputId": "c0512b64-bd19-4b92-ccd3-9b2ae38346b5"
   },
   "outputs": [
    {
     "name": "stdout",
     "output_type": "stream",
     "text": [
      "[('tissue', 0.8301676961442684), ('nerve', 0.8276105368103941), ('channel', 0.7539728235818708), ('skeletal', 0.7485636064153074)]\n"
     ]
    }
   ],
   "source": [
    "print(glove.most_similar(\"muscle\"))"
   ]
  },
  {
   "cell_type": "code",
   "execution_count": 15,
   "metadata": {
    "ExecuteTime": {
     "end_time": "2024-06-12T13:18:22.739352Z",
     "start_time": "2024-06-12T13:18:22.710089Z"
    },
    "colab": {
     "base_uri": "https://localhost:8080/"
    },
    "id": "u2WARsjmubYo",
    "outputId": "f6bd3229-9fc7-4cac-e63f-15549b75032c"
   },
   "outputs": [
    {
     "name": "stdout",
     "output_type": "stream",
     "text": [
      "[('water', 0.8436546443130409), ('fresh', 0.8366765216081009), ('wind', 0.8003151735341588), ('heat', 0.7886525823618243)]\n"
     ]
    }
   ],
   "source": [
    "print(glove.most_similar(\"clean\"))"
   ]
  }
 ],
 "metadata": {
  "colab": {
   "collapsed_sections": [],
   "name": "GloVe.ipynb",
   "provenance": []
  },
  "kernelspec": {
   "display_name": "Python 3",
   "language": "python",
   "name": "python3"
  },
  "language_info": {
   "codemirror_mode": {
    "name": "ipython",
    "version": 3
   },
   "file_extension": ".py",
   "mimetype": "text/x-python",
   "name": "python",
   "nbconvert_exporter": "python",
   "pygments_lexer": "ipython3",
   "version": "3.8.5"
  }
 },
 "nbformat": 4,
 "nbformat_minor": 1
}
