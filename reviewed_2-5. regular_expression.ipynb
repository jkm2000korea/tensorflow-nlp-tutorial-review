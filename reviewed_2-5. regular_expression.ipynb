{
 "cells": [
  {
   "cell_type": "markdown",
   "metadata": {
    "id": "DT6IGJlpjAPj"
   },
   "source": [
    "# 리뷰완료\n",
    "\n",
    "이 자료는 위키독스 딥 러닝을 이용한 자연어 처리 입문의 정규 표현식 튜토리얼 자료입니다.  \n",
    "\n",
    "링크 : https://wikidocs.net/21703"
   ]
  },
  {
   "cell_type": "markdown",
   "metadata": {
    "id": "b6gn0IE_XTyP"
   },
   "source": [
    "# 1. 정규 표현식 실습"
   ]
  },
  {
   "cell_type": "code",
   "execution_count": 1,
   "metadata": {
    "ExecuteTime": {
     "end_time": "2024-05-13T10:05:44.007839Z",
     "start_time": "2024-05-13T10:05:43.994538Z"
    },
    "id": "Q0P7qM5MVlg3"
   },
   "outputs": [],
   "source": [
    "import re"
   ]
  },
  {
   "cell_type": "markdown",
   "metadata": {
    "id": "m2yBhTA_W44y"
   },
   "source": [
    "## 1) .기호"
   ]
  },
  {
   "cell_type": "code",
   "execution_count": 2,
   "metadata": {
    "ExecuteTime": {
     "end_time": "2024-05-13T10:05:54.956481Z",
     "start_time": "2024-05-13T10:05:54.946385Z"
    },
    "id": "b8mK7Tz2Wmqd"
   },
   "outputs": [],
   "source": [
    "r = re.compile(\"a.c\")\n",
    "r.search(\"kkk\") # 아무런 결과도 출력되지 않는다."
   ]
  },
  {
   "cell_type": "code",
   "execution_count": 4,
   "metadata": {
    "ExecuteTime": {
     "end_time": "2024-05-13T10:06:10.371688Z",
     "start_time": "2024-05-13T10:06:10.354372Z"
    }
   },
   "outputs": [
    {
     "data": {
      "text/plain": [
       "re.compile(r'a.c', re.UNICODE)"
      ]
     },
     "execution_count": 4,
     "metadata": {},
     "output_type": "execute_result"
    }
   ],
   "source": [
    "r"
   ]
  },
  {
   "cell_type": "code",
   "execution_count": 3,
   "metadata": {
    "ExecuteTime": {
     "end_time": "2024-05-13T10:05:56.918515Z",
     "start_time": "2024-05-13T10:05:56.903170Z"
    },
    "colab": {
     "base_uri": "https://localhost:8080/"
    },
    "id": "MdJ90SdsWoDc",
    "outputId": "83d53570-f869-47bf-ed25-01e21077fc59"
   },
   "outputs": [
    {
     "data": {
      "text/plain": [
       "<re.Match object; span=(0, 3), match='abc'>"
      ]
     },
     "execution_count": 3,
     "metadata": {},
     "output_type": "execute_result"
    }
   ],
   "source": [
    "r.search(\"abc\")"
   ]
  },
  {
   "cell_type": "markdown",
   "metadata": {
    "id": "YE7no07jW9sG"
   },
   "source": [
    "## 2) ?기호"
   ]
  },
  {
   "cell_type": "code",
   "execution_count": 5,
   "metadata": {
    "ExecuteTime": {
     "end_time": "2024-05-13T10:06:40.309464Z",
     "start_time": "2024-05-13T10:06:40.293374Z"
    },
    "id": "m6e1re5xWo68"
   },
   "outputs": [],
   "source": [
    "r = re.compile(\"ab?c\")\n",
    "r.search(\"abbc\") # 아무런 결과도 출력되지 않는다."
   ]
  },
  {
   "cell_type": "code",
   "execution_count": 8,
   "metadata": {
    "ExecuteTime": {
     "end_time": "2024-05-13T10:06:47.925514Z",
     "start_time": "2024-05-13T10:06:47.908140Z"
    }
   },
   "outputs": [
    {
     "data": {
      "text/plain": [
       "re.compile(r'ab?c', re.UNICODE)"
      ]
     },
     "execution_count": 8,
     "metadata": {},
     "output_type": "execute_result"
    }
   ],
   "source": [
    "r"
   ]
  },
  {
   "cell_type": "code",
   "execution_count": 6,
   "metadata": {
    "ExecuteTime": {
     "end_time": "2024-05-13T10:06:41.160302Z",
     "start_time": "2024-05-13T10:06:41.153118Z"
    },
    "colab": {
     "base_uri": "https://localhost:8080/"
    },
    "id": "Z1JzaXNLWuBT",
    "outputId": "266ae3df-0f6e-492c-8542-be2cb643076d"
   },
   "outputs": [
    {
     "data": {
      "text/plain": [
       "<re.Match object; span=(0, 3), match='abc'>"
      ]
     },
     "execution_count": 6,
     "metadata": {},
     "output_type": "execute_result"
    }
   ],
   "source": [
    "r.search(\"abc\")"
   ]
  },
  {
   "cell_type": "code",
   "execution_count": 7,
   "metadata": {
    "ExecuteTime": {
     "end_time": "2024-05-13T10:06:42.143463Z",
     "start_time": "2024-05-13T10:06:42.130069Z"
    },
    "colab": {
     "base_uri": "https://localhost:8080/"
    },
    "id": "uFEgHiryWuy7",
    "outputId": "3f4300ac-83f9-46e1-db1a-170d1eacbb86"
   },
   "outputs": [
    {
     "data": {
      "text/plain": [
       "<re.Match object; span=(0, 2), match='ac'>"
      ]
     },
     "execution_count": 7,
     "metadata": {},
     "output_type": "execute_result"
    }
   ],
   "source": [
    "r.search(\"ac\")"
   ]
  },
  {
   "cell_type": "markdown",
   "metadata": {
    "id": "nKv1Bws2XC2D"
   },
   "source": [
    "## 3) *기호"
   ]
  },
  {
   "cell_type": "code",
   "execution_count": 9,
   "metadata": {
    "ExecuteTime": {
     "end_time": "2024-05-13T10:07:00.628659Z",
     "start_time": "2024-05-13T10:07:00.624646Z"
    },
    "id": "H097TUCKWvfD"
   },
   "outputs": [],
   "source": [
    "r = re.compile(\"ab*c\")\n",
    "r.search(\"a\") # 아무런 결과도 출력되지 않는다."
   ]
  },
  {
   "cell_type": "code",
   "execution_count": 10,
   "metadata": {
    "ExecuteTime": {
     "end_time": "2024-05-13T10:07:02.775584Z",
     "start_time": "2024-05-13T10:07:02.767168Z"
    }
   },
   "outputs": [
    {
     "data": {
      "text/plain": [
       "re.compile(r'ab*c', re.UNICODE)"
      ]
     },
     "execution_count": 10,
     "metadata": {},
     "output_type": "execute_result"
    }
   ],
   "source": [
    "r"
   ]
  },
  {
   "cell_type": "code",
   "execution_count": 11,
   "metadata": {
    "ExecuteTime": {
     "end_time": "2024-05-13T10:07:06.827120Z",
     "start_time": "2024-05-13T10:07:06.808110Z"
    },
    "colab": {
     "base_uri": "https://localhost:8080/"
    },
    "id": "5SjTs_XyWwfj",
    "outputId": "39c4ecc4-3207-425f-f5ad-158911650537"
   },
   "outputs": [
    {
     "data": {
      "text/plain": [
       "<re.Match object; span=(0, 2), match='ac'>"
      ]
     },
     "execution_count": 11,
     "metadata": {},
     "output_type": "execute_result"
    }
   ],
   "source": [
    "r.search(\"ac\")"
   ]
  },
  {
   "cell_type": "code",
   "execution_count": 12,
   "metadata": {
    "ExecuteTime": {
     "end_time": "2024-05-13T10:07:08.100221Z",
     "start_time": "2024-05-13T10:07:08.079235Z"
    },
    "colab": {
     "base_uri": "https://localhost:8080/"
    },
    "id": "L3q1n3ctWxPD",
    "outputId": "95f1e5b5-5755-45f3-acc0-d30e756f0b30"
   },
   "outputs": [
    {
     "data": {
      "text/plain": [
       "<re.Match object; span=(0, 3), match='abc'>"
      ]
     },
     "execution_count": 12,
     "metadata": {},
     "output_type": "execute_result"
    }
   ],
   "source": [
    "r.search(\"abc\") "
   ]
  },
  {
   "cell_type": "code",
   "execution_count": 13,
   "metadata": {
    "ExecuteTime": {
     "end_time": "2024-05-13T10:07:09.771278Z",
     "start_time": "2024-05-13T10:07:09.761483Z"
    },
    "colab": {
     "base_uri": "https://localhost:8080/"
    },
    "id": "GosGefZeWyFj",
    "outputId": "60f2fead-af3a-4af9-812f-ee5240fd3cfa"
   },
   "outputs": [
    {
     "data": {
      "text/plain": [
       "<re.Match object; span=(0, 6), match='abbbbc'>"
      ]
     },
     "execution_count": 13,
     "metadata": {},
     "output_type": "execute_result"
    }
   ],
   "source": [
    "r.search(\"abbbbc\")"
   ]
  },
  {
   "cell_type": "markdown",
   "metadata": {
    "id": "bEm33duiXF1J"
   },
   "source": [
    "## 4) +기호"
   ]
  },
  {
   "cell_type": "code",
   "execution_count": 14,
   "metadata": {
    "ExecuteTime": {
     "end_time": "2024-05-13T10:07:28.362238Z",
     "start_time": "2024-05-13T10:07:28.353341Z"
    },
    "id": "To40UDWXWzdD"
   },
   "outputs": [],
   "source": [
    "r = re.compile(\"ab+c\")\n",
    "r.search(\"ac\") # 아무런 결과도 출력되지 않는다."
   ]
  },
  {
   "cell_type": "code",
   "execution_count": 15,
   "metadata": {
    "ExecuteTime": {
     "end_time": "2024-05-13T10:07:28.913531Z",
     "start_time": "2024-05-13T10:07:28.898060Z"
    },
    "colab": {
     "base_uri": "https://localhost:8080/"
    },
    "id": "g3YR4mipW0nj",
    "outputId": "545885cc-d698-4adb-981b-39ae5bb227ec"
   },
   "outputs": [
    {
     "data": {
      "text/plain": [
       "<re.Match object; span=(0, 3), match='abc'>"
      ]
     },
     "execution_count": 15,
     "metadata": {},
     "output_type": "execute_result"
    }
   ],
   "source": [
    "r.search(\"abc\")"
   ]
  },
  {
   "cell_type": "code",
   "execution_count": 16,
   "metadata": {
    "ExecuteTime": {
     "end_time": "2024-05-13T10:07:29.528709Z",
     "start_time": "2024-05-13T10:07:29.514831Z"
    },
    "colab": {
     "base_uri": "https://localhost:8080/"
    },
    "id": "Yf3rJg3XW14z",
    "outputId": "0a4e290b-32e9-434e-b1f2-e111de89d4d8"
   },
   "outputs": [
    {
     "data": {
      "text/plain": [
       "<re.Match object; span=(0, 6), match='abbbbc'>"
      ]
     },
     "execution_count": 16,
     "metadata": {},
     "output_type": "execute_result"
    }
   ],
   "source": [
    "r.search(\"abbbbc\")"
   ]
  },
  {
   "cell_type": "markdown",
   "metadata": {
    "id": "Qhf3KYwwXJaR"
   },
   "source": [
    "##5) ^기호"
   ]
  },
  {
   "cell_type": "code",
   "execution_count": 17,
   "metadata": {
    "ExecuteTime": {
     "end_time": "2024-05-13T10:08:02.596419Z",
     "start_time": "2024-05-13T10:08:02.585703Z"
    },
    "id": "lzddNOMrW2vT"
   },
   "outputs": [],
   "source": [
    "r = re.compile(\"^ab\")\n",
    "r.search(\"bbc\") # 아무런 결과도 출력되지 않는다.\n",
    "r.search(\"zab\") # 아무런 결과도 출력되지 않는다."
   ]
  },
  {
   "cell_type": "code",
   "execution_count": 18,
   "metadata": {
    "ExecuteTime": {
     "end_time": "2024-05-13T10:08:03.120678Z",
     "start_time": "2024-05-13T10:08:03.105710Z"
    },
    "colab": {
     "base_uri": "https://localhost:8080/"
    },
    "id": "UK4DupjpXMEM",
    "outputId": "db12df42-ebdb-4d7f-923a-c3e272d3d828"
   },
   "outputs": [
    {
     "data": {
      "text/plain": [
       "<re.Match object; span=(0, 2), match='ab'>"
      ]
     },
     "execution_count": 18,
     "metadata": {},
     "output_type": "execute_result"
    }
   ],
   "source": [
    "r.search(\"abz\")"
   ]
  },
  {
   "cell_type": "markdown",
   "metadata": {
    "id": "kiJnGkxjXORa"
   },
   "source": [
    "## 6) {숫자} 기호"
   ]
  },
  {
   "cell_type": "code",
   "execution_count": 19,
   "metadata": {
    "ExecuteTime": {
     "end_time": "2024-05-13T10:08:06.759830Z",
     "start_time": "2024-05-13T10:08:06.752534Z"
    },
    "id": "nSn928WrXNBj"
   },
   "outputs": [],
   "source": [
    "r = re.compile(\"ab{2}c\")\n",
    "r.search(\"ac\") # 아무런 결과도 출력되지 않는다.\n",
    "r.search(\"abc\") # 아무런 결과도 출력되지 않는다.\n",
    "r.search(\"abbbbbc\") # 아무런 결과도 출력되지 않는다."
   ]
  },
  {
   "cell_type": "code",
   "execution_count": 20,
   "metadata": {
    "ExecuteTime": {
     "end_time": "2024-05-13T10:08:08.246629Z",
     "start_time": "2024-05-13T10:08:08.229835Z"
    },
    "colab": {
     "base_uri": "https://localhost:8080/"
    },
    "id": "S5MGce6uXQGr",
    "outputId": "e8c1fb06-171f-4873-c810-926a9df8ffc8"
   },
   "outputs": [
    {
     "data": {
      "text/plain": [
       "<re.Match object; span=(0, 4), match='abbc'>"
      ]
     },
     "execution_count": 20,
     "metadata": {},
     "output_type": "execute_result"
    }
   ],
   "source": [
    "r.search(\"abbc\")"
   ]
  },
  {
   "cell_type": "markdown",
   "metadata": {
    "id": "gZqzr9G9XWdr"
   },
   "source": [
    "## 7) {숫자1, 숫자2} 기호"
   ]
  },
  {
   "cell_type": "code",
   "execution_count": 21,
   "metadata": {
    "ExecuteTime": {
     "end_time": "2024-05-13T10:08:14.331877Z",
     "start_time": "2024-05-13T10:08:14.323874Z"
    },
    "id": "K15jls0cXRsT"
   },
   "outputs": [],
   "source": [
    "r = re.compile(\"ab{2,8}c\")\n",
    "r.search(\"ac\") # 아무런 결과도 출력되지 않는다.\n",
    "r.search(\"abc\") # 아무런 결과도 출력되지 않는다."
   ]
  },
  {
   "cell_type": "code",
   "execution_count": 22,
   "metadata": {
    "ExecuteTime": {
     "end_time": "2024-05-13T10:08:20.525201Z",
     "start_time": "2024-05-13T10:08:20.516892Z"
    },
    "colab": {
     "base_uri": "https://localhost:8080/"
    },
    "id": "givKMbawXXb8",
    "outputId": "33d848ea-1acd-404e-aaf6-ce4c25729c93"
   },
   "outputs": [
    {
     "data": {
      "text/plain": [
       "<re.Match object; span=(0, 4), match='abbc'>"
      ]
     },
     "execution_count": 22,
     "metadata": {},
     "output_type": "execute_result"
    }
   ],
   "source": [
    "r.search(\"abbc\")"
   ]
  },
  {
   "cell_type": "code",
   "execution_count": 23,
   "metadata": {
    "ExecuteTime": {
     "end_time": "2024-05-13T10:08:24.295466Z",
     "start_time": "2024-05-13T10:08:24.278184Z"
    },
    "colab": {
     "base_uri": "https://localhost:8080/"
    },
    "id": "okMpRJrgXYKL",
    "outputId": "0f2d0bcd-1abc-4863-ed1a-e76dbe6b2f2d"
   },
   "outputs": [
    {
     "data": {
      "text/plain": [
       "<re.Match object; span=(0, 10), match='abbbbbbbbc'>"
      ]
     },
     "execution_count": 23,
     "metadata": {},
     "output_type": "execute_result"
    }
   ],
   "source": [
    "r.search(\"abbbbbbbbc\")\n",
    "# r.search(\"abbbbbbbbbc\") # 아무런 결과도 출력되지 않는다."
   ]
  },
  {
   "cell_type": "code",
   "execution_count": 24,
   "metadata": {
    "ExecuteTime": {
     "end_time": "2024-05-13T10:08:36.530938Z",
     "start_time": "2024-05-13T10:08:36.516070Z"
    },
    "id": "DssKVE_zXY9z"
   },
   "outputs": [],
   "source": [
    "r.search(\"abbbbbbbbbc\") # 아무런 결과도 출력되지 않는다."
   ]
  },
  {
   "cell_type": "markdown",
   "metadata": {
    "id": "vRDsDOADXcAJ"
   },
   "source": [
    "## 8) {숫자,} 기호"
   ]
  },
  {
   "cell_type": "code",
   "execution_count": 25,
   "metadata": {
    "ExecuteTime": {
     "end_time": "2024-05-13T10:09:21.232408Z",
     "start_time": "2024-05-13T10:09:21.212488Z"
    },
    "colab": {
     "base_uri": "https://localhost:8080/"
    },
    "id": "iILQ_lYKXZz7",
    "outputId": "2ab39255-9a7c-4ad9-9090-981b6f89ddd5"
   },
   "outputs": [
    {
     "data": {
      "text/plain": [
       "<re.Match object; span=(0, 10), match='aaaaaaaabc'>"
      ]
     },
     "execution_count": 25,
     "metadata": {},
     "output_type": "execute_result"
    }
   ],
   "source": [
    "r = re.compile(\"a{2,}bc\")\n",
    "r.search(\"bc\") # 아무런 결과도 출력되지 않는다.\n",
    "r.search(\"aa\") # 아무런 결과도 출력되지 않는다.\n",
    "r.search(\"aaaaaaaabc\") # 아무런 결과도 출력되지 않는다."
   ]
  },
  {
   "cell_type": "code",
   "execution_count": 26,
   "metadata": {
    "ExecuteTime": {
     "end_time": "2024-05-13T10:09:21.862822Z",
     "start_time": "2024-05-13T10:09:21.851375Z"
    },
    "colab": {
     "base_uri": "https://localhost:8080/"
    },
    "id": "7lDKWFsPXdq7",
    "outputId": "533bfbdf-771b-4a5a-812d-2d9d1a9ff53d"
   },
   "outputs": [
    {
     "data": {
      "text/plain": [
       "<re.Match object; span=(0, 4), match='aabc'>"
      ]
     },
     "execution_count": 26,
     "metadata": {},
     "output_type": "execute_result"
    }
   ],
   "source": [
    "r.search(\"aabc\")"
   ]
  },
  {
   "cell_type": "markdown",
   "metadata": {
    "id": "qTNV9-zFXgTC"
   },
   "source": [
    "## 9) [] 기호"
   ]
  },
  {
   "cell_type": "code",
   "execution_count": 27,
   "metadata": {
    "ExecuteTime": {
     "end_time": "2024-05-13T10:09:27.131798Z",
     "start_time": "2024-05-13T10:09:27.124690Z"
    },
    "id": "_1d381CQXfMk"
   },
   "outputs": [],
   "source": [
    "r = re.compile(\"[abc]\") # [abc]는 [a-c]와 같다.\n",
    "r.search(\"zzz\") # 아무런 결과도 출력되지 않는다."
   ]
  },
  {
   "cell_type": "code",
   "execution_count": 28,
   "metadata": {
    "ExecuteTime": {
     "end_time": "2024-05-13T10:09:27.848218Z",
     "start_time": "2024-05-13T10:09:27.834351Z"
    },
    "colab": {
     "base_uri": "https://localhost:8080/"
    },
    "id": "WwKqDOdmXjAL",
    "outputId": "64024fff-c929-4fac-f531-8c677b98a9aa"
   },
   "outputs": [
    {
     "data": {
      "text/plain": [
       "<re.Match object; span=(0, 1), match='a'>"
      ]
     },
     "execution_count": 28,
     "metadata": {},
     "output_type": "execute_result"
    }
   ],
   "source": [
    "r.search(\"a\")"
   ]
  },
  {
   "cell_type": "code",
   "execution_count": 29,
   "metadata": {
    "ExecuteTime": {
     "end_time": "2024-05-13T10:09:28.313386Z",
     "start_time": "2024-05-13T10:09:28.303719Z"
    },
    "colab": {
     "base_uri": "https://localhost:8080/"
    },
    "id": "KIMaZGh0XjnL",
    "outputId": "61d8b45a-9a33-43f5-e2b9-08428c2c68c5"
   },
   "outputs": [
    {
     "data": {
      "text/plain": [
       "<re.Match object; span=(0, 1), match='a'>"
      ]
     },
     "execution_count": 29,
     "metadata": {},
     "output_type": "execute_result"
    }
   ],
   "source": [
    "r.search(\"aaaaaaa\")      "
   ]
  },
  {
   "cell_type": "code",
   "execution_count": 30,
   "metadata": {
    "ExecuteTime": {
     "end_time": "2024-05-13T10:09:28.784979Z",
     "start_time": "2024-05-13T10:09:28.780860Z"
    },
    "colab": {
     "base_uri": "https://localhost:8080/"
    },
    "id": "PgLh2qZQXkQb",
    "outputId": "e9db144a-dc66-4f97-f15c-6c88f2c3ef72"
   },
   "outputs": [
    {
     "data": {
      "text/plain": [
       "<re.Match object; span=(0, 1), match='b'>"
      ]
     },
     "execution_count": 30,
     "metadata": {},
     "output_type": "execute_result"
    }
   ],
   "source": [
    "r.search(\"baac\") "
   ]
  },
  {
   "cell_type": "code",
   "execution_count": 31,
   "metadata": {
    "ExecuteTime": {
     "end_time": "2024-05-13T10:09:29.398776Z",
     "start_time": "2024-05-13T10:09:29.381773Z"
    },
    "id": "sU1HYwEvXlDL"
   },
   "outputs": [],
   "source": [
    "r = re.compile(\"[a-z]\")\n",
    "r.search(\"AAA\") # 아무런 결과도 출력되지 않는다.\n",
    "r.search(\"111\") # 아무런 결과도 출력되지 않는다."
   ]
  },
  {
   "cell_type": "code",
   "execution_count": 32,
   "metadata": {
    "ExecuteTime": {
     "end_time": "2024-05-13T10:09:29.891669Z",
     "start_time": "2024-05-13T10:09:29.877701Z"
    },
    "colab": {
     "base_uri": "https://localhost:8080/"
    },
    "id": "XRSxi_00Xoos",
    "outputId": "855a6692-e84e-4633-fd99-ba612088514a"
   },
   "outputs": [
    {
     "data": {
      "text/plain": [
       "<re.Match object; span=(0, 1), match='a'>"
      ]
     },
     "execution_count": 32,
     "metadata": {},
     "output_type": "execute_result"
    }
   ],
   "source": [
    "r.search(\"aBC\")"
   ]
  },
  {
   "cell_type": "markdown",
   "metadata": {
    "id": "4w3_ye7OXtRd"
   },
   "source": [
    "## 10) [^문자] 기호"
   ]
  },
  {
   "cell_type": "code",
   "execution_count": 33,
   "metadata": {
    "ExecuteTime": {
     "end_time": "2024-05-13T10:09:31.634008Z",
     "start_time": "2024-05-13T10:09:31.631019Z"
    },
    "id": "RPIq6u0ZXqtk"
   },
   "outputs": [],
   "source": [
    "r = re.compile(\"[^abc]\")\n",
    "\n",
    "# 아래의 세 코드는 아무런 결과도 출력되지 않는다.\n",
    "r.search(\"a\")\n",
    "r.search(\"ab\") \n",
    "r.search(\"b\")"
   ]
  },
  {
   "cell_type": "code",
   "execution_count": 34,
   "metadata": {
    "ExecuteTime": {
     "end_time": "2024-05-13T10:09:32.130709Z",
     "start_time": "2024-05-13T10:09:32.117567Z"
    },
    "colab": {
     "base_uri": "https://localhost:8080/"
    },
    "id": "V29HDp6lXuRk",
    "outputId": "598dd6f3-5754-4cd6-de86-080c8d9d5d80"
   },
   "outputs": [
    {
     "data": {
      "text/plain": [
       "<re.Match object; span=(0, 1), match='d'>"
      ]
     },
     "execution_count": 34,
     "metadata": {},
     "output_type": "execute_result"
    }
   ],
   "source": [
    "r.search(\"d\")"
   ]
  },
  {
   "cell_type": "code",
   "execution_count": 35,
   "metadata": {
    "ExecuteTime": {
     "end_time": "2024-05-13T10:09:32.532479Z",
     "start_time": "2024-05-13T10:09:32.513314Z"
    },
    "colab": {
     "base_uri": "https://localhost:8080/"
    },
    "id": "EyhmlW_fXu6M",
    "outputId": "f1e0b1cb-7e0c-4822-b8ad-363d4b31b40a"
   },
   "outputs": [
    {
     "data": {
      "text/plain": [
       "<re.Match object; span=(0, 1), match='1'>"
      ]
     },
     "execution_count": 35,
     "metadata": {},
     "output_type": "execute_result"
    }
   ],
   "source": [
    "r.search(\"1\")"
   ]
  },
  {
   "cell_type": "markdown",
   "metadata": {
    "id": "L2SveE-JXz4C"
   },
   "source": [
    "# 2. 정규 표현식 모듈 함수 예제\n"
   ]
  },
  {
   "cell_type": "markdown",
   "metadata": {
    "id": "f5ale9FwX2JM"
   },
   "source": [
    "## 1) re.match() 와 re.search()의 차이"
   ]
  },
  {
   "cell_type": "code",
   "execution_count": 36,
   "metadata": {
    "ExecuteTime": {
     "end_time": "2024-05-13T10:09:37.598693Z",
     "start_time": "2024-05-13T10:09:37.591369Z"
    },
    "id": "2VQ-yhqHXvzL"
   },
   "outputs": [],
   "source": [
    "r = re.compile(\"ab.\")\n",
    "r.match(\"kkkabc\")  #아무런 결과도 출력되지 않는다."
   ]
  },
  {
   "cell_type": "code",
   "execution_count": 37,
   "metadata": {
    "ExecuteTime": {
     "end_time": "2024-05-13T10:09:39.536430Z",
     "start_time": "2024-05-13T10:09:39.530434Z"
    },
    "colab": {
     "base_uri": "https://localhost:8080/"
    },
    "id": "9akE9RmKX39F",
    "outputId": "34ba06ac-f757-4f12-a02a-207b0f5e6816"
   },
   "outputs": [
    {
     "data": {
      "text/plain": [
       "<re.Match object; span=(3, 6), match='abc'>"
      ]
     },
     "execution_count": 37,
     "metadata": {},
     "output_type": "execute_result"
    }
   ],
   "source": [
    "r.search(\"kkkabc\")  "
   ]
  },
  {
   "cell_type": "code",
   "execution_count": 38,
   "metadata": {
    "ExecuteTime": {
     "end_time": "2024-05-13T10:09:40.698314Z",
     "start_time": "2024-05-13T10:09:40.685142Z"
    },
    "colab": {
     "base_uri": "https://localhost:8080/"
    },
    "id": "9HirqX5pX5yz",
    "outputId": "bda26f9f-f21b-4e5c-8f2f-7a740f89a4fe"
   },
   "outputs": [
    {
     "data": {
      "text/plain": [
       "<re.Match object; span=(0, 3), match='abc'>"
      ]
     },
     "execution_count": 38,
     "metadata": {},
     "output_type": "execute_result"
    }
   ],
   "source": [
    "r.match(\"abckkk\")  "
   ]
  },
  {
   "cell_type": "markdown",
   "metadata": {
    "id": "2lrSPDVaYFhS"
   },
   "source": [
    "## 2) re.split()"
   ]
  },
  {
   "cell_type": "code",
   "execution_count": 39,
   "metadata": {
    "ExecuteTime": {
     "end_time": "2024-05-13T10:09:50.762741Z",
     "start_time": "2024-05-13T10:09:50.744021Z"
    },
    "colab": {
     "base_uri": "https://localhost:8080/"
    },
    "id": "vNPyRednX6rM",
    "outputId": "360c8f48-6730-4f17-e319-c771a8cba544"
   },
   "outputs": [
    {
     "data": {
      "text/plain": [
       "['사과', '딸기', '수박', '메론', '바나나']"
      ]
     },
     "execution_count": 39,
     "metadata": {},
     "output_type": "execute_result"
    }
   ],
   "source": [
    "text = \"사과 딸기 수박 메론 바나나\"\n",
    "re.split(\" \",text)"
   ]
  },
  {
   "cell_type": "code",
   "execution_count": 40,
   "metadata": {
    "ExecuteTime": {
     "end_time": "2024-05-13T10:09:53.866461Z",
     "start_time": "2024-05-13T10:09:53.853809Z"
    },
    "colab": {
     "base_uri": "https://localhost:8080/"
    },
    "id": "y2oZWeHoYG3U",
    "outputId": "eaa4202a-98b5-465f-d11f-f69a7f3f3a6f"
   },
   "outputs": [
    {
     "data": {
      "text/plain": [
       "['사과', '딸기', '수박', '메론', '바나나']"
      ]
     },
     "execution_count": 40,
     "metadata": {},
     "output_type": "execute_result"
    }
   ],
   "source": [
    "text=\"\"\"사과\n",
    "딸기\n",
    "수박\n",
    "메론\n",
    "바나나\"\"\"\n",
    "\n",
    "re.split(\"\\n\",text)"
   ]
  },
  {
   "cell_type": "code",
   "execution_count": 41,
   "metadata": {
    "ExecuteTime": {
     "end_time": "2024-05-13T10:10:02.567503Z",
     "start_time": "2024-05-13T10:10:02.546491Z"
    },
    "colab": {
     "base_uri": "https://localhost:8080/"
    },
    "id": "7Ejgw9REYIc8",
    "outputId": "9467bcef-4021-4e90-c2a4-66272a83443c"
   },
   "outputs": [
    {
     "data": {
      "text/plain": [
       "['사과', '딸기', '수박', '메론', '바나나']"
      ]
     },
     "execution_count": 41,
     "metadata": {},
     "output_type": "execute_result"
    }
   ],
   "source": [
    "text = \"사과+딸기+수박+메론+바나나\"\n",
    "\n",
    "re.split(\"\\+\",text)"
   ]
  },
  {
   "cell_type": "markdown",
   "metadata": {
    "id": "ONJQ_GCXYUKu"
   },
   "source": [
    "## 3) re.findall()"
   ]
  },
  {
   "cell_type": "code",
   "execution_count": 42,
   "metadata": {
    "ExecuteTime": {
     "end_time": "2024-05-13T10:10:13.146937Z",
     "start_time": "2024-05-13T10:10:13.139995Z"
    },
    "colab": {
     "base_uri": "https://localhost:8080/"
    },
    "id": "MAOQv_dSYKH8",
    "outputId": "6e0d2a28-f17f-4771-eaa8-d8525bc8eb33"
   },
   "outputs": [
    {
     "data": {
      "text/plain": [
       "['010', '1234', '1234', '30']"
      ]
     },
     "execution_count": 42,
     "metadata": {},
     "output_type": "execute_result"
    }
   ],
   "source": [
    "text = \"\"\"이름 : 김철수\n",
    "전화번호 : 010 - 1234 - 1234\n",
    "나이 : 30\n",
    "성별 : 남\"\"\"\n",
    "\n",
    "re.findall(\"\\d+\",text)"
   ]
  },
  {
   "cell_type": "code",
   "execution_count": 43,
   "metadata": {
    "ExecuteTime": {
     "end_time": "2024-05-13T10:10:13.848765Z",
     "start_time": "2024-05-13T10:10:13.837173Z"
    },
    "colab": {
     "base_uri": "https://localhost:8080/"
    },
    "id": "vLwDEXE8YVnT",
    "outputId": "3af63ed7-e57d-41a5-dfd6-e6aff312507a"
   },
   "outputs": [
    {
     "data": {
      "text/plain": [
       "[]"
      ]
     },
     "execution_count": 43,
     "metadata": {},
     "output_type": "execute_result"
    }
   ],
   "source": [
    "re.findall(\"\\d+\", \"문자열입니다.\")"
   ]
  },
  {
   "cell_type": "markdown",
   "metadata": {
    "id": "_rO5lEAAYZ8I"
   },
   "source": [
    "## 4) re.sub()"
   ]
  },
  {
   "cell_type": "markdown",
   "metadata": {},
   "source": [
    "re.sub(pattern, replace, text)  \n",
    ": text 중 pattern에 해당하는 부분을 replace로 대체한다"
   ]
  },
  {
   "cell_type": "code",
   "execution_count": 44,
   "metadata": {
    "ExecuteTime": {
     "end_time": "2024-05-13T10:10:15.266503Z",
     "start_time": "2024-05-13T10:10:15.245503Z"
    },
    "colab": {
     "base_uri": "https://localhost:8080/"
    },
    "id": "s-XTPtXPYXpD",
    "outputId": "66b82453-08f0-4c26-8bc9-8f031146ac12"
   },
   "outputs": [
    {
     "name": "stdout",
     "output_type": "stream",
     "text": [
      "Regular expression   A regular expression  regex or regexp     sometimes called a rational expression        is  in theoretical computer science and formal language theory  a sequence of characters that define a search pattern \n"
     ]
    }
   ],
   "source": [
    "text = \"Regular expression : A regular expression, regex or regexp[1] (sometimes called a rational expression)[2][3] is, in theoretical computer science and formal language theory, a sequence of characters that define a search pattern.\"\n",
    "\n",
    "preprocessed_text = re.sub('[^a-zA-Z]', ' ', text)\n",
    "#  영문 알파벳이 아닌 문자를 공백으로 대체\n",
    "# '^'는 부정을 의미하며, [a-zA-Z]는 알파벳 문자(a부터 z까지의 소문자와 A부터 Z까지의 대문자)를 나타냅니다. 따라서 [^a-zA-Z]는 알파벳이 아닌 문자를 찾는 패턴\n",
    "print(preprocessed_text)"
   ]
  },
  {
   "cell_type": "markdown",
   "metadata": {
    "id": "nuQQUc57Yizx"
   },
   "source": [
    "# 3. 정규 표현식 텍스트 전처리 예제"
   ]
  },
  {
   "cell_type": "code",
   "execution_count": 45,
   "metadata": {
    "ExecuteTime": {
     "end_time": "2024-05-13T10:10:16.369321Z",
     "start_time": "2024-05-13T10:10:16.361761Z"
    },
    "colab": {
     "base_uri": "https://localhost:8080/"
    },
    "id": "K6TgvUHDYbsL",
    "outputId": "49d4093e-08a8-4c73-ac48-9c471fcc70f2"
   },
   "outputs": [
    {
     "data": {
      "text/plain": [
       "['100', 'John', 'PROF', '101', 'James', 'STUD', '102', 'Mac', 'STUD']"
      ]
     },
     "execution_count": 45,
     "metadata": {},
     "output_type": "execute_result"
    }
   ],
   "source": [
    "text = \"\"\"100 John    PROF\n",
    "101 James   STUD\n",
    "102 Mac   STUD\"\"\"  \n",
    "\n",
    "re.split('\\s+', text) # 공백 문자를 기준으로 분할\n",
    "#  \\s는 공백 문자(스페이스, 탭, 개행 등)를 나타내며, +는 하나 이상의 반복을 의미합니다. 따라서 \\s+는 하나 이상의 연속된 공백 문자를 찾는 패턴"
   ]
  },
  {
   "cell_type": "code",
   "execution_count": 46,
   "metadata": {
    "ExecuteTime": {
     "end_time": "2024-05-13T10:10:16.848697Z",
     "start_time": "2024-05-13T10:10:16.829533Z"
    },
    "colab": {
     "base_uri": "https://localhost:8080/"
    },
    "id": "E_JDBdJoYhdL",
    "outputId": "9f19e3e2-05b1-419b-9f79-23993cd6bf0c"
   },
   "outputs": [
    {
     "data": {
      "text/plain": [
       "['100', '101', '102']"
      ]
     },
     "execution_count": 46,
     "metadata": {},
     "output_type": "execute_result"
    }
   ],
   "source": [
    "re.findall('\\d+',text) # 숫자 decimal을 찾아라\n",
    "# \\d는 숫자를 나타내며, +는 하나 이상의 숫자가 연속되는 것을 의미합니다. 따라서 \\d+는 하나 이상의 연속된 숫자를 찾는 패턴"
   ]
  },
  {
   "cell_type": "code",
   "execution_count": 47,
   "metadata": {
    "ExecuteTime": {
     "end_time": "2024-05-13T10:10:17.265765Z",
     "start_time": "2024-05-13T10:10:17.253014Z"
    },
    "colab": {
     "base_uri": "https://localhost:8080/"
    },
    "id": "Q8RZoINiYv2M",
    "outputId": "3c4d81ac-1d42-4eff-a3fc-172b5c4167e9"
   },
   "outputs": [
    {
     "data": {
      "text/plain": [
       "['J', 'P', 'R', 'O', 'F', 'J', 'S', 'T', 'U', 'D', 'M', 'S', 'T', 'U', 'D']"
      ]
     },
     "execution_count": 47,
     "metadata": {},
     "output_type": "execute_result"
    }
   ],
   "source": [
    "re.findall('[A-Z]',text)"
   ]
  },
  {
   "cell_type": "code",
   "execution_count": 48,
   "metadata": {
    "ExecuteTime": {
     "end_time": "2024-05-13T10:10:17.842290Z",
     "start_time": "2024-05-13T10:10:17.827727Z"
    },
    "colab": {
     "base_uri": "https://localhost:8080/"
    },
    "id": "IGVZJjlCYw48",
    "outputId": "cc5b3e78-db5a-4fa2-8c8d-a1d16eb925eb"
   },
   "outputs": [
    {
     "data": {
      "text/plain": [
       "['PROF', 'STUD', 'STUD']"
      ]
     },
     "execution_count": 48,
     "metadata": {},
     "output_type": "execute_result"
    }
   ],
   "source": [
    "re.findall('[A-Z]{4}',text)\n",
    "# [A-Z]는 대문자 알파벳을 나타내며, {4}는 정확히 4번 반복되는 것을 의미합니다. 따라서 [A-Z]{4}는 연속적으로 4개의 대문자 알파벳을 찾는 패턴"
   ]
  },
  {
   "cell_type": "code",
   "execution_count": 49,
   "metadata": {
    "ExecuteTime": {
     "end_time": "2024-05-13T10:10:18.251364Z",
     "start_time": "2024-05-13T10:10:18.233981Z"
    },
    "colab": {
     "base_uri": "https://localhost:8080/"
    },
    "id": "boLRGNA9Yxus",
    "outputId": "57c14b73-cbd6-4c57-da80-ea3dd084cef8"
   },
   "outputs": [
    {
     "data": {
      "text/plain": [
       "['John', 'James', 'Mac']"
      ]
     },
     "execution_count": 49,
     "metadata": {},
     "output_type": "execute_result"
    }
   ],
   "source": [
    "re.findall('[A-Z][a-z]+',text) #대문자로 시작하고 그 뒤에 하나 이상의 소문자가 나오는 단어\n",
    "# [A-Z]: 이 부분은 대문자 알파벳을 나타내는 정규 표현식입니다.\n",
    "# [a-z]+: 이 부분은 소문자 알파벳이 하나 이상 연속하여 나타나는 패턴을 나타냅니다. +는 하나 이상의 반복을 나타내며, 소문자 알파벳이 연속하여 나타나는 경우를 포함합니다."
   ]
  },
  {
   "cell_type": "markdown",
   "metadata": {
    "id": "bw1IkNwPY0M7"
   },
   "source": [
    "# 4. 정규 표현식을 이용한 토큰화"
   ]
  },
  {
   "cell_type": "code",
   "execution_count": 51,
   "metadata": {
    "ExecuteTime": {
     "end_time": "2024-05-13T10:10:36.134761Z",
     "start_time": "2024-05-13T10:10:36.125776Z"
    },
    "colab": {
     "base_uri": "https://localhost:8080/"
    },
    "id": "AVBfZWdjYy58",
    "outputId": "f25113e9-d3df-41f8-d777-c36c68c21642"
   },
   "outputs": [
    {
     "name": "stdout",
     "output_type": "stream",
     "text": [
      "['Don', 't', 'be', 'fooled', 'by', 'the', 'dark', 'sounding', 'name', 'Mr', 'Jone', 's', 'Orphanage', 'is', 'as', 'cheery', 'as', 'cheery', 'goes', 'for', 'a', 'pastry', 'shop']\n",
      "\n",
      "\n",
      "[\"Don't\", 'be', 'fooled', 'by', 'the', 'dark', 'sounding', 'name,', 'Mr.', \"Jone's\", 'Orphanage', 'is', 'as', 'cheery', 'as', 'cheery', 'goes', 'for', 'a', 'pastry', 'shop']\n"
     ]
    }
   ],
   "source": [
    "from nltk.tokenize import RegexpTokenizer\n",
    "\n",
    "text = \"Don't be fooled by the dark sounding name, Mr. Jone's Orphanage is as cheery as cheery goes for a pastry shop\"\n",
    "\n",
    "tokenizer1 = RegexpTokenizer(\"[\\w]+\") #문자, 숫자, 밑줄(_)로 이루어진 단어를 토큰으로 분리\n",
    "tokenizer2 = RegexpTokenizer(\"[\\s]+\", gaps=True) # 공백을 기준으로 텍스트를 토큰으로 분리\n",
    "\n",
    "print(tokenizer1.tokenize(text))\n",
    "print('\\n')\n",
    "print(tokenizer2.tokenize(text))"
   ]
  },
  {
   "cell_type": "markdown",
   "metadata": {},
   "source": [
    "tokenizer1 = RegexpTokenizer(\"[\\w]+\"):\n",
    "\n",
    "이 토크나이저는 문자, 숫자, 밑줄(_)로 이루어진 단어를 토큰으로 분리합니다.\n",
    "\\w는 단어 문자를 나타내는 메타문자입니다. [a-zA-Z0-9_]와 동일합니다.\n",
    "따라서 이 토크나이저는 연속된 문자, 숫자, 밑줄로 이루어진 단어를 토큰으로 분리합니다. 공백이나 특수 문자는 토큰으로 인식하지 않습니다.\n",
    "tokenizer2 = RegexpTokenizer(\"[\\s]+\", gaps=True):\n",
    "\n",
    "이 토크나이저는 공백을 기준으로 텍스트를 토큰으로 분리합니다.\n",
    "[\\s]+는 하나 이상의 공백 문자를 나타내며, 이를 기준으로 텍스트가 분리됩니다.\n",
    "gaps=True 옵션은 공백이 토큰으로 사용되지 않고 텍스트를 분리하는 기준으로 사용됨을 의미합니다. 따라서 공백은 토큰으로 반환되지 않습니다."
   ]
  },
  {
   "cell_type": "code",
   "execution_count": null,
   "metadata": {},
   "outputs": [],
   "source": []
  }
 ],
 "metadata": {
  "colab": {
   "collapsed_sections": [],
   "name": "regular expression.ipynb",
   "provenance": [],
   "toc_visible": true
  },
  "kernelspec": {
   "display_name": "Python 3",
   "language": "python",
   "name": "python3"
  },
  "language_info": {
   "codemirror_mode": {
    "name": "ipython",
    "version": 3
   },
   "file_extension": ".py",
   "mimetype": "text/x-python",
   "name": "python",
   "nbconvert_exporter": "python",
   "pygments_lexer": "ipython3",
   "version": "3.8.5"
  }
 },
 "nbformat": 4,
 "nbformat_minor": 1
}
