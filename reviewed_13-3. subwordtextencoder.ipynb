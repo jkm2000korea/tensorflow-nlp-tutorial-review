{
 "cells": [
  {
   "cell_type": "markdown",
   "metadata": {},
   "source": [
    "# 리뷰완료"
   ]
  },
  {
   "cell_type": "markdown",
   "metadata": {
    "id": "Jbm7FksfnaR-"
   },
   "source": [
    "2021년 12월 24일에 마지막으로 실행 확인하였습니다.  \n",
    "위키독스 '딥 러닝을 이용한 자연어 처리 입문'의 서브워드 텍스트 인코더 튜토리얼입니다.  \n",
    "\n",
    "링크 : https://wikidocs.net/86792"
   ]
  },
  {
   "cell_type": "code",
   "execution_count": 3,
   "metadata": {
    "ExecuteTime": {
     "end_time": "2024-06-24T12:01:18.679114Z",
     "start_time": "2024-06-24T12:01:18.664051Z"
    }
   },
   "outputs": [],
   "source": [
    "# !pip install tensorflow_datasets"
   ]
  },
  {
   "cell_type": "code",
   "execution_count": 4,
   "metadata": {
    "ExecuteTime": {
     "end_time": "2024-06-24T12:01:19.967252Z",
     "start_time": "2024-06-24T12:01:19.118688Z"
    },
    "id": "ZoI4avtrX9pl"
   },
   "outputs": [],
   "source": [
    "import tensorflow as tf\n",
    "import tensorflow_datasets as tfds\n",
    "import urllib.request\n",
    "import pandas as pd"
   ]
  },
  {
   "cell_type": "code",
   "execution_count": 5,
   "metadata": {
    "ExecuteTime": {
     "end_time": "2024-06-24T12:01:20.714563Z",
     "start_time": "2024-06-24T12:01:20.696744Z"
    },
    "colab": {
     "base_uri": "https://localhost:8080/",
     "height": 35
    },
    "id": "daYwOzN0n93y",
    "outputId": "b676b827-229b-4af1-a372-383489418600"
   },
   "outputs": [
    {
     "data": {
      "text/plain": [
       "'2.13.0'"
      ]
     },
     "execution_count": 5,
     "metadata": {},
     "output_type": "execute_result"
    }
   ],
   "source": [
    "tf.__version__"
   ]
  },
  {
   "cell_type": "code",
   "execution_count": 6,
   "metadata": {
    "ExecuteTime": {
     "end_time": "2024-06-24T12:01:39.003194Z",
     "start_time": "2024-06-24T12:01:21.371296Z"
    },
    "colab": {
     "base_uri": "https://localhost:8080/"
    },
    "id": "RzMkNB9vYgzX",
    "outputId": "60a7f255-5e32-40fe-fa5b-6c06ef820324"
   },
   "outputs": [
    {
     "data": {
      "text/plain": [
       "('IMDb_Reviews.csv', <http.client.HTTPMessage at 0x2c32359eeb0>)"
      ]
     },
     "execution_count": 6,
     "metadata": {},
     "output_type": "execute_result"
    }
   ],
   "source": [
    "urllib.request.urlretrieve(\"https://raw.githubusercontent.com/LawrenceDuan/IMDb-Review-Analysis/master/IMDb_Reviews.csv\", filename=\"IMDb_Reviews.csv\")"
   ]
  },
  {
   "cell_type": "code",
   "execution_count": 7,
   "metadata": {
    "ExecuteTime": {
     "end_time": "2024-06-24T12:01:39.510760Z",
     "start_time": "2024-06-24T12:01:39.005203Z"
    },
    "id": "8t2ygF8KY1Ff"
   },
   "outputs": [],
   "source": [
    "train_df = pd.read_csv('IMDb_Reviews.csv')"
   ]
  },
  {
   "cell_type": "code",
   "execution_count": 8,
   "metadata": {
    "ExecuteTime": {
     "end_time": "2024-06-24T12:01:39.549532Z",
     "start_time": "2024-06-24T12:01:39.510760Z"
    }
   },
   "outputs": [
    {
     "data": {
      "text/html": [
       "<div>\n",
       "<style scoped>\n",
       "    .dataframe tbody tr th:only-of-type {\n",
       "        vertical-align: middle;\n",
       "    }\n",
       "\n",
       "    .dataframe tbody tr th {\n",
       "        vertical-align: top;\n",
       "    }\n",
       "\n",
       "    .dataframe thead th {\n",
       "        text-align: right;\n",
       "    }\n",
       "</style>\n",
       "<table border=\"1\" class=\"dataframe\">\n",
       "  <thead>\n",
       "    <tr style=\"text-align: right;\">\n",
       "      <th></th>\n",
       "      <th>review</th>\n",
       "      <th>sentiment</th>\n",
       "    </tr>\n",
       "  </thead>\n",
       "  <tbody>\n",
       "    <tr>\n",
       "      <th>0</th>\n",
       "      <td>My family and I normally do not watch local mo...</td>\n",
       "      <td>1</td>\n",
       "    </tr>\n",
       "    <tr>\n",
       "      <th>1</th>\n",
       "      <td>Believe it or not, this was at one time the wo...</td>\n",
       "      <td>0</td>\n",
       "    </tr>\n",
       "    <tr>\n",
       "      <th>2</th>\n",
       "      <td>After some internet surfing, I found the \"Home...</td>\n",
       "      <td>0</td>\n",
       "    </tr>\n",
       "    <tr>\n",
       "      <th>3</th>\n",
       "      <td>One of the most unheralded great works of anim...</td>\n",
       "      <td>1</td>\n",
       "    </tr>\n",
       "    <tr>\n",
       "      <th>4</th>\n",
       "      <td>It was the Sixties, and anyone with long hair ...</td>\n",
       "      <td>0</td>\n",
       "    </tr>\n",
       "    <tr>\n",
       "      <th>...</th>\n",
       "      <td>...</td>\n",
       "      <td>...</td>\n",
       "    </tr>\n",
       "    <tr>\n",
       "      <th>49995</th>\n",
       "      <td>the people who came up with this are SICK AND ...</td>\n",
       "      <td>0</td>\n",
       "    </tr>\n",
       "    <tr>\n",
       "      <th>49996</th>\n",
       "      <td>The script is so so laughable... this in turn,...</td>\n",
       "      <td>0</td>\n",
       "    </tr>\n",
       "    <tr>\n",
       "      <th>49997</th>\n",
       "      <td>\"So there's this bride, you see, and she gets ...</td>\n",
       "      <td>0</td>\n",
       "    </tr>\n",
       "    <tr>\n",
       "      <th>49998</th>\n",
       "      <td>Your mind will not be satisfied by this nobud...</td>\n",
       "      <td>0</td>\n",
       "    </tr>\n",
       "    <tr>\n",
       "      <th>49999</th>\n",
       "      <td>The chaser's war on everything is a weekly sho...</td>\n",
       "      <td>1</td>\n",
       "    </tr>\n",
       "  </tbody>\n",
       "</table>\n",
       "<p>50000 rows × 2 columns</p>\n",
       "</div>"
      ],
      "text/plain": [
       "                                                  review  sentiment\n",
       "0      My family and I normally do not watch local mo...          1\n",
       "1      Believe it or not, this was at one time the wo...          0\n",
       "2      After some internet surfing, I found the \"Home...          0\n",
       "3      One of the most unheralded great works of anim...          1\n",
       "4      It was the Sixties, and anyone with long hair ...          0\n",
       "...                                                  ...        ...\n",
       "49995  the people who came up with this are SICK AND ...          0\n",
       "49996  The script is so so laughable... this in turn,...          0\n",
       "49997  \"So there's this bride, you see, and she gets ...          0\n",
       "49998  Your mind will not be satisfied by this nobud...          0\n",
       "49999  The chaser's war on everything is a weekly sho...          1\n",
       "\n",
       "[50000 rows x 2 columns]"
      ]
     },
     "execution_count": 8,
     "metadata": {},
     "output_type": "execute_result"
    }
   ],
   "source": [
    "train_df"
   ]
  },
  {
   "cell_type": "code",
   "execution_count": 10,
   "metadata": {
    "ExecuteTime": {
     "end_time": "2024-06-24T12:01:46.254602Z",
     "start_time": "2024-06-24T12:01:46.245624Z"
    },
    "colab": {
     "base_uri": "https://localhost:8080/"
    },
    "id": "d4a8-uJ6Y52P",
    "outputId": "8a59385e-3e13-43df-c5c5-fc3be333649e"
   },
   "outputs": [
    {
     "data": {
      "text/plain": [
       "0        My family and I normally do not watch local mo...\n",
       "1        Believe it or not, this was at one time the wo...\n",
       "2        After some internet surfing, I found the \"Home...\n",
       "3        One of the most unheralded great works of anim...\n",
       "4        It was the Sixties, and anyone with long hair ...\n",
       "                               ...                        \n",
       "49995    the people who came up with this are SICK AND ...\n",
       "49996    The script is so so laughable... this in turn,...\n",
       "49997    \"So there's this bride, you see, and she gets ...\n",
       "49998    Your mind will not be satisfied by this nobud...\n",
       "49999    The chaser's war on everything is a weekly sho...\n",
       "Name: review, Length: 50000, dtype: object"
      ]
     },
     "execution_count": 10,
     "metadata": {},
     "output_type": "execute_result"
    }
   ],
   "source": [
    "train_df['review']"
   ]
  },
  {
   "cell_type": "code",
   "execution_count": null,
   "metadata": {
    "ExecuteTime": {
     "start_time": "2024-06-24T12:01:46.854Z"
    },
    "id": "hQpdGiUiY_bf"
   },
   "outputs": [],
   "source": [
    "tokenizer = tfds.deprecated.text.SubwordTextEncoder.build_from_corpus(\n",
    "    train_df['review'], target_vocab_size=2**13)"
   ]
  },
  {
   "cell_type": "code",
   "execution_count": null,
   "metadata": {
    "ExecuteTime": {
     "start_time": "2024-06-24T12:01:53.408Z"
    },
    "colab": {
     "base_uri": "https://localhost:8080/"
    },
    "id": "uZj744JQabta",
    "outputId": "e0efa748-432c-4ccb-effa-b8a09dd36148"
   },
   "outputs": [],
   "source": [
    "print(tokenizer.subwords[:100])"
   ]
  },
  {
   "cell_type": "code",
   "execution_count": null,
   "metadata": {
    "ExecuteTime": {
     "start_time": "2024-06-24T12:01:54.608Z"
    },
    "colab": {
     "base_uri": "https://localhost:8080/"
    },
    "id": "PBHZXjPK1lW7",
    "outputId": "a1e75076-1e91-4922-8233-a3fe9b31ccc0"
   },
   "outputs": [],
   "source": [
    "print(train_df['review'][20])"
   ]
  },
  {
   "cell_type": "code",
   "execution_count": null,
   "metadata": {
    "ExecuteTime": {
     "start_time": "2024-06-24T12:01:55.208Z"
    },
    "colab": {
     "base_uri": "https://localhost:8080/"
    },
    "id": "3dkHSWWjZNA_",
    "outputId": "828f17d4-bc49-4be6-e7de-2f6f53b07976"
   },
   "outputs": [],
   "source": [
    "print('Tokenized sample question: {}'.format(tokenizer.encode(train_df['review'][20])))"
   ]
  },
  {
   "cell_type": "code",
   "execution_count": null,
   "metadata": {
    "ExecuteTime": {
     "start_time": "2024-06-24T12:01:56.648Z"
    },
    "colab": {
     "base_uri": "https://localhost:8080/"
    },
    "id": "FXdSlmhoabJR",
    "outputId": "bb523f68-7923-4dd1-afdd-d4579bc4600e"
   },
   "outputs": [],
   "source": [
    "# train_df에 존재하는 문장 중 일부를 발췌\n",
    "sample_string = \"It's mind-blowing to me that this film was even made.\"\n",
    "\n",
    "# 인코딩한 결과를 tokenized_string에 저장\n",
    "tokenized_string = tokenizer.encode(sample_string)\n",
    "print ('정수 인코딩 후의 문장 : {}'.format(tokenized_string))\n",
    "\n",
    "# 이를 다시 디코딩\n",
    "original_string = tokenizer.decode(tokenized_string)\n",
    "print ('기존 문장 : {}'.format(original_string))"
   ]
  },
  {
   "cell_type": "code",
   "execution_count": null,
   "metadata": {
    "ExecuteTime": {
     "start_time": "2024-06-24T12:01:57.383Z"
    },
    "colab": {
     "base_uri": "https://localhost:8080/"
    },
    "id": "76mGh70lal8o",
    "outputId": "42c80875-ae23-4f95-82e6-673675557fd3"
   },
   "outputs": [],
   "source": [
    "print('단어 집합의 크기(Vocab size) :', tokenizer.vocab_size)"
   ]
  },
  {
   "cell_type": "code",
   "execution_count": null,
   "metadata": {
    "ExecuteTime": {
     "start_time": "2024-06-24T12:02:04.115Z"
    },
    "colab": {
     "base_uri": "https://localhost:8080/"
    },
    "id": "9W054Sf6Zjw3",
    "outputId": "986d19dd-b813-4738-f54c-25941ffb8422"
   },
   "outputs": [],
   "source": [
    "for ts in tokenized_string:\n",
    "  print ('{} ----> {}'.format(ts, tokenizer.decode([ts])))"
   ]
  },
  {
   "cell_type": "code",
   "execution_count": null,
   "metadata": {
    "ExecuteTime": {
     "start_time": "2024-06-24T12:02:05.753Z"
    },
    "colab": {
     "base_uri": "https://localhost:8080/"
    },
    "id": "piGvKELplgNU",
    "outputId": "2fd3c52b-d5c2-4ebc-d023-7a42e580e412"
   },
   "outputs": [],
   "source": [
    "sample_string = \"It's mind-blowing to me that this film was evenxyz made.\"\n",
    "\n",
    "# encode\n",
    "tokenized_string = tokenizer.encode(sample_string)\n",
    "print ('정수 인코딩 후의 문장 {}'.format(tokenized_string))\n",
    "\n",
    "# encoding한 문장을 다시 decode\n",
    "original_string = tokenizer.decode(tokenized_string)\n",
    "print ('기존 문장: {}'.format(original_string))\n",
    "\n",
    "assert original_string == sample_string"
   ]
  },
  {
   "cell_type": "code",
   "execution_count": null,
   "metadata": {
    "ExecuteTime": {
     "start_time": "2024-06-24T12:02:07.043Z"
    },
    "colab": {
     "base_uri": "https://localhost:8080/"
    },
    "id": "9JCAXr27vSuI",
    "outputId": "c31afd21-e8ba-4a39-f710-78efd53385a6"
   },
   "outputs": [],
   "source": [
    "for ts in tokenized_string:\n",
    "  print ('{} ----> {}'.format(ts, tokenizer.decode([ts])))"
   ]
  },
  {
   "cell_type": "markdown",
   "metadata": {
    "id": "Se3bDGsAn8eu"
   },
   "source": [
    "네이버 영화 리뷰에 대해서도 위에서 IMDB 영화 리뷰에 대해서 수행한 동일한 작업을 진행해봅시다."
   ]
  },
  {
   "cell_type": "code",
   "execution_count": null,
   "metadata": {
    "ExecuteTime": {
     "start_time": "2024-06-24T12:02:10.133Z"
    },
    "colab": {
     "base_uri": "https://localhost:8080/"
    },
    "id": "ea1Q3VuCaZTJ",
    "outputId": "382dc32d-16e6-4c8e-ef8a-bae3a18ec442"
   },
   "outputs": [],
   "source": [
    "import urllib.request\n",
    "\n",
    "urllib.request.urlretrieve(\"https://raw.githubusercontent.com/e9t/nsmc/master/ratings_train.txt\", filename=\"ratings_train.txt\")\n",
    "urllib.request.urlretrieve(\"https://raw.githubusercontent.com/e9t/nsmc/master/ratings_test.txt\", filename=\"ratings_test.txt\")"
   ]
  },
  {
   "cell_type": "code",
   "execution_count": null,
   "metadata": {
    "ExecuteTime": {
     "start_time": "2024-06-24T12:02:12.099Z"
    },
    "id": "PcCduq1rbUso"
   },
   "outputs": [],
   "source": [
    "train_data = pd.read_table('ratings_train.txt')\n",
    "test_data = pd.read_table('ratings_test.txt')"
   ]
  },
  {
   "cell_type": "code",
   "execution_count": null,
   "metadata": {
    "ExecuteTime": {
     "start_time": "2024-06-24T12:02:17.668Z"
    },
    "colab": {
     "base_uri": "https://localhost:8080/",
     "height": 206
    },
    "id": "Mc6zn1tVbVt_",
    "outputId": "6990869e-2dd6-42cd-8b2b-64e8191b7376"
   },
   "outputs": [],
   "source": [
    "train_data[:5] # 상위 5개 출력"
   ]
  },
  {
   "cell_type": "code",
   "execution_count": null,
   "metadata": {
    "ExecuteTime": {
     "start_time": "2024-06-24T12:02:18.263Z"
    },
    "colab": {
     "base_uri": "https://localhost:8080/"
    },
    "id": "d7i7tXANbn1J",
    "outputId": "b04309a6-7a7b-4695-d585-deaded5871ba"
   },
   "outputs": [],
   "source": [
    "print(train_data.isnull().values.any())"
   ]
  },
  {
   "cell_type": "code",
   "execution_count": null,
   "metadata": {
    "ExecuteTime": {
     "start_time": "2024-06-24T12:02:18.788Z"
    },
    "colab": {
     "base_uri": "https://localhost:8080/"
    },
    "id": "PVOo0v5EbqIY",
    "outputId": "18f56556-10c0-4bbe-8c80-4db0ba6f01ef"
   },
   "outputs": [],
   "source": [
    "print(train_data.isnull().sum())"
   ]
  },
  {
   "cell_type": "code",
   "execution_count": null,
   "metadata": {
    "ExecuteTime": {
     "start_time": "2024-06-24T12:02:19.283Z"
    },
    "colab": {
     "base_uri": "https://localhost:8080/"
    },
    "id": "8BoywPnTbsNx",
    "outputId": "a376a7e3-0226-43ef-ca59-57bd92ebf782"
   },
   "outputs": [],
   "source": [
    "train_data = train_data.dropna(how = 'any') # Null 값이 존재하는 행 제거\n",
    "print(train_data.isnull().values.any()) # Null 값이 존재하는지 확인"
   ]
  },
  {
   "cell_type": "markdown",
   "metadata": {
    "id": "DIdLXwqkcvAh"
   },
   "source": [
    "The vocabulary is \"trained\" on a corpus and all wordpieces are stored in a vocabulary file. To generate a vocabulary from a corpus, use tfds.features.text.SubwordTextEncoder.build_from_corpus."
   ]
  },
  {
   "cell_type": "code",
   "execution_count": null,
   "metadata": {
    "ExecuteTime": {
     "start_time": "2024-06-24T12:02:20.423Z"
    },
    "id": "t_mcMEyFbYsn"
   },
   "outputs": [],
   "source": [
    "tokenizer = tfds.deprecated.text.SubwordTextEncoder.build_from_corpus(\n",
    "    train_data['document'], target_vocab_size=2**13)"
   ]
  },
  {
   "cell_type": "code",
   "execution_count": null,
   "metadata": {
    "ExecuteTime": {
     "start_time": "2024-06-24T12:02:20.993Z"
    },
    "colab": {
     "base_uri": "https://localhost:8080/"
    },
    "id": "HoRiLWumhdHA",
    "outputId": "64c9bbae-4722-4ff3-8d35-3b662c73a2a0"
   },
   "outputs": [],
   "source": [
    "print(tokenizer.subwords[:100])"
   ]
  },
  {
   "cell_type": "code",
   "execution_count": null,
   "metadata": {
    "ExecuteTime": {
     "start_time": "2024-06-24T12:02:21.488Z"
    },
    "colab": {
     "base_uri": "https://localhost:8080/"
    },
    "id": "IXdEoOHx3U3r",
    "outputId": "a79e7a9a-d76f-4603-b0c9-004a746e7372"
   },
   "outputs": [],
   "source": [
    "print(train_data['document'][20])"
   ]
  },
  {
   "cell_type": "code",
   "execution_count": null,
   "metadata": {
    "ExecuteTime": {
     "start_time": "2024-06-24T12:02:21.953Z"
    },
    "colab": {
     "base_uri": "https://localhost:8080/"
    },
    "id": "R7E8qlK2bdqX",
    "outputId": "9c28615c-a60d-4841-9ccc-1b3907abf476"
   },
   "outputs": [],
   "source": [
    "print('Tokenized sample question: {}'.format(tokenizer.encode(train_data['document'][20])))"
   ]
  },
  {
   "cell_type": "code",
   "execution_count": null,
   "metadata": {
    "ExecuteTime": {
     "start_time": "2024-06-24T12:02:22.432Z"
    },
    "colab": {
     "base_uri": "https://localhost:8080/"
    },
    "id": "oV8H8R9Xb8Eu",
    "outputId": "ef8a642d-fbfe-4964-e979-7ef5a33284c5"
   },
   "outputs": [],
   "source": [
    "sample_string = train_data['document'][21]\n",
    "\n",
    "# encode\n",
    "tokenized_string = tokenizer.encode(sample_string)\n",
    "print ('정수 인코딩 후의 문장 {}'.format(tokenized_string))\n",
    "\n",
    "# encoding한 문장을 다시 decode\n",
    "original_string = tokenizer.decode(tokenized_string)\n",
    "print ('기존 문장: {}'.format(original_string))\n",
    "\n",
    "assert original_string == sample_string"
   ]
  },
  {
   "cell_type": "code",
   "execution_count": null,
   "metadata": {
    "ExecuteTime": {
     "start_time": "2024-06-24T12:02:22.988Z"
    },
    "colab": {
     "base_uri": "https://localhost:8080/"
    },
    "id": "U-dBPUHWderE",
    "outputId": "aa52c4fa-e14c-479f-89db-f96e5f3954c1"
   },
   "outputs": [],
   "source": [
    "for ts in tokenized_string:\n",
    "  print ('{} ----> {}'.format(ts, tokenizer.decode([ts])))"
   ]
  },
  {
   "cell_type": "code",
   "execution_count": null,
   "metadata": {
    "ExecuteTime": {
     "start_time": "2024-06-24T12:02:23.483Z"
    },
    "colab": {
     "base_uri": "https://localhost:8080/"
    },
    "id": "v_0X1RqrifJX",
    "outputId": "8cb6a8cc-9556-442f-e89e-b473df032134"
   },
   "outputs": [],
   "source": [
    "sample_string = '이 영화 굉장히 재밌다 킄핫핫ㅎ'\n",
    "\n",
    "# encode\n",
    "tokenized_string = tokenizer.encode(sample_string)\n",
    "print ('정수 인코딩 후의 문장 {}'.format(tokenized_string))\n",
    "\n",
    "# encoding한 문장을 다시 decode\n",
    "original_string = tokenizer.decode(tokenized_string)\n",
    "print ('기존 문장: {}'.format(original_string))\n",
    "\n",
    "assert original_string == sample_string"
   ]
  },
  {
   "cell_type": "code",
   "execution_count": null,
   "metadata": {
    "ExecuteTime": {
     "start_time": "2024-06-24T12:02:24.053Z"
    },
    "colab": {
     "base_uri": "https://localhost:8080/"
    },
    "id": "ZwJDOhEOimwo",
    "outputId": "3b49e0d6-71ac-4b88-812e-fb7166022d60"
   },
   "outputs": [],
   "source": [
    "for ts in tokenized_string:\n",
    "  print ('{} ----> {}'.format(ts, tokenizer.decode([ts])))"
   ]
  }
 ],
 "metadata": {
  "colab": {
   "collapsed_sections": [],
   "name": "SubwordTextEncoder.ipynb",
   "provenance": []
  },
  "kernelspec": {
   "display_name": "Python 3",
   "language": "python",
   "name": "python3"
  },
  "language_info": {
   "codemirror_mode": {
    "name": "ipython",
    "version": 3
   },
   "file_extension": ".py",
   "mimetype": "text/x-python",
   "name": "python",
   "nbconvert_exporter": "python",
   "pygments_lexer": "ipython3",
   "version": "3.8.5"
  }
 },
 "nbformat": 4,
 "nbformat_minor": 1
}
