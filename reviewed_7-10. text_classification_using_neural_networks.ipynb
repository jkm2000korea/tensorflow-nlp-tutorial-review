{
 "cells": [
  {
   "cell_type": "markdown",
   "metadata": {},
   "source": [
    "# 리뷰완료"
   ]
  },
  {
   "cell_type": "markdown",
   "metadata": {
    "id": "jRihwEAul2G4"
   },
   "source": [
    "# 1. 케라스의 texts_to_matrix() 이해하기"
   ]
  },
  {
   "cell_type": "code",
   "execution_count": 1,
   "metadata": {
    "ExecuteTime": {
     "end_time": "2024-06-04T12:48:50.506563Z",
     "start_time": "2024-06-04T12:48:34.360908Z"
    },
    "id": "SDmt4RWFloBe"
   },
   "outputs": [],
   "source": [
    "import numpy as np\n",
    "from tensorflow.keras.preprocessing.text import Tokenizer"
   ]
  },
  {
   "cell_type": "code",
   "execution_count": 2,
   "metadata": {
    "ExecuteTime": {
     "end_time": "2024-06-04T12:48:50.522213Z",
     "start_time": "2024-06-04T12:48:50.506563Z"
    },
    "id": "n8IfjC9glrZC"
   },
   "outputs": [],
   "source": [
    "texts = ['먹고 싶은 사과', '먹고 싶은 바나나', '길고 노란 바나나 바나나', '저는 과일이 좋아요']"
   ]
  },
  {
   "cell_type": "code",
   "execution_count": 3,
   "metadata": {
    "ExecuteTime": {
     "end_time": "2024-06-04T12:48:50.577609Z",
     "start_time": "2024-06-04T12:48:50.522213Z"
    },
    "colab": {
     "base_uri": "https://localhost:8080/"
    },
    "id": "Y4xqIcCqlsB4",
    "outputId": "2a3b161f-72a2-468d-febc-90637b65d479"
   },
   "outputs": [
    {
     "name": "stdout",
     "output_type": "stream",
     "text": [
      "{'바나나': 1, '먹고': 2, '싶은': 3, '사과': 4, '길고': 5, '노란': 6, '저는': 7, '과일이': 8, '좋아요': 9}\n"
     ]
    }
   ],
   "source": [
    "tokenizer = Tokenizer()\n",
    "tokenizer.fit_on_texts(texts)\n",
    "print(tokenizer.word_index)"
   ]
  },
  {
   "cell_type": "code",
   "execution_count": 4,
   "metadata": {
    "ExecuteTime": {
     "end_time": "2024-06-04T12:48:50.591890Z",
     "start_time": "2024-06-04T12:48:50.581898Z"
    },
    "colab": {
     "base_uri": "https://localhost:8080/"
    },
    "id": "QRjr1wNeltIp",
    "outputId": "2b21cc0a-6d15-498f-e6eb-981f85ccd776"
   },
   "outputs": [
    {
     "name": "stdout",
     "output_type": "stream",
     "text": [
      "[[0. 0. 1. 1. 1. 0. 0. 0. 0. 0.]\n",
      " [0. 1. 1. 1. 0. 0. 0. 0. 0. 0.]\n",
      " [0. 2. 0. 0. 0. 1. 1. 0. 0. 0.]\n",
      " [0. 0. 0. 0. 0. 0. 0. 1. 1. 1.]]\n"
     ]
    }
   ],
   "source": [
    "print(tokenizer.texts_to_matrix(texts, mode = 'count'))"
   ]
  },
  {
   "cell_type": "code",
   "execution_count": 5,
   "metadata": {
    "ExecuteTime": {
     "end_time": "2024-06-04T12:48:50.603933Z",
     "start_time": "2024-06-04T12:48:50.595292Z"
    },
    "colab": {
     "base_uri": "https://localhost:8080/"
    },
    "id": "_Ep-O1wXlwLx",
    "outputId": "1fd6d9ab-8af1-4b41-baa9-efcaaf20116c"
   },
   "outputs": [
    {
     "name": "stdout",
     "output_type": "stream",
     "text": [
      "[[0. 0. 1. 1. 1. 0. 0. 0. 0. 0.]\n",
      " [0. 1. 1. 1. 0. 0. 0. 0. 0. 0.]\n",
      " [0. 1. 0. 0. 0. 1. 1. 0. 0. 0.]\n",
      " [0. 0. 0. 0. 0. 0. 0. 1. 1. 1.]]\n"
     ]
    }
   ],
   "source": [
    "print(tokenizer.texts_to_matrix(texts, mode = 'binary'))"
   ]
  },
  {
   "cell_type": "code",
   "execution_count": 6,
   "metadata": {
    "ExecuteTime": {
     "end_time": "2024-06-04T12:48:50.618764Z",
     "start_time": "2024-06-04T12:48:50.603933Z"
    },
    "colab": {
     "base_uri": "https://localhost:8080/"
    },
    "id": "dR6BSbn0lyFo",
    "outputId": "a1f43500-2c0e-4f28-d987-62a26f22357f"
   },
   "outputs": [
    {
     "name": "stdout",
     "output_type": "stream",
     "text": [
      "[[0.   0.   0.85 0.85 1.1  0.   0.   0.   0.   0.  ]\n",
      " [0.   0.85 0.85 0.85 0.   0.   0.   0.   0.   0.  ]\n",
      " [0.   1.43 0.   0.   0.   1.1  1.1  0.   0.   0.  ]\n",
      " [0.   0.   0.   0.   0.   0.   0.   1.1  1.1  1.1 ]]\n"
     ]
    }
   ],
   "source": [
    "print(tokenizer.texts_to_matrix(texts, mode = 'tfidf').round(2))"
   ]
  },
  {
   "cell_type": "code",
   "execution_count": 7,
   "metadata": {
    "ExecuteTime": {
     "end_time": "2024-06-04T12:48:50.632563Z",
     "start_time": "2024-06-04T12:48:50.618764Z"
    },
    "colab": {
     "base_uri": "https://localhost:8080/"
    },
    "id": "u7eb55H7lziw",
    "outputId": "2489348d-0e13-47ee-a51b-93ac05d9ac40"
   },
   "outputs": [
    {
     "name": "stdout",
     "output_type": "stream",
     "text": [
      "[[0.   0.   0.33 0.33 0.33 0.   0.   0.   0.   0.  ]\n",
      " [0.   0.33 0.33 0.33 0.   0.   0.   0.   0.   0.  ]\n",
      " [0.   0.5  0.   0.   0.   0.25 0.25 0.   0.   0.  ]\n",
      " [0.   0.   0.   0.   0.   0.   0.   0.33 0.33 0.33]]\n"
     ]
    }
   ],
   "source": [
    "print(tokenizer.texts_to_matrix(texts, mode = 'freq').round(2))"
   ]
  },
  {
   "cell_type": "markdown",
   "metadata": {
    "id": "wscv65Sal4yZ"
   },
   "source": [
    "# 2. 20개 뉴스 그룹(Twenty Newsgroups) 데이터에 대한 이해"
   ]
  },
  {
   "cell_type": "code",
   "execution_count": 8,
   "metadata": {
    "ExecuteTime": {
     "end_time": "2024-06-04T12:48:54.226237Z",
     "start_time": "2024-06-04T12:48:50.632563Z"
    },
    "id": "Eg6dEr7El0jg"
   },
   "outputs": [],
   "source": [
    "import pandas as pd\n",
    "from sklearn.datasets import fetch_20newsgroups\n",
    "import matplotlib.pyplot as plt\n",
    "from tensorflow.keras.preprocessing.text import Tokenizer\n",
    "from tensorflow.keras.utils import to_categorical"
   ]
  },
  {
   "cell_type": "code",
   "execution_count": 9,
   "metadata": {
    "ExecuteTime": {
     "end_time": "2024-06-04T12:49:37.735030Z",
     "start_time": "2024-06-04T12:48:54.226237Z"
    },
    "colab": {
     "base_uri": "https://localhost:8080/"
    },
    "id": "6coNjlIZl6Kp",
    "outputId": "b3d7e9e4-6222-4a8a-92c0-278b2c7ce76b"
   },
   "outputs": [],
   "source": [
    "newsdata = fetch_20newsgroups(subset = 'train')"
   ]
  },
  {
   "cell_type": "code",
   "execution_count": 10,
   "metadata": {
    "ExecuteTime": {
     "end_time": "2024-06-04T12:49:37.750711Z",
     "start_time": "2024-06-04T12:49:37.735030Z"
    },
    "colab": {
     "base_uri": "https://localhost:8080/"
    },
    "id": "2aQCOofUl8AA",
    "outputId": "d5e40159-ae00-437e-9fb0-da9a6be114fc"
   },
   "outputs": [
    {
     "name": "stdout",
     "output_type": "stream",
     "text": [
      "dict_keys(['data', 'filenames', 'target_names', 'target', 'DESCR'])\n"
     ]
    }
   ],
   "source": [
    "print(newsdata.keys())"
   ]
  },
  {
   "cell_type": "code",
   "execution_count": 11,
   "metadata": {
    "ExecuteTime": {
     "end_time": "2024-06-04T12:49:37.766400Z",
     "start_time": "2024-06-04T12:49:37.750711Z"
    },
    "colab": {
     "base_uri": "https://localhost:8080/"
    },
    "id": "7LOnxn3tl9U4",
    "outputId": "8d064636-881e-4ade-bca8-0bfbb8487a6e"
   },
   "outputs": [
    {
     "name": "stdout",
     "output_type": "stream",
     "text": [
      "훈련용 샘플의 개수 : 11314\n"
     ]
    }
   ],
   "source": [
    "print('훈련용 샘플의 개수 : {}'.format(len(newsdata.data)))"
   ]
  },
  {
   "cell_type": "code",
   "execution_count": 12,
   "metadata": {
    "ExecuteTime": {
     "end_time": "2024-06-04T12:49:37.779706Z",
     "start_time": "2024-06-04T12:49:37.769399Z"
    },
    "colab": {
     "base_uri": "https://localhost:8080/"
    },
    "id": "lhIq8hApl-FI",
    "outputId": "1ddb7e8f-0000-47e7-a033-3b92310219a5"
   },
   "outputs": [
    {
     "name": "stdout",
     "output_type": "stream",
     "text": [
      "총 주제의 개수 : 20\n",
      "['alt.atheism', 'comp.graphics', 'comp.os.ms-windows.misc', 'comp.sys.ibm.pc.hardware', 'comp.sys.mac.hardware', 'comp.windows.x', 'misc.forsale', 'rec.autos', 'rec.motorcycles', 'rec.sport.baseball', 'rec.sport.hockey', 'sci.crypt', 'sci.electronics', 'sci.med', 'sci.space', 'soc.religion.christian', 'talk.politics.guns', 'talk.politics.mideast', 'talk.politics.misc', 'talk.religion.misc']\n"
     ]
    }
   ],
   "source": [
    "print('총 주제의 개수 : {}'.format(len(newsdata.target_names)))\n",
    "print(newsdata.target_names)"
   ]
  },
  {
   "cell_type": "code",
   "execution_count": 13,
   "metadata": {
    "ExecuteTime": {
     "end_time": "2024-06-04T12:49:37.794805Z",
     "start_time": "2024-06-04T12:49:37.781816Z"
    },
    "colab": {
     "base_uri": "https://localhost:8080/"
    },
    "id": "QpJVaLazl_LR",
    "outputId": "438b9a57-d78e-413d-9805-3630b0b4d47f"
   },
   "outputs": [
    {
     "name": "stdout",
     "output_type": "stream",
     "text": [
      "첫번째 샘플의 레이블 : 7\n"
     ]
    }
   ],
   "source": [
    "print('첫번째 샘플의 레이블 : {}'.format(newsdata.target[0]))"
   ]
  },
  {
   "cell_type": "code",
   "execution_count": 14,
   "metadata": {
    "ExecuteTime": {
     "end_time": "2024-06-04T12:49:37.811681Z",
     "start_time": "2024-06-04T12:49:37.796050Z"
    },
    "colab": {
     "base_uri": "https://localhost:8080/"
    },
    "id": "nEdK41f2l__w",
    "outputId": "eb84553b-a6c4-45cd-a22a-943d3426e7a5"
   },
   "outputs": [
    {
     "name": "stdout",
     "output_type": "stream",
     "text": [
      "7번 레이블이 의미하는 주제 : rec.autos\n"
     ]
    }
   ],
   "source": [
    "print('7번 레이블이 의미하는 주제 : {}'.format(newsdata.target_names[7]))"
   ]
  },
  {
   "cell_type": "code",
   "execution_count": 15,
   "metadata": {
    "ExecuteTime": {
     "end_time": "2024-06-04T12:49:37.827305Z",
     "start_time": "2024-06-04T12:49:37.811681Z"
    },
    "id": "9BEMpwlxmAzI"
   },
   "outputs": [
    {
     "name": "stdout",
     "output_type": "stream",
     "text": [
      "From: lerxst@wam.umd.edu (where's my thing)\n",
      "Subject: WHAT car is this!?\n",
      "Nntp-Posting-Host: rac3.wam.umd.edu\n",
      "Organization: University of Maryland, College Park\n",
      "Lines: 15\n",
      "\n",
      " I was wondering if anyone out there could enlighten me on this car I saw\n",
      "the other day. It was a 2-door sports car, looked to be from the late 60s/\n",
      "early 70s. It was called a Bricklin. The doors were really small. In addition,\n",
      "the front bumper was separate from the rest of the body. This is \n",
      "all I know. If anyone can tellme a model name, engine specs, years\n",
      "of production, where this car is made, history, or whatever info you\n",
      "have on this funky looking car, please e-mail.\n",
      "\n",
      "Thanks,\n",
      "- IL\n",
      "   ---- brought to you by your neighborhood Lerxst ----\n",
      "\n",
      "\n",
      "\n",
      "\n",
      "\n"
     ]
    }
   ],
   "source": [
    "print(newsdata.data[0]) # 첫번째 샘플 출력"
   ]
  },
  {
   "cell_type": "code",
   "execution_count": 16,
   "metadata": {
    "ExecuteTime": {
     "end_time": "2024-06-04T12:49:37.874440Z",
     "start_time": "2024-06-04T12:49:37.827305Z"
    },
    "colab": {
     "base_uri": "https://localhost:8080/",
     "height": 204
    },
    "id": "lrDvtkNrmDe4",
    "outputId": "e54e93b3-7b74-4225-ec9c-77f6b4456264"
   },
   "outputs": [
    {
     "data": {
      "text/html": [
       "<div>\n",
       "<style scoped>\n",
       "    .dataframe tbody tr th:only-of-type {\n",
       "        vertical-align: middle;\n",
       "    }\n",
       "\n",
       "    .dataframe tbody tr th {\n",
       "        vertical-align: top;\n",
       "    }\n",
       "\n",
       "    .dataframe thead th {\n",
       "        text-align: right;\n",
       "    }\n",
       "</style>\n",
       "<table border=\"1\" class=\"dataframe\">\n",
       "  <thead>\n",
       "    <tr style=\"text-align: right;\">\n",
       "      <th></th>\n",
       "      <th>email</th>\n",
       "      <th>target</th>\n",
       "    </tr>\n",
       "  </thead>\n",
       "  <tbody>\n",
       "    <tr>\n",
       "      <th>0</th>\n",
       "      <td>From: lerxst@wam.umd.edu (where's my thing)\\nS...</td>\n",
       "      <td>7</td>\n",
       "    </tr>\n",
       "    <tr>\n",
       "      <th>1</th>\n",
       "      <td>From: guykuo@carson.u.washington.edu (Guy Kuo)...</td>\n",
       "      <td>4</td>\n",
       "    </tr>\n",
       "    <tr>\n",
       "      <th>2</th>\n",
       "      <td>From: twillis@ec.ecn.purdue.edu (Thomas E Will...</td>\n",
       "      <td>4</td>\n",
       "    </tr>\n",
       "    <tr>\n",
       "      <th>3</th>\n",
       "      <td>From: jgreen@amber (Joe Green)\\nSubject: Re: W...</td>\n",
       "      <td>1</td>\n",
       "    </tr>\n",
       "    <tr>\n",
       "      <th>4</th>\n",
       "      <td>From: jcm@head-cfa.harvard.edu (Jonathan McDow...</td>\n",
       "      <td>14</td>\n",
       "    </tr>\n",
       "  </tbody>\n",
       "</table>\n",
       "</div>"
      ],
      "text/plain": [
       "                                               email  target\n",
       "0  From: lerxst@wam.umd.edu (where's my thing)\\nS...       7\n",
       "1  From: guykuo@carson.u.washington.edu (Guy Kuo)...       4\n",
       "2  From: twillis@ec.ecn.purdue.edu (Thomas E Will...       4\n",
       "3  From: jgreen@amber (Joe Green)\\nSubject: Re: W...       1\n",
       "4  From: jcm@head-cfa.harvard.edu (Jonathan McDow...      14"
      ]
     },
     "execution_count": 16,
     "metadata": {},
     "output_type": "execute_result"
    }
   ],
   "source": [
    "data = pd.DataFrame(newsdata.data, columns = ['email'])\n",
    "data['target'] = pd.Series(newsdata.target)\n",
    "data[:5]"
   ]
  },
  {
   "cell_type": "code",
   "execution_count": 17,
   "metadata": {
    "ExecuteTime": {
     "end_time": "2024-06-04T12:49:37.905826Z",
     "start_time": "2024-06-04T12:49:37.874440Z"
    },
    "colab": {
     "base_uri": "https://localhost:8080/"
    },
    "id": "hZ1eV-fcmFsY",
    "outputId": "f5301e53-f002-4049-be67-32e5343230d6"
   },
   "outputs": [
    {
     "name": "stdout",
     "output_type": "stream",
     "text": [
      "<class 'pandas.core.frame.DataFrame'>\n",
      "RangeIndex: 11314 entries, 0 to 11313\n",
      "Data columns (total 2 columns):\n",
      " #   Column  Non-Null Count  Dtype \n",
      "---  ------  --------------  ----- \n",
      " 0   email   11314 non-null  object\n",
      " 1   target  11314 non-null  int32 \n",
      "dtypes: int32(1), object(1)\n",
      "memory usage: 132.7+ KB\n"
     ]
    }
   ],
   "source": [
    "data.info()"
   ]
  },
  {
   "cell_type": "code",
   "execution_count": 18,
   "metadata": {
    "ExecuteTime": {
     "end_time": "2024-06-04T12:49:37.921451Z",
     "start_time": "2024-06-04T12:49:37.905826Z"
    },
    "colab": {
     "base_uri": "https://localhost:8080/"
    },
    "id": "eoA78baHmQZw",
    "outputId": "db27efcd-8b45-4375-ff8b-29a3ea6b8a29"
   },
   "outputs": [
    {
     "data": {
      "text/plain": [
       "False"
      ]
     },
     "execution_count": 18,
     "metadata": {},
     "output_type": "execute_result"
    }
   ],
   "source": [
    "data.isnull().values.any()"
   ]
  },
  {
   "cell_type": "code",
   "execution_count": 19,
   "metadata": {
    "ExecuteTime": {
     "end_time": "2024-06-04T12:49:37.996118Z",
     "start_time": "2024-06-04T12:49:37.921451Z"
    },
    "colab": {
     "base_uri": "https://localhost:8080/"
    },
    "id": "NW-2JTh4mRk4",
    "outputId": "ef5e6140-4819-4d48-f2a6-d78cd08181a5"
   },
   "outputs": [
    {
     "name": "stdout",
     "output_type": "stream",
     "text": [
      "중복을 제외한 샘플의 수 : 11314\n",
      "중복을 제외한 주제의 수 : 20\n"
     ]
    }
   ],
   "source": [
    "print('중복을 제외한 샘플의 수 : {}'.format(data['email'].nunique()))\n",
    "print('중복을 제외한 주제의 수 : {}'.format(data['target'].nunique()))"
   ]
  },
  {
   "cell_type": "code",
   "execution_count": 20,
   "metadata": {
    "ExecuteTime": {
     "end_time": "2024-06-04T12:49:38.264151Z",
     "start_time": "2024-06-04T12:49:37.997255Z"
    },
    "colab": {
     "base_uri": "https://localhost:8080/",
     "height": 285
    },
    "id": "THFp6zpfmSxw",
    "outputId": "fd6b56d4-fde1-44a7-9773-74af5a9d3dfe"
   },
   "outputs": [
    {
     "data": {
      "text/plain": [
       "<AxesSubplot: >"
      ]
     },
     "execution_count": 20,
     "metadata": {},
     "output_type": "execute_result"
    },
    {
     "data": {
      "image/png": "[encoded data removed]",
      "text/plain": [
       "<Figure size 432x288 with 1 Axes>"
      ]
     },
     "metadata": {
      "needs_background": "light"
     },
     "output_type": "display_data"
    }
   ],
   "source": [
    "data['target'].value_counts().plot(kind='bar')"
   ]
  },
  {
   "cell_type": "code",
   "execution_count": 21,
   "metadata": {
    "ExecuteTime": {
     "end_time": "2024-06-04T12:49:38.279924Z",
     "start_time": "2024-06-04T12:49:38.264151Z"
    },
    "colab": {
     "base_uri": "https://localhost:8080/"
    },
    "id": "p_-xDbD4mUHQ",
    "outputId": "35a02fa9-5671-4075-bdff-923ffcbcea0b"
   },
   "outputs": [
    {
     "name": "stdout",
     "output_type": "stream",
     "text": [
      "    target  count\n",
      "0        0    480\n",
      "1        1    584\n",
      "2        2    591\n",
      "3        3    590\n",
      "4        4    578\n",
      "5        5    593\n",
      "6        6    585\n",
      "7        7    594\n",
      "8        8    598\n",
      "9        9    597\n",
      "10      10    600\n",
      "11      11    595\n",
      "12      12    591\n",
      "13      13    594\n",
      "14      14    593\n",
      "15      15    599\n",
      "16      16    546\n",
      "17      17    564\n",
      "18      18    465\n",
      "19      19    377\n"
     ]
    }
   ],
   "source": [
    "print(data.groupby('target').size().reset_index(name='count'))"
   ]
  },
  {
   "cell_type": "code",
   "execution_count": 22,
   "metadata": {
    "ExecuteTime": {
     "end_time": "2024-06-04T12:49:38.530509Z",
     "start_time": "2024-06-04T12:49:38.279924Z"
    },
    "id": "xkNdFO_DmVEY"
   },
   "outputs": [],
   "source": [
    "newsdata_test = fetch_20newsgroups(subset='test', shuffle=True)\n",
    "train_email = data['email']\n",
    "train_label = data['target']\n",
    "test_email = newsdata_test.data\n",
    "test_label = newsdata_test.target"
   ]
  },
  {
   "cell_type": "code",
   "execution_count": 23,
   "metadata": {
    "ExecuteTime": {
     "end_time": "2024-06-04T12:49:38.547751Z",
     "start_time": "2024-06-04T12:49:38.533014Z"
    },
    "id": "Fv2-ajxPmY-Q"
   },
   "outputs": [],
   "source": [
    "max_words = 10000\n",
    "num_classes = 20"
   ]
  },
  {
   "cell_type": "code",
   "execution_count": 24,
   "metadata": {
    "ExecuteTime": {
     "end_time": "2024-06-04T12:49:38.563046Z",
     "start_time": "2024-06-04T12:49:38.549733Z"
    },
    "id": "q7IAke3umtVx"
   },
   "outputs": [],
   "source": [
    "def prepare_data(train_data, test_data, mode): # 전처리 함수\n",
    "    tokenizer = Tokenizer(num_words = max_words) # max_words 개수만큼의 단어만 사용한다.\n",
    "    tokenizer.fit_on_texts(train_data)\n",
    "    X_train = tokenizer.texts_to_matrix(train_data, mode=mode) # 샘플 수 × max_words 크기의 행렬 생성\n",
    "    X_test = tokenizer.texts_to_matrix(test_data, mode=mode) # 샘플 수 × max_words 크기의 행렬 생성\n",
    "    return X_train, X_test, tokenizer.index_word"
   ]
  },
  {
   "cell_type": "code",
   "execution_count": 25,
   "metadata": {
    "ExecuteTime": {
     "end_time": "2024-06-04T12:49:43.552073Z",
     "start_time": "2024-06-04T12:49:38.565174Z"
    },
    "id": "DUWZIIR6muPB"
   },
   "outputs": [],
   "source": [
    "X_train, X_test, index_to_word = prepare_data(train_email, test_email, 'binary') # binary 모드로 변환\n",
    "y_train = to_categorical(train_label, num_classes) # 원-핫 인코딩\n",
    "y_test = to_categorical(test_label, num_classes) # 원-핫 인코딩"
   ]
  },
  {
   "cell_type": "code",
   "execution_count": 26,
   "metadata": {
    "ExecuteTime": {
     "end_time": "2024-06-04T12:49:43.567781Z",
     "start_time": "2024-06-04T12:49:43.553042Z"
    },
    "colab": {
     "base_uri": "https://localhost:8080/"
    },
    "id": "gy8kIG1Bmu_J",
    "outputId": "d55c5222-fca1-4e76-c1d7-10d7ef89017f"
   },
   "outputs": [
    {
     "name": "stdout",
     "output_type": "stream",
     "text": [
      "훈련 샘플 본문의 크기 : (11314, 10000)\n",
      "훈련 샘플 레이블의 크기 : (11314, 20)\n",
      "테스트 샘플 본문의 크기 : (7532, 10000)\n",
      "테스트 샘플 레이블의 크기 : (7532, 20)\n"
     ]
    }
   ],
   "source": [
    "print('훈련 샘플 본문의 크기 : {}'.format(X_train.shape))\n",
    "print('훈련 샘플 레이블의 크기 : {}'.format(y_train.shape))\n",
    "print('테스트 샘플 본문의 크기 : {}'.format(X_test.shape))\n",
    "print('테스트 샘플 레이블의 크기 : {}'.format(y_test.shape))"
   ]
  },
  {
   "cell_type": "code",
   "execution_count": 27,
   "metadata": {
    "ExecuteTime": {
     "end_time": "2024-06-04T12:49:43.582626Z",
     "start_time": "2024-06-04T12:49:43.568773Z"
    },
    "colab": {
     "base_uri": "https://localhost:8080/"
    },
    "id": "b5Uiq9WlmvuZ",
    "outputId": "fcd6fef4-569c-4392-a57a-991cbd7684b8"
   },
   "outputs": [
    {
     "name": "stdout",
     "output_type": "stream",
     "text": [
      "빈도수 상위 1번 단어 : the\n",
      "빈도수 상위 9999번 단어 : mic\n"
     ]
    }
   ],
   "source": [
    "print('빈도수 상위 1번 단어 : {}'.format(index_to_word[1]))\n",
    "print('빈도수 상위 9999번 단어 : {}'.format(index_to_word[9999]))"
   ]
  },
  {
   "cell_type": "markdown",
   "metadata": {
    "id": "OQcE2khZmzoN"
   },
   "source": [
    "# 3. 다층 퍼셉트론(Multilayer Perceptron, MLP)을 사용하여 텍스트 분류하기"
   ]
  },
  {
   "cell_type": "code",
   "execution_count": 28,
   "metadata": {
    "ExecuteTime": {
     "end_time": "2024-06-04T12:49:43.612339Z",
     "start_time": "2024-06-04T12:49:43.584618Z"
    },
    "id": "KBExjIhSmwp5"
   },
   "outputs": [],
   "source": [
    "from tensorflow.keras.models import Sequential\n",
    "from tensorflow.keras.layers import Dense, Dropout"
   ]
  },
  {
   "cell_type": "code",
   "execution_count": 29,
   "metadata": {
    "ExecuteTime": {
     "end_time": "2024-06-04T12:49:43.627962Z",
     "start_time": "2024-06-04T12:49:43.612339Z"
    },
    "id": "vO5FJGfsm015"
   },
   "outputs": [],
   "source": [
    "def fit_and_evaluate(X_train, y_train, X_test, y_test):\n",
    "    model = Sequential()\n",
    "    model.add(Dense(256, input_shape=(max_words,), activation='relu'))\n",
    "    model.add(Dropout(0.5))\n",
    "    model.add(Dense(128, activation='relu'))\n",
    "    model.add(Dropout(0.5))\n",
    "    model.add(Dense(num_classes, activation='softmax'))\n",
    "\n",
    "    model.compile(loss='categorical_crossentropy', optimizer='adam', metrics=['accuracy'])\n",
    "    model.fit(X_train, y_train, batch_size=128, epochs=5, verbose=1, validation_split=0.1)\n",
    "    score = model.evaluate(X_test, y_test, batch_size=128, verbose=0)\n",
    "    return score[1]"
   ]
  },
  {
   "cell_type": "code",
   "execution_count": 30,
   "metadata": {
    "ExecuteTime": {
     "end_time": "2024-06-04T12:51:01.257464Z",
     "start_time": "2024-06-04T12:49:43.627962Z"
    },
    "colab": {
     "base_uri": "https://localhost:8080/"
    },
    "id": "fqrlMT29m13x",
    "outputId": "8b38194a-6fab-4b0a-af0e-2fe78938cdba"
   },
   "outputs": [
    {
     "name": "stdout",
     "output_type": "stream",
     "text": [
      "Epoch 1/5\n",
      "80/80 [==============================] - 2s 21ms/step - loss: 2.2894 - accuracy: 0.3291 - val_loss: 0.9677 - val_accuracy: 0.8251\n",
      "Epoch 2/5\n",
      "80/80 [==============================] - 2s 23ms/step - loss: 0.8637 - accuracy: 0.7630 - val_loss: 0.4521 - val_accuracy: 0.8852\n",
      "Epoch 3/5\n",
      "80/80 [==============================] - 2s 27ms/step - loss: 0.4409 - accuracy: 0.8800 - val_loss: 0.3658 - val_accuracy: 0.9019\n",
      "Epoch 4/5\n",
      "80/80 [==============================] - 2s 26ms/step - loss: 0.2711 - accuracy: 0.9321 - val_loss: 0.3152 - val_accuracy: 0.9125\n",
      "Epoch 5/5\n",
      "80/80 [==============================] - 2s 26ms/step - loss: 0.1817 - accuracy: 0.9582 - val_loss: 0.3029 - val_accuracy: 0.9117\n",
      "binary 모드의 테스트 정확도: 0.8301911950111389\n",
      "Epoch 1/5\n",
      "80/80 [==============================] - 3s 29ms/step - loss: 2.7444 - accuracy: 0.2436 - val_loss: 1.5856 - val_accuracy: 0.7261\n",
      "Epoch 2/5\n",
      "80/80 [==============================] - 2s 26ms/step - loss: 1.4742 - accuracy: 0.6359 - val_loss: 0.6813 - val_accuracy: 0.8507\n",
      "Epoch 3/5\n",
      "80/80 [==============================] - 2s 28ms/step - loss: 0.8271 - accuracy: 0.8090 - val_loss: 0.4921 - val_accuracy: 0.8807\n",
      "Epoch 4/5\n",
      "80/80 [==============================] - 2s 27ms/step - loss: 0.5334 - accuracy: 0.8788 - val_loss: 0.4251 - val_accuracy: 0.8958\n",
      "Epoch 5/5\n",
      "80/80 [==============================] - 2s 27ms/step - loss: 0.3584 - accuracy: 0.9168 - val_loss: 0.3839 - val_accuracy: 0.9019\n",
      "count 모드의 테스트 정확도: 0.8185076713562012\n",
      "Epoch 1/5\n",
      "80/80 [==============================] - 3s 27ms/step - loss: 2.2562 - accuracy: 0.3564 - val_loss: 0.8059 - val_accuracy: 0.8534\n",
      "Epoch 2/5\n",
      "80/80 [==============================] - 2s 27ms/step - loss: 0.8626 - accuracy: 0.7649 - val_loss: 0.4239 - val_accuracy: 0.8993\n",
      "Epoch 3/5\n",
      "80/80 [==============================] - 2s 26ms/step - loss: 0.4318 - accuracy: 0.8890 - val_loss: 0.3704 - val_accuracy: 0.9125\n",
      "Epoch 4/5\n",
      "80/80 [==============================] - 2s 27ms/step - loss: 0.3123 - accuracy: 0.9249 - val_loss: 0.3451 - val_accuracy: 0.9117\n",
      "Epoch 5/5\n",
      "80/80 [==============================] - 2s 27ms/step - loss: 0.2153 - accuracy: 0.9476 - val_loss: 0.3349 - val_accuracy: 0.9064\n",
      "tfidf 모드의 테스트 정확도: 0.8296601176261902\n",
      "Epoch 1/5\n",
      "80/80 [==============================] - 3s 30ms/step - loss: 2.9771 - accuracy: 0.0901 - val_loss: 2.9260 - val_accuracy: 0.3313\n",
      "Epoch 2/5\n",
      "80/80 [==============================] - 2s 25ms/step - loss: 2.7267 - accuracy: 0.1999 - val_loss: 2.4089 - val_accuracy: 0.3587\n",
      "Epoch 3/5\n",
      "80/80 [==============================] - 2s 26ms/step - loss: 2.2052 - accuracy: 0.3149 - val_loss: 1.8836 - val_accuracy: 0.5557\n",
      "Epoch 4/5\n",
      "80/80 [==============================] - 2s 26ms/step - loss: 1.7625 - accuracy: 0.4407 - val_loss: 1.5119 - val_accuracy: 0.6466\n",
      "Epoch 5/5\n",
      "80/80 [==============================] - 2s 26ms/step - loss: 1.4324 - accuracy: 0.5510 - val_loss: 1.2221 - val_accuracy: 0.6908\n",
      "freq 모드의 테스트 정확도: 0.6518852710723877\n"
     ]
    }
   ],
   "source": [
    "modes = ['binary', 'count', 'tfidf', 'freq'] # 4개의 모드를 리스트에 저장.\n",
    "\n",
    "for mode in modes: # 4개의 모드에 대해서 각각 아래의 작업을 반복한다.\n",
    "    X_train, X_test, _ = prepare_data(train_email, test_email, mode) # 모드에 따라서 데이터를 전처리\n",
    "    score = fit_and_evaluate(X_train, y_train, X_test, y_test) # 모델을 훈련하고 평가.\n",
    "    print(mode+' 모드의 테스트 정확도:', score)"
   ]
  }
 ],
 "metadata": {
  "accelerator": "GPU",
  "colab": {
   "collapsed_sections": [],
   "machine_shape": "hm",
   "name": "다층 퍼셉트론으로 텍스트 분류하기.ipynb",
   "provenance": [],
   "toc_visible": true
  },
  "kernelspec": {
   "display_name": "Python 3",
   "language": "python",
   "name": "python3"
  },
  "language_info": {
   "codemirror_mode": {
    "name": "ipython",
    "version": 3
   },
   "file_extension": ".py",
   "mimetype": "text/x-python",
   "name": "python",
   "nbconvert_exporter": "python",
   "pygments_lexer": "ipython3",
   "version": "3.8.5"
  }
 },
 "nbformat": 4,
 "nbformat_minor": 1
}
