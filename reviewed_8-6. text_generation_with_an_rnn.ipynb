{
 "cells": [
  {
   "cell_type": "markdown",
   "metadata": {},
   "source": [
    "# 리뷰완료(2024-06-08)"
   ]
  },
  {
   "cell_type": "markdown",
   "metadata": {
    "id": "nQfDeXC5GJEs"
   },
   "source": [
    "이 자료는 위키독스 딥 러닝을 이용한 자연어 처리 입문의 RNN을 이용하여 텍스트 생성하기의 튜토리얼입니다.  \n",
    "\n",
    "링크 : https://wikidocs.net/45101"
   ]
  },
  {
   "cell_type": "markdown",
   "metadata": {
    "id": "-mwvomP9GHUz"
   },
   "source": [
    "# 1. RNN을 이용하여 텍스트 생성하기"
   ]
  },
  {
   "cell_type": "code",
   "execution_count": 1,
   "metadata": {
    "ExecuteTime": {
     "end_time": "2024-06-08T01:51:48.810696Z",
     "start_time": "2024-06-08T01:51:36.407491Z"
    },
    "id": "S4uTNOaoD1bU"
   },
   "outputs": [],
   "source": [
    "import numpy as np\n",
    "from tensorflow.keras.preprocessing.text import Tokenizer\n",
    "from tensorflow.keras.preprocessing.sequence import pad_sequences\n",
    "from tensorflow.keras.utils import to_categorical"
   ]
  },
  {
   "cell_type": "code",
   "execution_count": 2,
   "metadata": {
    "ExecuteTime": {
     "end_time": "2024-06-08T01:51:48.825647Z",
     "start_time": "2024-06-08T01:51:48.810696Z"
    },
    "id": "HAiu_PerD3Hf"
   },
   "outputs": [],
   "source": [
    "text = \"\"\"경마장에 있는 말이 뛰고 있다\\n\n",
    "그의 말이 법이다\\n\n",
    "가는 말이 고와야 오는 말이 곱다\\n\"\"\""
   ]
  },
  {
   "cell_type": "code",
   "execution_count": 3,
   "metadata": {
    "ExecuteTime": {
     "end_time": "2024-06-08T01:52:09.613980Z",
     "start_time": "2024-06-08T01:52:09.601206Z"
    },
    "colab": {
     "base_uri": "https://localhost:8080/"
    },
    "id": "xdHAkPfHD75-",
    "outputId": "6f3624ea-421a-47af-b2e6-8bbadcf13ac8"
   },
   "outputs": [
    {
     "name": "stdout",
     "output_type": "stream",
     "text": [
      "단어 집합의 크기 : 12\n"
     ]
    }
   ],
   "source": [
    "tokenizer = Tokenizer()\n",
    "tokenizer.fit_on_texts([text])\n",
    "vocab_size = len(tokenizer.word_index) + 1\n",
    "print('단어 집합의 크기 : %d' % vocab_size)"
   ]
  },
  {
   "cell_type": "code",
   "execution_count": 4,
   "metadata": {
    "ExecuteTime": {
     "end_time": "2024-06-08T01:52:18.730779Z",
     "start_time": "2024-06-08T01:52:18.719381Z"
    }
   },
   "outputs": [
    {
     "data": {
      "text/plain": [
       "<keras.src.preprocessing.text.Tokenizer at 0x24f30805280>"
      ]
     },
     "execution_count": 4,
     "metadata": {},
     "output_type": "execute_result"
    }
   ],
   "source": [
    "tokenizer"
   ]
  },
  {
   "cell_type": "code",
   "execution_count": 6,
   "metadata": {
    "ExecuteTime": {
     "end_time": "2024-06-08T01:52:39.256718Z",
     "start_time": "2024-06-08T01:52:39.241726Z"
    },
    "colab": {
     "base_uri": "https://localhost:8080/"
    },
    "id": "rjSPtvilD9hO",
    "outputId": "ad393403-8ee8-4ea0-811b-e1ae458c2ce0"
   },
   "outputs": [
    {
     "name": "stdout",
     "output_type": "stream",
     "text": [
      "{'말이': 1, '경마장에': 2, '있는': 3, '뛰고': 4, '있다': 5, '그의': 6, '법이다': 7, '가는': 8, '고와야': 9, '오는': 10, '곱다': 11}\n"
     ]
    }
   ],
   "source": [
    "print(tokenizer.word_index)"
   ]
  },
  {
   "cell_type": "code",
   "execution_count": 7,
   "metadata": {
    "ExecuteTime": {
     "end_time": "2024-06-08T01:53:32.992090Z",
     "start_time": "2024-06-08T01:53:32.982223Z"
    },
    "colab": {
     "base_uri": "https://localhost:8080/"
    },
    "id": "yxtpUv8fEJim",
    "outputId": "46a71b7f-43fd-4d92-bccc-ddcc3e86c617"
   },
   "outputs": [
    {
     "name": "stdout",
     "output_type": "stream",
     "text": [
      "학습에 사용할 샘플의 개수: 11\n"
     ]
    }
   ],
   "source": [
    "sequences = list()\n",
    "for line in text.split('\\n'): # Wn을 기준으로 문장 토큰화\n",
    "    encoded = tokenizer.texts_to_sequences([line])[0]\n",
    "    for i in range(1, len(encoded)):\n",
    "        sequence = encoded[:i+1]\n",
    "        sequences.append(sequence)\n",
    "\n",
    "print('학습에 사용할 샘플의 개수: %d' % len(sequences))"
   ]
  },
  {
   "cell_type": "code",
   "execution_count": 8,
   "metadata": {
    "ExecuteTime": {
     "end_time": "2024-06-08T01:53:33.500988Z",
     "start_time": "2024-06-08T01:53:33.494946Z"
    },
    "colab": {
     "base_uri": "https://localhost:8080/"
    },
    "id": "Sn3ScsVyEKbO",
    "outputId": "65676236-4127-4dfa-dc17-b16be772151f"
   },
   "outputs": [
    {
     "name": "stdout",
     "output_type": "stream",
     "text": [
      "[[2, 3], [2, 3, 1], [2, 3, 1, 4], [2, 3, 1, 4, 5], [6, 1], [6, 1, 7], [8, 1], [8, 1, 9], [8, 1, 9, 10], [8, 1, 9, 10, 1], [8, 1, 9, 10, 1, 11]]\n"
     ]
    }
   ],
   "source": [
    "print(sequences)"
   ]
  },
  {
   "cell_type": "code",
   "execution_count": 9,
   "metadata": {
    "ExecuteTime": {
     "end_time": "2024-06-08T01:53:36.051708Z",
     "start_time": "2024-06-08T01:53:36.045480Z"
    },
    "colab": {
     "base_uri": "https://localhost:8080/"
    },
    "id": "2WQk_gFlELvO",
    "outputId": "e3ef7950-8881-4d36-88d1-11c132a70c38"
   },
   "outputs": [
    {
     "name": "stdout",
     "output_type": "stream",
     "text": [
      "샘플의 최대 길이 : 6\n"
     ]
    }
   ],
   "source": [
    "max_len = max(len(l) for l in sequences) # 모든 샘플에서 길이가 가장 긴 샘플의 길이 출력\n",
    "print('샘플의 최대 길이 : {}'.format(max_len))"
   ]
  },
  {
   "cell_type": "code",
   "execution_count": 10,
   "metadata": {
    "ExecuteTime": {
     "end_time": "2024-06-08T01:53:36.616925Z",
     "start_time": "2024-06-08T01:53:36.600411Z"
    },
    "id": "D9KPYYerEMiO"
   },
   "outputs": [],
   "source": [
    "sequences = pad_sequences(sequences, maxlen=max_len, padding='pre')"
   ]
  },
  {
   "cell_type": "code",
   "execution_count": 11,
   "metadata": {
    "ExecuteTime": {
     "end_time": "2024-06-08T01:53:37.158202Z",
     "start_time": "2024-06-08T01:53:37.140386Z"
    },
    "colab": {
     "base_uri": "https://localhost:8080/"
    },
    "id": "H9dK4VDuENZW",
    "outputId": "9d0fadd1-ed2f-46c1-f97b-cc090e1f1b89"
   },
   "outputs": [
    {
     "name": "stdout",
     "output_type": "stream",
     "text": [
      "[[ 0  0  0  0  2  3]\n",
      " [ 0  0  0  2  3  1]\n",
      " [ 0  0  2  3  1  4]\n",
      " [ 0  2  3  1  4  5]\n",
      " [ 0  0  0  0  6  1]\n",
      " [ 0  0  0  6  1  7]\n",
      " [ 0  0  0  0  8  1]\n",
      " [ 0  0  0  8  1  9]\n",
      " [ 0  0  8  1  9 10]\n",
      " [ 0  8  1  9 10  1]\n",
      " [ 8  1  9 10  1 11]]\n"
     ]
    }
   ],
   "source": [
    "print(sequences)"
   ]
  },
  {
   "cell_type": "code",
   "execution_count": 12,
   "metadata": {
    "ExecuteTime": {
     "end_time": "2024-06-08T01:57:07.399281Z",
     "start_time": "2024-06-08T01:57:07.390694Z"
    },
    "id": "8Vu99bIZEOFG"
   },
   "outputs": [],
   "source": [
    "sequences = np.array(sequences)\n",
    "X = sequences[:,:-1]\n",
    "y = sequences[:,-1]"
   ]
  },
  {
   "cell_type": "code",
   "execution_count": 13,
   "metadata": {
    "ExecuteTime": {
     "end_time": "2024-06-08T01:57:07.889123Z",
     "start_time": "2024-06-08T01:57:07.884667Z"
    },
    "colab": {
     "base_uri": "https://localhost:8080/"
    },
    "id": "U63gl8GMEPeG",
    "outputId": "30400821-5953-4af9-fc7c-4bdb6fa8ef2b"
   },
   "outputs": [
    {
     "name": "stdout",
     "output_type": "stream",
     "text": [
      "[[ 0  0  0  0  2]\n",
      " [ 0  0  0  2  3]\n",
      " [ 0  0  2  3  1]\n",
      " [ 0  2  3  1  4]\n",
      " [ 0  0  0  0  6]\n",
      " [ 0  0  0  6  1]\n",
      " [ 0  0  0  0  8]\n",
      " [ 0  0  0  8  1]\n",
      " [ 0  0  8  1  9]\n",
      " [ 0  8  1  9 10]\n",
      " [ 8  1  9 10  1]]\n"
     ]
    }
   ],
   "source": [
    "print(X)"
   ]
  },
  {
   "cell_type": "code",
   "execution_count": 14,
   "metadata": {
    "ExecuteTime": {
     "end_time": "2024-06-08T01:57:08.388179Z",
     "start_time": "2024-06-08T01:57:08.380201Z"
    },
    "colab": {
     "base_uri": "https://localhost:8080/"
    },
    "id": "11m6JFDBEWTe",
    "outputId": "6c529596-ae93-48f3-d2fa-b17d0d8c7d6f"
   },
   "outputs": [
    {
     "name": "stdout",
     "output_type": "stream",
     "text": [
      "[ 3  1  4  5  1  7  1  9 10  1 11]\n"
     ]
    }
   ],
   "source": [
    "print(y) # 모든 샘플에 대한 레이블 출력"
   ]
  },
  {
   "cell_type": "code",
   "execution_count": 15,
   "metadata": {
    "ExecuteTime": {
     "end_time": "2024-06-08T01:57:24.074165Z",
     "start_time": "2024-06-08T01:57:24.070489Z"
    },
    "id": "W3bLeTb1EXSe"
   },
   "outputs": [],
   "source": [
    "y = to_categorical(y, num_classes=vocab_size)"
   ]
  },
  {
   "cell_type": "code",
   "execution_count": 16,
   "metadata": {
    "ExecuteTime": {
     "end_time": "2024-06-08T01:57:24.857382Z",
     "start_time": "2024-06-08T01:57:24.850301Z"
    },
    "colab": {
     "base_uri": "https://localhost:8080/"
    },
    "id": "rgaGRDAeEYY-",
    "outputId": "c610a783-951b-4a2a-b3d7-be9b4721f565"
   },
   "outputs": [
    {
     "name": "stdout",
     "output_type": "stream",
     "text": [
      "[[0. 0. 0. 1. 0. 0. 0. 0. 0. 0. 0. 0.]\n",
      " [0. 1. 0. 0. 0. 0. 0. 0. 0. 0. 0. 0.]\n",
      " [0. 0. 0. 0. 1. 0. 0. 0. 0. 0. 0. 0.]\n",
      " [0. 0. 0. 0. 0. 1. 0. 0. 0. 0. 0. 0.]\n",
      " [0. 1. 0. 0. 0. 0. 0. 0. 0. 0. 0. 0.]\n",
      " [0. 0. 0. 0. 0. 0. 0. 1. 0. 0. 0. 0.]\n",
      " [0. 1. 0. 0. 0. 0. 0. 0. 0. 0. 0. 0.]\n",
      " [0. 0. 0. 0. 0. 0. 0. 0. 0. 1. 0. 0.]\n",
      " [0. 0. 0. 0. 0. 0. 0. 0. 0. 0. 1. 0.]\n",
      " [0. 1. 0. 0. 0. 0. 0. 0. 0. 0. 0. 0.]\n",
      " [0. 0. 0. 0. 0. 0. 0. 0. 0. 0. 0. 1.]]\n"
     ]
    }
   ],
   "source": [
    "print(y)"
   ]
  },
  {
   "cell_type": "code",
   "execution_count": 17,
   "metadata": {
    "ExecuteTime": {
     "end_time": "2024-06-08T01:57:25.487338Z",
     "start_time": "2024-06-08T01:57:25.480441Z"
    },
    "id": "QbsqMkBKEZIe"
   },
   "outputs": [],
   "source": [
    "from tensorflow.keras.models import Sequential\n",
    "from tensorflow.keras.layers import Embedding, Dense, SimpleRNN"
   ]
  },
  {
   "cell_type": "code",
   "execution_count": 18,
   "metadata": {
    "ExecuteTime": {
     "end_time": "2024-06-08T01:57:41.357039Z",
     "start_time": "2024-06-08T01:57:39.221334Z"
    },
    "colab": {
     "base_uri": "https://localhost:8080/"
    },
    "id": "da3yM5cTEeNn",
    "outputId": "6591ded1-0296-4e22-8e23-4ab3be797f1d"
   },
   "outputs": [
    {
     "name": "stdout",
     "output_type": "stream",
     "text": [
      "Epoch 1/200\n",
      "1/1 - 1s - loss: 2.4838 - accuracy: 0.0909 - 827ms/epoch - 827ms/step\n",
      "Epoch 2/200\n",
      "1/1 - 0s - loss: 2.4693 - accuracy: 0.0909 - 10ms/epoch - 10ms/step\n",
      "Epoch 3/200\n",
      "1/1 - 0s - loss: 2.4548 - accuracy: 0.0909 - 6ms/epoch - 6ms/step\n",
      "Epoch 4/200\n",
      "1/1 - 0s - loss: 2.4403 - accuracy: 0.1818 - 2ms/epoch - 2ms/step\n",
      "Epoch 5/200\n",
      "1/1 - 0s - loss: 2.4255 - accuracy: 0.3636 - 0s/epoch - 0s/step\n",
      "Epoch 6/200\n",
      "1/1 - 0s - loss: 2.4104 - accuracy: 0.3636 - 15ms/epoch - 15ms/step\n",
      "Epoch 7/200\n",
      "1/1 - 0s - loss: 2.3949 - accuracy: 0.4545 - 8ms/epoch - 8ms/step\n",
      "Epoch 8/200\n",
      "1/1 - 0s - loss: 2.3788 - accuracy: 0.4545 - 0s/epoch - 0s/step\n",
      "Epoch 9/200\n",
      "1/1 - 0s - loss: 2.3622 - accuracy: 0.5455 - 10ms/epoch - 10ms/step\n",
      "Epoch 10/200\n",
      "1/1 - 0s - loss: 2.3448 - accuracy: 0.5455 - 0s/epoch - 0s/step\n",
      "Epoch 11/200\n",
      "1/1 - 0s - loss: 2.3268 - accuracy: 0.5455 - 0s/epoch - 0s/step\n",
      "Epoch 12/200\n",
      "1/1 - 0s - loss: 2.3079 - accuracy: 0.4545 - 16ms/epoch - 16ms/step\n",
      "Epoch 13/200\n",
      "1/1 - 0s - loss: 2.2883 - accuracy: 0.3636 - 3ms/epoch - 3ms/step\n",
      "Epoch 14/200\n",
      "1/1 - 0s - loss: 2.2678 - accuracy: 0.3636 - 3ms/epoch - 3ms/step\n",
      "Epoch 15/200\n",
      "1/1 - 0s - loss: 2.2464 - accuracy: 0.3636 - 4ms/epoch - 4ms/step\n",
      "Epoch 16/200\n",
      "1/1 - 0s - loss: 2.2242 - accuracy: 0.3636 - 168us/epoch - 168us/step\n",
      "Epoch 17/200\n",
      "1/1 - 0s - loss: 2.2012 - accuracy: 0.3636 - 0s/epoch - 0s/step\n",
      "Epoch 18/200\n",
      "1/1 - 0s - loss: 2.1774 - accuracy: 0.3636 - 0s/epoch - 0s/step\n",
      "Epoch 19/200\n",
      "1/1 - 0s - loss: 2.1529 - accuracy: 0.3636 - 1ms/epoch - 1ms/step\n",
      "Epoch 20/200\n",
      "1/1 - 0s - loss: 2.1279 - accuracy: 0.3636 - 0s/epoch - 0s/step\n",
      "Epoch 21/200\n",
      "1/1 - 0s - loss: 2.1024 - accuracy: 0.3636 - 0s/epoch - 0s/step\n",
      "Epoch 22/200\n",
      "1/1 - 0s - loss: 2.0767 - accuracy: 0.3636 - 17ms/epoch - 17ms/step\n",
      "Epoch 23/200\n",
      "1/1 - 0s - loss: 2.0508 - accuracy: 0.3636 - 0s/epoch - 0s/step\n",
      "Epoch 24/200\n",
      "1/1 - 0s - loss: 2.0251 - accuracy: 0.3636 - 0s/epoch - 0s/step\n",
      "Epoch 25/200\n",
      "1/1 - 0s - loss: 1.9998 - accuracy: 0.3636 - 16ms/epoch - 16ms/step\n",
      "Epoch 26/200\n",
      "1/1 - 0s - loss: 1.9750 - accuracy: 0.3636 - 0s/epoch - 0s/step\n",
      "Epoch 27/200\n",
      "1/1 - 0s - loss: 1.9510 - accuracy: 0.3636 - 8ms/epoch - 8ms/step\n",
      "Epoch 28/200\n",
      "1/1 - 0s - loss: 1.9280 - accuracy: 0.3636 - 0s/epoch - 0s/step\n",
      "Epoch 29/200\n",
      "1/1 - 0s - loss: 1.9062 - accuracy: 0.3636 - 1ms/epoch - 1ms/step\n",
      "Epoch 30/200\n",
      "1/1 - 0s - loss: 1.8855 - accuracy: 0.3636 - 0s/epoch - 0s/step\n",
      "Epoch 31/200\n",
      "1/1 - 0s - loss: 1.8661 - accuracy: 0.3636 - 0s/epoch - 0s/step\n",
      "Epoch 32/200\n",
      "1/1 - 0s - loss: 1.8478 - accuracy: 0.3636 - 16ms/epoch - 16ms/step\n",
      "Epoch 33/200\n",
      "1/1 - 0s - loss: 1.8305 - accuracy: 0.3636 - 0s/epoch - 0s/step\n",
      "Epoch 34/200\n",
      "1/1 - 0s - loss: 1.8140 - accuracy: 0.3636 - 0s/epoch - 0s/step\n",
      "Epoch 35/200\n",
      "1/1 - 0s - loss: 1.7979 - accuracy: 0.3636 - 17ms/epoch - 17ms/step\n",
      "Epoch 36/200\n",
      "1/1 - 0s - loss: 1.7820 - accuracy: 0.3636 - 0s/epoch - 0s/step\n",
      "Epoch 37/200\n",
      "1/1 - 0s - loss: 1.7658 - accuracy: 0.3636 - 0s/epoch - 0s/step\n",
      "Epoch 38/200\n",
      "1/1 - 0s - loss: 1.7492 - accuracy: 0.4545 - 0s/epoch - 0s/step\n",
      "Epoch 39/200\n",
      "1/1 - 0s - loss: 1.7320 - accuracy: 0.4545 - 16ms/epoch - 16ms/step\n",
      "Epoch 40/200\n",
      "1/1 - 0s - loss: 1.7140 - accuracy: 0.4545 - 0s/epoch - 0s/step\n",
      "Epoch 41/200\n",
      "1/1 - 0s - loss: 1.6953 - accuracy: 0.4545 - 0s/epoch - 0s/step\n",
      "Epoch 42/200\n",
      "1/1 - 0s - loss: 1.6759 - accuracy: 0.4545 - 17ms/epoch - 17ms/step\n",
      "Epoch 43/200\n",
      "1/1 - 0s - loss: 1.6559 - accuracy: 0.4545 - 0s/epoch - 0s/step\n",
      "Epoch 44/200\n",
      "1/1 - 0s - loss: 1.6355 - accuracy: 0.4545 - 0s/epoch - 0s/step\n",
      "Epoch 45/200\n",
      "1/1 - 0s - loss: 1.6148 - accuracy: 0.4545 - 0s/epoch - 0s/step\n",
      "Epoch 46/200\n",
      "1/1 - 0s - loss: 1.5940 - accuracy: 0.4545 - 8ms/epoch - 8ms/step\n",
      "Epoch 47/200\n",
      "1/1 - 0s - loss: 1.5731 - accuracy: 0.4545 - 0s/epoch - 0s/step\n",
      "Epoch 48/200\n",
      "1/1 - 0s - loss: 1.5523 - accuracy: 0.4545 - 9ms/epoch - 9ms/step\n",
      "Epoch 49/200\n",
      "1/1 - 0s - loss: 1.5316 - accuracy: 0.4545 - 0s/epoch - 0s/step\n",
      "Epoch 50/200\n",
      "1/1 - 0s - loss: 1.5110 - accuracy: 0.4545 - 0s/epoch - 0s/step\n",
      "Epoch 51/200\n",
      "1/1 - 0s - loss: 1.4905 - accuracy: 0.4545 - 16ms/epoch - 16ms/step\n",
      "Epoch 52/200\n",
      "1/1 - 0s - loss: 1.4703 - accuracy: 0.4545 - 0s/epoch - 0s/step\n",
      "Epoch 53/200\n",
      "1/1 - 0s - loss: 1.4502 - accuracy: 0.4545 - 0s/epoch - 0s/step\n",
      "Epoch 54/200\n",
      "1/1 - 0s - loss: 1.4303 - accuracy: 0.4545 - 16ms/epoch - 16ms/step\n",
      "Epoch 55/200\n",
      "1/1 - 0s - loss: 1.4105 - accuracy: 0.4545 - 0s/epoch - 0s/step\n",
      "Epoch 56/200\n",
      "1/1 - 0s - loss: 1.3910 - accuracy: 0.4545 - 0s/epoch - 0s/step\n",
      "Epoch 57/200\n",
      "1/1 - 0s - loss: 1.3717 - accuracy: 0.4545 - 0s/epoch - 0s/step\n",
      "Epoch 58/200\n",
      "1/1 - 0s - loss: 1.3526 - accuracy: 0.5455 - 16ms/epoch - 16ms/step\n",
      "Epoch 59/200\n",
      "1/1 - 0s - loss: 1.3338 - accuracy: 0.5455 - 0s/epoch - 0s/step\n",
      "Epoch 60/200\n",
      "1/1 - 0s - loss: 1.3152 - accuracy: 0.5455 - 0s/epoch - 0s/step\n",
      "Epoch 61/200\n",
      "1/1 - 0s - loss: 1.2970 - accuracy: 0.5455 - 16ms/epoch - 16ms/step\n",
      "Epoch 62/200\n",
      "1/1 - 0s - loss: 1.2790 - accuracy: 0.5455 - 0s/epoch - 0s/step\n",
      "Epoch 63/200\n",
      "1/1 - 0s - loss: 1.2613 - accuracy: 0.5455 - 0s/epoch - 0s/step\n",
      "Epoch 64/200\n",
      "1/1 - 0s - loss: 1.2438 - accuracy: 0.5455 - 0s/epoch - 0s/step\n",
      "Epoch 65/200\n",
      "1/1 - 0s - loss: 1.2267 - accuracy: 0.5455 - 17ms/epoch - 17ms/step\n",
      "Epoch 66/200\n",
      "1/1 - 0s - loss: 1.2097 - accuracy: 0.5455 - 0s/epoch - 0s/step\n",
      "Epoch 67/200\n",
      "1/1 - 0s - loss: 1.1929 - accuracy: 0.5455 - 0s/epoch - 0s/step\n",
      "Epoch 68/200\n",
      "1/1 - 0s - loss: 1.1763 - accuracy: 0.5455 - 9ms/epoch - 9ms/step\n",
      "Epoch 69/200\n",
      "1/1 - 0s - loss: 1.1599 - accuracy: 0.5455 - 0s/epoch - 0s/step\n",
      "Epoch 70/200\n",
      "1/1 - 0s - loss: 1.1435 - accuracy: 0.5455 - 0s/epoch - 0s/step\n",
      "Epoch 71/200\n",
      "1/1 - 0s - loss: 1.1272 - accuracy: 0.5455 - 0s/epoch - 0s/step\n",
      "Epoch 72/200\n",
      "1/1 - 0s - loss: 1.1110 - accuracy: 0.5455 - 985us/epoch - 985us/step\n",
      "Epoch 73/200\n",
      "1/1 - 0s - loss: 1.0949 - accuracy: 0.6364 - 0s/epoch - 0s/step\n",
      "Epoch 74/200\n",
      "1/1 - 0s - loss: 1.0789 - accuracy: 0.6364 - 0s/epoch - 0s/step\n",
      "Epoch 75/200\n",
      "1/1 - 0s - loss: 1.0629 - accuracy: 0.6364 - 16ms/epoch - 16ms/step\n",
      "Epoch 76/200\n",
      "1/1 - 0s - loss: 1.0471 - accuracy: 0.6364 - 0s/epoch - 0s/step\n",
      "Epoch 77/200\n",
      "1/1 - 0s - loss: 1.0313 - accuracy: 0.6364 - 0s/epoch - 0s/step\n",
      "Epoch 78/200\n",
      "1/1 - 0s - loss: 1.0156 - accuracy: 0.7273 - 0s/epoch - 0s/step\n",
      "Epoch 79/200\n",
      "1/1 - 0s - loss: 1.0001 - accuracy: 0.7273 - 16ms/epoch - 16ms/step\n",
      "Epoch 80/200\n",
      "1/1 - 0s - loss: 0.9847 - accuracy: 0.7273 - 0s/epoch - 0s/step\n",
      "Epoch 81/200\n",
      "1/1 - 0s - loss: 0.9694 - accuracy: 0.7273 - 0s/epoch - 0s/step\n",
      "Epoch 82/200\n",
      "1/1 - 0s - loss: 0.9542 - accuracy: 0.7273 - 16ms/epoch - 16ms/step\n",
      "Epoch 83/200\n",
      "1/1 - 0s - loss: 0.9392 - accuracy: 0.7273 - 0s/epoch - 0s/step\n",
      "Epoch 84/200\n",
      "1/1 - 0s - loss: 0.9243 - accuracy: 0.7273 - 0s/epoch - 0s/step\n",
      "Epoch 85/200\n",
      "1/1 - 0s - loss: 0.9095 - accuracy: 0.7273 - 0s/epoch - 0s/step\n",
      "Epoch 86/200\n",
      "1/1 - 0s - loss: 0.8949 - accuracy: 0.7273 - 16ms/epoch - 16ms/step\n",
      "Epoch 87/200\n",
      "1/1 - 0s - loss: 0.8804 - accuracy: 0.7273 - 0s/epoch - 0s/step\n",
      "Epoch 88/200\n",
      "1/1 - 0s - loss: 0.8661 - accuracy: 0.7273 - 0s/epoch - 0s/step\n",
      "Epoch 89/200\n",
      "1/1 - 0s - loss: 0.8520 - accuracy: 0.7273 - 0s/epoch - 0s/step\n",
      "Epoch 90/200\n",
      "1/1 - 0s - loss: 0.8380 - accuracy: 0.7273 - 379us/epoch - 379us/step\n",
      "Epoch 91/200\n",
      "1/1 - 0s - loss: 0.8241 - accuracy: 0.7273 - 0s/epoch - 0s/step\n",
      "Epoch 92/200\n",
      "1/1 - 0s - loss: 0.8105 - accuracy: 0.7273 - 0s/epoch - 0s/step\n",
      "Epoch 93/200\n",
      "1/1 - 0s - loss: 0.7970 - accuracy: 0.7273 - 16ms/epoch - 16ms/step\n",
      "Epoch 94/200\n",
      "1/1 - 0s - loss: 0.7837 - accuracy: 0.7273 - 0s/epoch - 0s/step\n",
      "Epoch 95/200\n",
      "1/1 - 0s - loss: 0.7706 - accuracy: 0.7273 - 0s/epoch - 0s/step\n",
      "Epoch 96/200\n",
      "1/1 - 0s - loss: 0.7577 - accuracy: 0.7273 - 0s/epoch - 0s/step\n",
      "Epoch 97/200\n",
      "1/1 - 0s - loss: 0.7450 - accuracy: 0.7273 - 2ms/epoch - 2ms/step\n",
      "Epoch 98/200\n",
      "1/1 - 0s - loss: 0.7325 - accuracy: 0.7273 - 0s/epoch - 0s/step\n",
      "Epoch 99/200\n",
      "1/1 - 0s - loss: 0.7202 - accuracy: 0.7273 - 0s/epoch - 0s/step\n",
      "Epoch 100/200\n",
      "1/1 - 0s - loss: 0.7081 - accuracy: 0.7273 - 16ms/epoch - 16ms/step\n",
      "Epoch 101/200\n",
      "1/1 - 0s - loss: 0.6962 - accuracy: 0.7273 - 0s/epoch - 0s/step\n",
      "Epoch 102/200\n",
      "1/1 - 0s - loss: 0.6846 - accuracy: 0.7273 - 0s/epoch - 0s/step\n",
      "Epoch 103/200\n",
      "1/1 - 0s - loss: 0.6731 - accuracy: 0.7273 - 0s/epoch - 0s/step\n",
      "Epoch 104/200\n",
      "1/1 - 0s - loss: 0.6619 - accuracy: 0.7273 - 17ms/epoch - 17ms/step\n",
      "Epoch 105/200\n",
      "1/1 - 0s - loss: 0.6509 - accuracy: 0.7273 - 0s/epoch - 0s/step\n"
     ]
    },
    {
     "name": "stdout",
     "output_type": "stream",
     "text": [
      "Epoch 106/200\n",
      "1/1 - 0s - loss: 0.6401 - accuracy: 0.9091 - 0s/epoch - 0s/step\n",
      "Epoch 107/200\n",
      "1/1 - 0s - loss: 0.6296 - accuracy: 0.9091 - 0s/epoch - 0s/step\n",
      "Epoch 108/200\n",
      "1/1 - 0s - loss: 0.6192 - accuracy: 0.9091 - 0s/epoch - 0s/step\n",
      "Epoch 109/200\n",
      "1/1 - 0s - loss: 0.6091 - accuracy: 0.9091 - 8ms/epoch - 8ms/step\n",
      "Epoch 110/200\n",
      "1/1 - 0s - loss: 0.5992 - accuracy: 0.9091 - 0s/epoch - 0s/step\n",
      "Epoch 111/200\n",
      "1/1 - 0s - loss: 0.5895 - accuracy: 0.9091 - 8ms/epoch - 8ms/step\n",
      "Epoch 112/200\n",
      "1/1 - 0s - loss: 0.5800 - accuracy: 0.9091 - 0s/epoch - 0s/step\n",
      "Epoch 113/200\n",
      "1/1 - 0s - loss: 0.5707 - accuracy: 0.9091 - 0s/epoch - 0s/step\n",
      "Epoch 114/200\n",
      "1/1 - 0s - loss: 0.5616 - accuracy: 0.9091 - 0s/epoch - 0s/step\n",
      "Epoch 115/200\n",
      "1/1 - 0s - loss: 0.5527 - accuracy: 0.9091 - 17ms/epoch - 17ms/step\n",
      "Epoch 116/200\n",
      "1/1 - 0s - loss: 0.5440 - accuracy: 0.9091 - 0s/epoch - 0s/step\n",
      "Epoch 117/200\n",
      "1/1 - 0s - loss: 0.5355 - accuracy: 0.9091 - 0s/epoch - 0s/step\n",
      "Epoch 118/200\n",
      "1/1 - 0s - loss: 0.5271 - accuracy: 0.9091 - 16ms/epoch - 16ms/step\n",
      "Epoch 119/200\n",
      "1/1 - 0s - loss: 0.5189 - accuracy: 0.9091 - 0s/epoch - 0s/step\n",
      "Epoch 120/200\n",
      "1/1 - 0s - loss: 0.5109 - accuracy: 0.9091 - 0s/epoch - 0s/step\n",
      "Epoch 121/200\n",
      "1/1 - 0s - loss: 0.5030 - accuracy: 0.9091 - 0s/epoch - 0s/step\n",
      "Epoch 122/200\n",
      "1/1 - 0s - loss: 0.4953 - accuracy: 0.9091 - 17ms/epoch - 17ms/step\n",
      "Epoch 123/200\n",
      "1/1 - 0s - loss: 0.4878 - accuracy: 0.9091 - 0s/epoch - 0s/step\n",
      "Epoch 124/200\n",
      "1/1 - 0s - loss: 0.4803 - accuracy: 0.9091 - 0s/epoch - 0s/step\n",
      "Epoch 125/200\n",
      "1/1 - 0s - loss: 0.4731 - accuracy: 0.9091 - 0s/epoch - 0s/step\n",
      "Epoch 126/200\n",
      "1/1 - 0s - loss: 0.4659 - accuracy: 0.9091 - 17ms/epoch - 17ms/step\n",
      "Epoch 127/200\n",
      "1/1 - 0s - loss: 0.4589 - accuracy: 0.9091 - 0s/epoch - 0s/step\n",
      "Epoch 128/200\n",
      "1/1 - 0s - loss: 0.4520 - accuracy: 0.9091 - 0s/epoch - 0s/step\n",
      "Epoch 129/200\n",
      "1/1 - 0s - loss: 0.4453 - accuracy: 0.9091 - 0s/epoch - 0s/step\n",
      "Epoch 130/200\n",
      "1/1 - 0s - loss: 0.4386 - accuracy: 0.9091 - 1ms/epoch - 1ms/step\n",
      "Epoch 131/200\n",
      "1/1 - 0s - loss: 0.4321 - accuracy: 0.9091 - 0s/epoch - 0s/step\n",
      "Epoch 132/200\n",
      "1/1 - 0s - loss: 0.4257 - accuracy: 0.9091 - 0s/epoch - 0s/step\n",
      "Epoch 133/200\n",
      "1/1 - 0s - loss: 0.4194 - accuracy: 0.9091 - 8ms/epoch - 8ms/step\n",
      "Epoch 134/200\n",
      "1/1 - 0s - loss: 0.4132 - accuracy: 0.9091 - 0s/epoch - 0s/step\n",
      "Epoch 135/200\n",
      "1/1 - 0s - loss: 0.4071 - accuracy: 0.9091 - 0s/epoch - 0s/step\n",
      "Epoch 136/200\n",
      "1/1 - 0s - loss: 0.4011 - accuracy: 0.9091 - 0s/epoch - 0s/step\n",
      "Epoch 137/200\n",
      "1/1 - 0s - loss: 0.3951 - accuracy: 0.9091 - 17ms/epoch - 17ms/step\n",
      "Epoch 138/200\n",
      "1/1 - 0s - loss: 0.3893 - accuracy: 0.9091 - 0s/epoch - 0s/step\n",
      "Epoch 139/200\n",
      "1/1 - 0s - loss: 0.3835 - accuracy: 0.9091 - 0s/epoch - 0s/step\n",
      "Epoch 140/200\n",
      "1/1 - 0s - loss: 0.3779 - accuracy: 0.9091 - 0s/epoch - 0s/step\n",
      "Epoch 141/200\n",
      "1/1 - 0s - loss: 0.3723 - accuracy: 0.9091 - 17ms/epoch - 17ms/step\n",
      "Epoch 142/200\n",
      "1/1 - 0s - loss: 0.3668 - accuracy: 0.9091 - 0s/epoch - 0s/step\n",
      "Epoch 143/200\n",
      "1/1 - 0s - loss: 0.3613 - accuracy: 0.9091 - 0s/epoch - 0s/step\n",
      "Epoch 144/200\n",
      "1/1 - 0s - loss: 0.3560 - accuracy: 0.9091 - 0s/epoch - 0s/step\n",
      "Epoch 145/200\n",
      "1/1 - 0s - loss: 0.3507 - accuracy: 0.9091 - 352us/epoch - 352us/step\n",
      "Epoch 146/200\n",
      "1/1 - 0s - loss: 0.3455 - accuracy: 0.9091 - 0s/epoch - 0s/step\n",
      "Epoch 147/200\n",
      "1/1 - 0s - loss: 0.3403 - accuracy: 0.9091 - 0s/epoch - 0s/step\n",
      "Epoch 148/200\n",
      "1/1 - 0s - loss: 0.3352 - accuracy: 0.9091 - 16ms/epoch - 16ms/step\n",
      "Epoch 149/200\n",
      "1/1 - 0s - loss: 0.3302 - accuracy: 0.9091 - 0s/epoch - 0s/step\n",
      "Epoch 150/200\n",
      "1/1 - 0s - loss: 0.3253 - accuracy: 0.9091 - 0s/epoch - 0s/step\n",
      "Epoch 151/200\n",
      "1/1 - 0s - loss: 0.3204 - accuracy: 0.9091 - 0s/epoch - 0s/step\n",
      "Epoch 152/200\n",
      "1/1 - 0s - loss: 0.3155 - accuracy: 0.9091 - 1ms/epoch - 1ms/step\n",
      "Epoch 153/200\n",
      "1/1 - 0s - loss: 0.3108 - accuracy: 0.9091 - 0s/epoch - 0s/step\n",
      "Epoch 154/200\n",
      "1/1 - 0s - loss: 0.3060 - accuracy: 0.9091 - 0s/epoch - 0s/step\n",
      "Epoch 155/200\n",
      "1/1 - 0s - loss: 0.3014 - accuracy: 0.9091 - 8ms/epoch - 8ms/step\n",
      "Epoch 156/200\n",
      "1/1 - 0s - loss: 0.2968 - accuracy: 0.9091 - 0s/epoch - 0s/step\n",
      "Epoch 157/200\n",
      "1/1 - 0s - loss: 0.2923 - accuracy: 0.9091 - 0s/epoch - 0s/step\n",
      "Epoch 158/200\n",
      "1/1 - 0s - loss: 0.2878 - accuracy: 0.9091 - 0s/epoch - 0s/step\n",
      "Epoch 159/200\n",
      "1/1 - 0s - loss: 0.2834 - accuracy: 0.9091 - 17ms/epoch - 17ms/step\n",
      "Epoch 160/200\n",
      "1/1 - 0s - loss: 0.2790 - accuracy: 0.9091 - 0s/epoch - 0s/step\n",
      "Epoch 161/200\n",
      "1/1 - 0s - loss: 0.2747 - accuracy: 0.9091 - 0s/epoch - 0s/step\n",
      "Epoch 162/200\n",
      "1/1 - 0s - loss: 0.2704 - accuracy: 0.9091 - 0s/epoch - 0s/step\n",
      "Epoch 163/200\n",
      "1/1 - 0s - loss: 0.2662 - accuracy: 0.9091 - 17ms/epoch - 17ms/step\n",
      "Epoch 164/200\n",
      "1/1 - 0s - loss: 0.2621 - accuracy: 1.0000 - 0s/epoch - 0s/step\n",
      "Epoch 165/200\n",
      "1/1 - 0s - loss: 0.2580 - accuracy: 1.0000 - 0s/epoch - 0s/step\n",
      "Epoch 166/200\n",
      "1/1 - 0s - loss: 0.2540 - accuracy: 1.0000 - 0s/epoch - 0s/step\n",
      "Epoch 167/200\n",
      "1/1 - 0s - loss: 0.2500 - accuracy: 1.0000 - 1ms/epoch - 1ms/step\n",
      "Epoch 168/200\n",
      "1/1 - 0s - loss: 0.2461 - accuracy: 1.0000 - 0s/epoch - 0s/step\n",
      "Epoch 169/200\n",
      "1/1 - 0s - loss: 0.2422 - accuracy: 1.0000 - 0s/epoch - 0s/step\n",
      "Epoch 170/200\n",
      "1/1 - 0s - loss: 0.2384 - accuracy: 1.0000 - 0s/epoch - 0s/step\n",
      "Epoch 171/200\n",
      "1/1 - 0s - loss: 0.2347 - accuracy: 1.0000 - 0s/epoch - 0s/step\n",
      "Epoch 172/200\n",
      "1/1 - 0s - loss: 0.2310 - accuracy: 1.0000 - 0s/epoch - 0s/step\n",
      "Epoch 173/200\n",
      "1/1 - 0s - loss: 0.2273 - accuracy: 1.0000 - 16ms/epoch - 16ms/step\n",
      "Epoch 174/200\n",
      "1/1 - 0s - loss: 0.2237 - accuracy: 1.0000 - 0s/epoch - 0s/step\n",
      "Epoch 175/200\n",
      "1/1 - 0s - loss: 0.2202 - accuracy: 1.0000 - 8ms/epoch - 8ms/step\n",
      "Epoch 176/200\n",
      "1/1 - 0s - loss: 0.2167 - accuracy: 1.0000 - 0s/epoch - 0s/step\n",
      "Epoch 177/200\n",
      "1/1 - 0s - loss: 0.2133 - accuracy: 1.0000 - 9ms/epoch - 9ms/step\n",
      "Epoch 178/200\n",
      "1/1 - 0s - loss: 0.2099 - accuracy: 1.0000 - 0s/epoch - 0s/step\n",
      "Epoch 179/200\n",
      "1/1 - 0s - loss: 0.2066 - accuracy: 1.0000 - 0s/epoch - 0s/step\n",
      "Epoch 180/200\n",
      "1/1 - 0s - loss: 0.2033 - accuracy: 1.0000 - 0s/epoch - 0s/step\n",
      "Epoch 181/200\n",
      "1/1 - 0s - loss: 0.2001 - accuracy: 1.0000 - 608us/epoch - 608us/step\n",
      "Epoch 182/200\n",
      "1/1 - 0s - loss: 0.1969 - accuracy: 1.0000 - 0s/epoch - 0s/step\n",
      "Epoch 183/200\n",
      "1/1 - 0s - loss: 0.1938 - accuracy: 1.0000 - 12ms/epoch - 12ms/step\n",
      "Epoch 184/200\n",
      "1/1 - 0s - loss: 0.1907 - accuracy: 1.0000 - 4ms/epoch - 4ms/step\n",
      "Epoch 185/200\n",
      "1/1 - 0s - loss: 0.1877 - accuracy: 1.0000 - 3ms/epoch - 3ms/step\n",
      "Epoch 186/200\n",
      "1/1 - 0s - loss: 0.1847 - accuracy: 1.0000 - 0s/epoch - 0s/step\n",
      "Epoch 187/200\n",
      "1/1 - 0s - loss: 0.1818 - accuracy: 1.0000 - 0s/epoch - 0s/step\n",
      "Epoch 188/200\n",
      "1/1 - 0s - loss: 0.1789 - accuracy: 1.0000 - 1ms/epoch - 1ms/step\n",
      "Epoch 189/200\n",
      "1/1 - 0s - loss: 0.1761 - accuracy: 1.0000 - 0s/epoch - 0s/step\n",
      "Epoch 190/200\n",
      "1/1 - 0s - loss: 0.1733 - accuracy: 1.0000 - 0s/epoch - 0s/step\n",
      "Epoch 191/200\n",
      "1/1 - 0s - loss: 0.1705 - accuracy: 1.0000 - 16ms/epoch - 16ms/step\n",
      "Epoch 192/200\n",
      "1/1 - 0s - loss: 0.1678 - accuracy: 1.0000 - 0s/epoch - 0s/step\n",
      "Epoch 193/200\n",
      "1/1 - 0s - loss: 0.1652 - accuracy: 1.0000 - 0s/epoch - 0s/step\n",
      "Epoch 194/200\n",
      "1/1 - 0s - loss: 0.1626 - accuracy: 1.0000 - 0s/epoch - 0s/step\n",
      "Epoch 195/200\n",
      "1/1 - 0s - loss: 0.1600 - accuracy: 1.0000 - 16ms/epoch - 16ms/step\n",
      "Epoch 196/200\n",
      "1/1 - 0s - loss: 0.1575 - accuracy: 1.0000 - 0s/epoch - 0s/step\n",
      "Epoch 197/200\n",
      "1/1 - 0s - loss: 0.1550 - accuracy: 1.0000 - 9ms/epoch - 9ms/step\n",
      "Epoch 198/200\n",
      "1/1 - 0s - loss: 0.1525 - accuracy: 1.0000 - 0s/epoch - 0s/step\n",
      "Epoch 199/200\n",
      "1/1 - 0s - loss: 0.1501 - accuracy: 1.0000 - 8ms/epoch - 8ms/step\n",
      "Epoch 200/200\n",
      "1/1 - 0s - loss: 0.1478 - accuracy: 1.0000 - 0s/epoch - 0s/step\n"
     ]
    },
    {
     "data": {
      "text/plain": [
       "<keras.src.callbacks.History at 0x24f30a28bb0>"
      ]
     },
     "execution_count": 18,
     "metadata": {},
     "output_type": "execute_result"
    }
   ],
   "source": [
    "embedding_dim = 10\n",
    "hidden_units = 32\n",
    "\n",
    "model = Sequential()\n",
    "model.add(Embedding(vocab_size, embedding_dim))\n",
    "model.add(SimpleRNN(hidden_units))\n",
    "model.add(Dense(vocab_size, activation='softmax'))\n",
    "model.compile(loss='categorical_crossentropy', optimizer='adam', metrics=['accuracy'])\n",
    "model.fit(X, y, epochs=200, verbose=2)"
   ]
  },
  {
   "cell_type": "code",
   "execution_count": 19,
   "metadata": {
    "ExecuteTime": {
     "end_time": "2024-06-08T01:57:44.828638Z",
     "start_time": "2024-06-08T01:57:44.816214Z"
    },
    "id": "t96dpxgNEl4v"
   },
   "outputs": [],
   "source": [
    "def sentence_generation(model, tokenizer, current_word, n): # 모델, 토크나이저, 현재 단어, 반복할 횟수\n",
    "    init_word = current_word\n",
    "    sentence = ''\n",
    "\n",
    "    # n번 반복\n",
    "    for _ in range(n):\n",
    "        # 현재 단어에 대한 정수 인코딩과 패딩\n",
    "        encoded = tokenizer.texts_to_sequences([current_word])[0]\n",
    "        encoded = pad_sequences([encoded], maxlen=5, padding='pre')\n",
    "        # 입력한 X(현재 단어)에 대해서 Y를 예측하고 Y(예측한 단어)를 result에 저장.\n",
    "        result = model.predict(encoded, verbose=0)\n",
    "        result = np.argmax(result, axis=1)\n",
    "\n",
    "        for word, index in tokenizer.word_index.items(): \n",
    "            # 만약 예측한 단어와 인덱스와 동일한 단어가 있다면 break\n",
    "            if index == result:\n",
    "                break\n",
    "\n",
    "        # 현재 단어 + ' ' + 예측 단어를 현재 단어로 변경\n",
    "        current_word = current_word + ' '  + word\n",
    "\n",
    "        # 예측 단어를 문장에 저장\n",
    "        sentence = sentence + ' ' + word\n",
    "\n",
    "    sentence = init_word + sentence\n",
    "    return sentence"
   ]
  },
  {
   "cell_type": "code",
   "execution_count": 20,
   "metadata": {
    "ExecuteTime": {
     "end_time": "2024-06-08T01:58:15.421983Z",
     "start_time": "2024-06-08T01:58:15.149685Z"
    },
    "colab": {
     "base_uri": "https://localhost:8080/"
    },
    "id": "jJjBZ6PxE0EX",
    "outputId": "97e43ec0-2ff3-4894-c14e-18574b262c1e"
   },
   "outputs": [
    {
     "name": "stdout",
     "output_type": "stream",
     "text": [
      "경마장에 있는 말이 뛰고 있다\n"
     ]
    }
   ],
   "source": [
    "print(sentence_generation(model, tokenizer, '경마장에', 4)) # 모델, 토크나이저, 현재 단어, 반복할 횟수"
   ]
  },
  {
   "cell_type": "code",
   "execution_count": 21,
   "metadata": {
    "ExecuteTime": {
     "end_time": "2024-06-08T01:58:16.116239Z",
     "start_time": "2024-06-08T01:58:16.016660Z"
    },
    "colab": {
     "base_uri": "https://localhost:8080/"
    },
    "id": "AOfI9YuUFVv2",
    "outputId": "f68c61c3-7704-454b-fa70-80164c95c627"
   },
   "outputs": [
    {
     "name": "stdout",
     "output_type": "stream",
     "text": [
      "그의 말이 법이다\n"
     ]
    }
   ],
   "source": [
    "print(sentence_generation(model, tokenizer, '그의', 2))"
   ]
  },
  {
   "cell_type": "code",
   "execution_count": 22,
   "metadata": {
    "ExecuteTime": {
     "end_time": "2024-06-08T01:58:17.774713Z",
     "start_time": "2024-06-08T01:58:17.576718Z"
    },
    "colab": {
     "base_uri": "https://localhost:8080/"
    },
    "id": "Gl9zEMmzFh9u",
    "outputId": "6bd5632e-62df-446c-d1ce-10a201134835"
   },
   "outputs": [
    {
     "name": "stdout",
     "output_type": "stream",
     "text": [
      "가는 말이 고와야 오는 말이 곱다\n"
     ]
    }
   ],
   "source": [
    "print(sentence_generation(model, tokenizer, '가는', 5))"
   ]
  },
  {
   "cell_type": "markdown",
   "metadata": {
    "id": "jJtAdaMtGn6T"
   },
   "source": [
    "# 2. LSTM을 이용하여 텍스트 생성하기"
   ]
  },
  {
   "cell_type": "code",
   "execution_count": 23,
   "metadata": {
    "ExecuteTime": {
     "end_time": "2024-06-08T01:58:22.700665Z",
     "start_time": "2024-06-08T01:58:22.693667Z"
    },
    "id": "wCIJkMG5Go1f"
   },
   "outputs": [],
   "source": [
    "import pandas as pd\n",
    "import numpy as np\n",
    "from string import punctuation\n",
    "\n",
    "from tensorflow.keras.preprocessing.text import Tokenizer\n",
    "from tensorflow.keras.preprocessing.sequence import pad_sequences\n",
    "from tensorflow.keras.utils import to_categorical"
   ]
  },
  {
   "cell_type": "code",
   "execution_count": 24,
   "metadata": {
    "ExecuteTime": {
     "end_time": "2024-06-08T01:59:04.486092Z",
     "start_time": "2024-06-08T01:59:04.414622Z"
    },
    "colab": {
     "base_uri": "https://localhost:8080/",
     "height": 653
    },
    "id": "BhA4cyOgGrTP",
    "outputId": "eb3a9763-f7dc-4380-def7-8a864d48352f"
   },
   "outputs": [
    {
     "data": {
      "text/html": [
       "<div>\n",
       "<style scoped>\n",
       "    .dataframe tbody tr th:only-of-type {\n",
       "        vertical-align: middle;\n",
       "    }\n",
       "\n",
       "    .dataframe tbody tr th {\n",
       "        vertical-align: top;\n",
       "    }\n",
       "\n",
       "    .dataframe thead th {\n",
       "        text-align: right;\n",
       "    }\n",
       "</style>\n",
       "<table border=\"1\" class=\"dataframe\">\n",
       "  <thead>\n",
       "    <tr style=\"text-align: right;\">\n",
       "      <th></th>\n",
       "      <th>articleID</th>\n",
       "      <th>articleWordCount</th>\n",
       "      <th>byline</th>\n",
       "      <th>documentType</th>\n",
       "      <th>headline</th>\n",
       "      <th>keywords</th>\n",
       "      <th>multimedia</th>\n",
       "      <th>newDesk</th>\n",
       "      <th>printPage</th>\n",
       "      <th>pubDate</th>\n",
       "      <th>sectionName</th>\n",
       "      <th>snippet</th>\n",
       "      <th>source</th>\n",
       "      <th>typeOfMaterial</th>\n",
       "      <th>webURL</th>\n",
       "    </tr>\n",
       "  </thead>\n",
       "  <tbody>\n",
       "    <tr>\n",
       "      <th>0</th>\n",
       "      <td>5adf6684068401528a2aa69b</td>\n",
       "      <td>781</td>\n",
       "      <td>By JOHN BRANCH</td>\n",
       "      <td>article</td>\n",
       "      <td>Former N.F.L. Cheerleaders’ Settlement Offer: ...</td>\n",
       "      <td>['Workplace Hazards and Violations', 'Football...</td>\n",
       "      <td>68</td>\n",
       "      <td>Sports</td>\n",
       "      <td>0</td>\n",
       "      <td>2018-04-24 17:16:49</td>\n",
       "      <td>Pro Football</td>\n",
       "      <td>“I understand that they could meet with us, pa...</td>\n",
       "      <td>The New York Times</td>\n",
       "      <td>News</td>\n",
       "      <td>https://www.nytimes.com/2018/04/24/sports/foot...</td>\n",
       "    </tr>\n",
       "    <tr>\n",
       "      <th>1</th>\n",
       "      <td>5adf653f068401528a2aa697</td>\n",
       "      <td>656</td>\n",
       "      <td>By LISA FRIEDMAN</td>\n",
       "      <td>article</td>\n",
       "      <td>E.P.A. to Unveil a New Rule. Its Effect: Less ...</td>\n",
       "      <td>['Environmental Protection Agency', 'Pruitt, S...</td>\n",
       "      <td>68</td>\n",
       "      <td>Climate</td>\n",
       "      <td>0</td>\n",
       "      <td>2018-04-24 17:11:21</td>\n",
       "      <td>Unknown</td>\n",
       "      <td>The agency plans to publish a new regulation T...</td>\n",
       "      <td>The New York Times</td>\n",
       "      <td>News</td>\n",
       "      <td>https://www.nytimes.com/2018/04/24/climate/epa...</td>\n",
       "    </tr>\n",
       "    <tr>\n",
       "      <th>2</th>\n",
       "      <td>5adf4626068401528a2aa628</td>\n",
       "      <td>2427</td>\n",
       "      <td>By PETE WELLS</td>\n",
       "      <td>article</td>\n",
       "      <td>The New Noma, Explained</td>\n",
       "      <td>['Restaurants', 'Noma (Copenhagen, Restaurant)...</td>\n",
       "      <td>66</td>\n",
       "      <td>Dining</td>\n",
       "      <td>0</td>\n",
       "      <td>2018-04-24 14:58:44</td>\n",
       "      <td>Unknown</td>\n",
       "      <td>What’s it like to eat at the second incarnatio...</td>\n",
       "      <td>The New York Times</td>\n",
       "      <td>News</td>\n",
       "      <td>https://www.nytimes.com/2018/04/24/dining/noma...</td>\n",
       "    </tr>\n",
       "    <tr>\n",
       "      <th>3</th>\n",
       "      <td>5adf40d2068401528a2aa619</td>\n",
       "      <td>626</td>\n",
       "      <td>By JULIE HIRSCHFELD DAVIS and PETER BAKER</td>\n",
       "      <td>article</td>\n",
       "      <td>Unknown</td>\n",
       "      <td>['Macron, Emmanuel (1977- )', 'Trump, Donald J...</td>\n",
       "      <td>68</td>\n",
       "      <td>Washington</td>\n",
       "      <td>0</td>\n",
       "      <td>2018-04-24 14:35:57</td>\n",
       "      <td>Europe</td>\n",
       "      <td>President Trump welcomed President Emmanuel Ma...</td>\n",
       "      <td>The New York Times</td>\n",
       "      <td>News</td>\n",
       "      <td>https://www.nytimes.com/2018/04/24/world/europ...</td>\n",
       "    </tr>\n",
       "    <tr>\n",
       "      <th>4</th>\n",
       "      <td>5adf3d64068401528a2aa60f</td>\n",
       "      <td>815</td>\n",
       "      <td>By IAN AUSTEN and DAN BILEFSKY</td>\n",
       "      <td>article</td>\n",
       "      <td>Unknown</td>\n",
       "      <td>['Toronto, Ontario, Attack (April, 2018)', 'Mu...</td>\n",
       "      <td>68</td>\n",
       "      <td>Foreign</td>\n",
       "      <td>0</td>\n",
       "      <td>2018-04-24 14:21:21</td>\n",
       "      <td>Canada</td>\n",
       "      <td>Alek Minassian, 25, a resident of Toronto’s Ri...</td>\n",
       "      <td>The New York Times</td>\n",
       "      <td>News</td>\n",
       "      <td>https://www.nytimes.com/2018/04/24/world/canad...</td>\n",
       "    </tr>\n",
       "  </tbody>\n",
       "</table>\n",
       "</div>"
      ],
      "text/plain": [
       "                  articleID  articleWordCount  \\\n",
       "0  5adf6684068401528a2aa69b               781   \n",
       "1  5adf653f068401528a2aa697               656   \n",
       "2  5adf4626068401528a2aa628              2427   \n",
       "3  5adf40d2068401528a2aa619               626   \n",
       "4  5adf3d64068401528a2aa60f               815   \n",
       "\n",
       "                                      byline documentType  \\\n",
       "0                             By JOHN BRANCH      article   \n",
       "1                           By LISA FRIEDMAN      article   \n",
       "2                              By PETE WELLS      article   \n",
       "3  By JULIE HIRSCHFELD DAVIS and PETER BAKER      article   \n",
       "4             By IAN AUSTEN and DAN BILEFSKY      article   \n",
       "\n",
       "                                            headline  \\\n",
       "0  Former N.F.L. Cheerleaders’ Settlement Offer: ...   \n",
       "1  E.P.A. to Unveil a New Rule. Its Effect: Less ...   \n",
       "2                            The New Noma, Explained   \n",
       "3                                            Unknown   \n",
       "4                                            Unknown   \n",
       "\n",
       "                                            keywords  multimedia     newDesk  \\\n",
       "0  ['Workplace Hazards and Violations', 'Football...          68      Sports   \n",
       "1  ['Environmental Protection Agency', 'Pruitt, S...          68     Climate   \n",
       "2  ['Restaurants', 'Noma (Copenhagen, Restaurant)...          66      Dining   \n",
       "3  ['Macron, Emmanuel (1977- )', 'Trump, Donald J...          68  Washington   \n",
       "4  ['Toronto, Ontario, Attack (April, 2018)', 'Mu...          68     Foreign   \n",
       "\n",
       "   printPage              pubDate   sectionName  \\\n",
       "0          0  2018-04-24 17:16:49  Pro Football   \n",
       "1          0  2018-04-24 17:11:21       Unknown   \n",
       "2          0  2018-04-24 14:58:44       Unknown   \n",
       "3          0  2018-04-24 14:35:57        Europe   \n",
       "4          0  2018-04-24 14:21:21        Canada   \n",
       "\n",
       "                                             snippet              source  \\\n",
       "0  “I understand that they could meet with us, pa...  The New York Times   \n",
       "1  The agency plans to publish a new regulation T...  The New York Times   \n",
       "2  What’s it like to eat at the second incarnatio...  The New York Times   \n",
       "3  President Trump welcomed President Emmanuel Ma...  The New York Times   \n",
       "4  Alek Minassian, 25, a resident of Toronto’s Ri...  The New York Times   \n",
       "\n",
       "  typeOfMaterial                                             webURL  \n",
       "0           News  https://www.nytimes.com/2018/04/24/sports/foot...  \n",
       "1           News  https://www.nytimes.com/2018/04/24/climate/epa...  \n",
       "2           News  https://www.nytimes.com/2018/04/24/dining/noma...  \n",
       "3           News  https://www.nytimes.com/2018/04/24/world/europ...  \n",
       "4           News  https://www.nytimes.com/2018/04/24/world/canad...  "
      ]
     },
     "execution_count": 24,
     "metadata": {},
     "output_type": "execute_result"
    }
   ],
   "source": [
    "df = pd.read_csv('./dataset/ArticlesApril2018.csv')\n",
    "df.head()"
   ]
  },
  {
   "cell_type": "code",
   "execution_count": 25,
   "metadata": {
    "ExecuteTime": {
     "end_time": "2024-06-08T01:59:13.260268Z",
     "start_time": "2024-06-08T01:59:13.254979Z"
    },
    "colab": {
     "base_uri": "https://localhost:8080/"
    },
    "id": "zMugfN6GGtNH",
    "outputId": "a6db3092-c0d1-4b90-952d-577501647ff9"
   },
   "outputs": [
    {
     "name": "stdout",
     "output_type": "stream",
     "text": [
      "열의 개수:  15\n",
      "Index(['articleID', 'articleWordCount', 'byline', 'documentType', 'headline',\n",
      "       'keywords', 'multimedia', 'newDesk', 'printPage', 'pubDate',\n",
      "       'sectionName', 'snippet', 'source', 'typeOfMaterial', 'webURL'],\n",
      "      dtype='object')\n"
     ]
    }
   ],
   "source": [
    "print('열의 개수: ',len(df.columns))\n",
    "print(df.columns)"
   ]
  },
  {
   "cell_type": "code",
   "execution_count": 26,
   "metadata": {
    "ExecuteTime": {
     "end_time": "2024-06-08T01:59:17.176941Z",
     "start_time": "2024-06-08T01:59:17.172008Z"
    },
    "colab": {
     "base_uri": "https://localhost:8080/"
    },
    "id": "RNK4ABDtGyMH",
    "outputId": "b8ac8eda-6593-4f5a-8277-73fbb953dfd2"
   },
   "outputs": [
    {
     "name": "stdout",
     "output_type": "stream",
     "text": [
      "False\n"
     ]
    }
   ],
   "source": [
    "print(df['headline'].isnull().values.any())"
   ]
  },
  {
   "cell_type": "code",
   "execution_count": 27,
   "metadata": {
    "ExecuteTime": {
     "end_time": "2024-06-08T01:59:30.856604Z",
     "start_time": "2024-06-08T01:59:30.838854Z"
    },
    "colab": {
     "base_uri": "https://localhost:8080/"
    },
    "id": "EGeLDG7EGz7P",
    "outputId": "55ff7eef-f726-4f41-d787-16f0067af032"
   },
   "outputs": [
    {
     "data": {
      "text/plain": [
       "['Former N.F.L. Cheerleaders’ Settlement Offer: $1 and a Meeting With Goodell',\n",
       " 'E.P.A. to Unveil a New Rule. Its Effect: Less Science in Policymaking.',\n",
       " 'The New Noma, Explained',\n",
       " 'Unknown',\n",
       " 'Unknown']"
      ]
     },
     "execution_count": 27,
     "metadata": {},
     "output_type": "execute_result"
    }
   ],
   "source": [
    "headline = []\n",
    "# 헤드라인의 값들을 리스트로 저장\n",
    "headline.extend(list(df.headline.values)) \n",
    "headline[:5]"
   ]
  },
  {
   "cell_type": "code",
   "execution_count": 28,
   "metadata": {
    "ExecuteTime": {
     "end_time": "2024-06-08T01:59:31.277216Z",
     "start_time": "2024-06-08T01:59:31.262202Z"
    },
    "colab": {
     "base_uri": "https://localhost:8080/"
    },
    "id": "379FN70HG2XX",
    "outputId": "bae6a114-8d25-461d-c151-bffbded4800c"
   },
   "outputs": [
    {
     "name": "stdout",
     "output_type": "stream",
     "text": [
      "총 샘플의 개수 : 1324\n"
     ]
    }
   ],
   "source": [
    "print('총 샘플의 개수 : {}'.format(len(headline))) # 현재 샘플의 개수"
   ]
  },
  {
   "cell_type": "code",
   "execution_count": 29,
   "metadata": {
    "ExecuteTime": {
     "end_time": "2024-06-08T01:59:31.853646Z",
     "start_time": "2024-06-08T01:59:31.841954Z"
    },
    "colab": {
     "base_uri": "https://localhost:8080/"
    },
    "id": "zy8-4-AyG9Hv",
    "outputId": "8bf17e8e-a401-4a12-de70-23dc4abcfded"
   },
   "outputs": [
    {
     "name": "stdout",
     "output_type": "stream",
     "text": [
      "노이즈값 제거 후 샘플의 개수 : 1214\n"
     ]
    }
   ],
   "source": [
    " # Unknown 값을 가진 샘플 제거\n",
    "headline = [word for word in headline if word != \"Unknown\"]\n",
    "print('노이즈값 제거 후 샘플의 개수 : {}'.format(len(headline)))"
   ]
  },
  {
   "cell_type": "code",
   "execution_count": 30,
   "metadata": {
    "ExecuteTime": {
     "end_time": "2024-06-08T01:59:32.356110Z",
     "start_time": "2024-06-08T01:59:32.337582Z"
    },
    "colab": {
     "base_uri": "https://localhost:8080/"
    },
    "id": "pLGQ7s_2G_3W",
    "outputId": "90283ab8-8a0c-4920-e659-be03e117803d"
   },
   "outputs": [
    {
     "data": {
      "text/plain": [
       "['former nfl cheerleaders settlement offer 1 and a meeting with goodell',\n",
       " 'epa to unveil a new rule its effect less science in policymaking',\n",
       " 'the new noma explained',\n",
       " 'how a bag of texas dirt  became a times tradition',\n",
       " 'is school a place for selfexpression']"
      ]
     },
     "execution_count": 30,
     "metadata": {},
     "output_type": "execute_result"
    }
   ],
   "source": [
    "def repreprocessing(raw_sentence):\n",
    "    preproceseed_sentence = raw_sentence.encode(\"utf8\").decode(\"ascii\",'ignore')\n",
    "    # 구두점 제거와 동시에 소문자화\n",
    "    return ''.join(word for word in preproceseed_sentence if word not in punctuation).lower()\n",
    "\n",
    "preporcessed_headline = [repreprocessing(x) for x in headline]\n",
    "preporcessed_headline[:5]"
   ]
  },
  {
   "cell_type": "code",
   "execution_count": 31,
   "metadata": {
    "ExecuteTime": {
     "end_time": "2024-06-08T01:59:32.927433Z",
     "start_time": "2024-06-08T01:59:32.892204Z"
    },
    "colab": {
     "base_uri": "https://localhost:8080/"
    },
    "id": "18-SLG1YHFb3",
    "outputId": "ea9a9626-9406-4e54-eed7-575601cd8e35"
   },
   "outputs": [
    {
     "name": "stdout",
     "output_type": "stream",
     "text": [
      "단어 집합의 크기 : 3494\n"
     ]
    }
   ],
   "source": [
    "tokenizer = Tokenizer()\n",
    "tokenizer.fit_on_texts(preporcessed_headline)\n",
    "vocab_size = len(tokenizer.word_index) + 1\n",
    "print('단어 집합의 크기 : %d' % vocab_size)"
   ]
  },
  {
   "cell_type": "code",
   "execution_count": 32,
   "metadata": {
    "ExecuteTime": {
     "end_time": "2024-06-08T01:59:33.944213Z",
     "start_time": "2024-06-08T01:59:33.912767Z"
    },
    "colab": {
     "base_uri": "https://localhost:8080/"
    },
    "id": "_9PRhbYzHmrX",
    "outputId": "d0acbe0e-9034-4626-e08f-40fd3ef3b7ea"
   },
   "outputs": [
    {
     "data": {
      "text/plain": [
       "[[99, 269],\n",
       " [99, 269, 371],\n",
       " [99, 269, 371, 1115],\n",
       " [99, 269, 371, 1115, 582],\n",
       " [99, 269, 371, 1115, 582, 52],\n",
       " [99, 269, 371, 1115, 582, 52, 7],\n",
       " [99, 269, 371, 1115, 582, 52, 7, 2],\n",
       " [99, 269, 371, 1115, 582, 52, 7, 2, 372],\n",
       " [99, 269, 371, 1115, 582, 52, 7, 2, 372, 10],\n",
       " [99, 269, 371, 1115, 582, 52, 7, 2, 372, 10, 1116],\n",
       " [100, 3]]"
      ]
     },
     "execution_count": 32,
     "metadata": {},
     "output_type": "execute_result"
    }
   ],
   "source": [
    "sequences = list()\n",
    "\n",
    "for sentence in preporcessed_headline:\n",
    "\n",
    "    # 각 샘플에 대한 정수 인코딩\n",
    "    encoded = tokenizer.texts_to_sequences([sentence])[0] \n",
    "    for i in range(1, len(encoded)):\n",
    "        sequence = encoded[:i+1]\n",
    "        sequences.append(sequence)\n",
    "\n",
    "sequences[:11]"
   ]
  },
  {
   "cell_type": "code",
   "execution_count": 33,
   "metadata": {
    "ExecuteTime": {
     "end_time": "2024-06-08T01:59:34.474315Z",
     "start_time": "2024-06-08T01:59:34.466768Z"
    },
    "colab": {
     "base_uri": "https://localhost:8080/"
    },
    "id": "uB9VhghgH4Uf",
    "outputId": "8d4f09e4-dea3-4b53-cb78-780d12129bd5"
   },
   "outputs": [
    {
     "name": "stdout",
     "output_type": "stream",
     "text": [
      "빈도수 상위 582번 단어 : offer\n"
     ]
    }
   ],
   "source": [
    "index_to_word = {}\n",
    "for key, value in tokenizer.word_index.items(): # 인덱스를 단어로 바꾸기 위해 index_to_word를 생성\n",
    "    index_to_word[value] = key\n",
    "\n",
    "print('빈도수 상위 582번 단어 : {}'.format(index_to_word[582]))"
   ]
  },
  {
   "cell_type": "code",
   "execution_count": 34,
   "metadata": {
    "ExecuteTime": {
     "end_time": "2024-06-08T01:59:35.078068Z",
     "start_time": "2024-06-08T01:59:35.066926Z"
    },
    "colab": {
     "base_uri": "https://localhost:8080/"
    },
    "id": "1DFDdcHXIO03",
    "outputId": "2d1e7948-f77f-4afb-d7d6-7659dbb67108"
   },
   "outputs": [
    {
     "name": "stdout",
     "output_type": "stream",
     "text": [
      "샘플의 최대 길이 : 24\n"
     ]
    }
   ],
   "source": [
    "max_len = max(len(l) for l in sequences)\n",
    "print('샘플의 최대 길이 : {}'.format(max_len))"
   ]
  },
  {
   "cell_type": "code",
   "execution_count": 35,
   "metadata": {
    "ExecuteTime": {
     "end_time": "2024-06-08T01:59:35.544414Z",
     "start_time": "2024-06-08T01:59:35.495332Z"
    },
    "colab": {
     "base_uri": "https://localhost:8080/"
    },
    "id": "gI_BNPqGIUNv",
    "outputId": "3a4fed40-3ecc-4f19-b079-c65af8fe9d80"
   },
   "outputs": [
    {
     "name": "stdout",
     "output_type": "stream",
     "text": [
      "[[   0    0    0    0    0    0    0    0    0    0    0    0    0    0\n",
      "     0    0    0    0    0    0    0    0   99  269]\n",
      " [   0    0    0    0    0    0    0    0    0    0    0    0    0    0\n",
      "     0    0    0    0    0    0    0   99  269  371]\n",
      " [   0    0    0    0    0    0    0    0    0    0    0    0    0    0\n",
      "     0    0    0    0    0    0   99  269  371 1115]]\n"
     ]
    }
   ],
   "source": [
    "sequences = pad_sequences(sequences, maxlen=max_len, padding='pre')\n",
    "print(sequences[:3])"
   ]
  },
  {
   "cell_type": "code",
   "execution_count": 36,
   "metadata": {
    "ExecuteTime": {
     "end_time": "2024-06-08T01:59:35.977590Z",
     "start_time": "2024-06-08T01:59:35.962244Z"
    },
    "id": "AS_Xeb68IW7n"
   },
   "outputs": [],
   "source": [
    "sequences = np.array(sequences)\n",
    "X = sequences[:,:-1]\n",
    "y = sequences[:,-1]"
   ]
  },
  {
   "cell_type": "code",
   "execution_count": 37,
   "metadata": {
    "ExecuteTime": {
     "end_time": "2024-06-08T01:59:36.504130Z",
     "start_time": "2024-06-08T01:59:36.491599Z"
    },
    "colab": {
     "base_uri": "https://localhost:8080/"
    },
    "id": "hQxwog4tIZOn",
    "outputId": "28b61b65-245b-41f5-e30e-71459dd4aa1b"
   },
   "outputs": [
    {
     "name": "stdout",
     "output_type": "stream",
     "text": [
      "[[  0   0   0   0   0   0   0   0   0   0   0   0   0   0   0   0   0   0\n",
      "    0   0   0   0  99]\n",
      " [  0   0   0   0   0   0   0   0   0   0   0   0   0   0   0   0   0   0\n",
      "    0   0   0  99 269]\n",
      " [  0   0   0   0   0   0   0   0   0   0   0   0   0   0   0   0   0   0\n",
      "    0   0  99 269 371]]\n"
     ]
    }
   ],
   "source": [
    "print(X[:3])"
   ]
  },
  {
   "cell_type": "code",
   "execution_count": 38,
   "metadata": {
    "ExecuteTime": {
     "end_time": "2024-06-08T01:59:36.973000Z",
     "start_time": "2024-06-08T01:59:36.956144Z"
    },
    "colab": {
     "base_uri": "https://localhost:8080/"
    },
    "id": "ymQ9On9bIZ8f",
    "outputId": "b5dbd0d1-e98a-4660-c11d-7bc5cfbc9eac"
   },
   "outputs": [
    {
     "name": "stdout",
     "output_type": "stream",
     "text": [
      "[ 269  371 1115]\n"
     ]
    }
   ],
   "source": [
    "print(y[:3])"
   ]
  },
  {
   "cell_type": "code",
   "execution_count": 39,
   "metadata": {
    "ExecuteTime": {
     "end_time": "2024-06-08T01:59:37.479012Z",
     "start_time": "2024-06-08T01:59:37.452087Z"
    },
    "id": "BfI0f9ChIbbP"
   },
   "outputs": [],
   "source": [
    "y = to_categorical(y, num_classes=vocab_size)"
   ]
  },
  {
   "cell_type": "code",
   "execution_count": 40,
   "metadata": {
    "ExecuteTime": {
     "end_time": "2024-06-08T01:59:37.913832Z",
     "start_time": "2024-06-08T01:59:37.898480Z"
    },
    "id": "HqNmAdYJIcUP"
   },
   "outputs": [],
   "source": [
    "from tensorflow.keras.models import Sequential\n",
    "from tensorflow.keras.layers import Embedding, Dense, LSTM"
   ]
  },
  {
   "cell_type": "code",
   "execution_count": null,
   "metadata": {
    "ExecuteTime": {
     "start_time": "2024-06-08T01:59:38.334Z"
    },
    "colab": {
     "base_uri": "https://localhost:8080/"
    },
    "id": "dUQE1WpzIkDP",
    "outputId": "8090a020-4647-4290-b3b5-11e03a4ae846"
   },
   "outputs": [
    {
     "name": "stdout",
     "output_type": "stream",
     "text": [
      "Epoch 1/200\n",
      "244/244 - 5s - loss: 7.6506 - accuracy: 0.0317 - 5s/epoch - 22ms/step\n",
      "Epoch 2/200\n"
     ]
    }
   ],
   "source": [
    "embedding_dim = 10\n",
    "hidden_units = 128\n",
    "\n",
    "model = Sequential()\n",
    "model.add(Embedding(vocab_size, embedding_dim))\n",
    "model.add(LSTM(hidden_units))\n",
    "model.add(Dense(vocab_size, activation='softmax'))\n",
    "model.compile(loss='categorical_crossentropy', optimizer='adam', metrics=['accuracy'])\n",
    "model.fit(X, y, epochs=200, verbose=2)"
   ]
  },
  {
   "cell_type": "code",
   "execution_count": null,
   "metadata": {
    "ExecuteTime": {
     "start_time": "2024-06-08T01:59:38.857Z"
    },
    "id": "J6Lqo_uRIq2X"
   },
   "outputs": [],
   "source": [
    "def sentence_generation(model, tokenizer, current_word, n): # 모델, 토크나이저, 현재 단어, 반복할 횟수\n",
    "    init_word = current_word\n",
    "    sentence = ''\n",
    "\n",
    "    # n번 반복\n",
    "    for _ in range(n):\n",
    "        encoded = tokenizer.texts_to_sequences([current_word])[0]\n",
    "        encoded = pad_sequences([encoded], maxlen=max_len-1, padding='pre')\n",
    "\n",
    "        # 입력한 X(현재 단어)에 대해서 y를 예측하고 y(예측한 단어)를 result에 저장.\n",
    "        result = model.predict(encoded, verbose=0)\n",
    "        result = np.argmax(result, axis=1)\n",
    "\n",
    "        for word, index in tokenizer.word_index.items(): \n",
    "            # 만약 예측한 단어와 인덱스와 동일한 단어가 있다면\n",
    "            if index == result:\n",
    "                break\n",
    "\n",
    "        # 현재 단어 + ' ' + 예측 단어를 현재 단어로 변경\n",
    "        current_word = current_word + ' '  + word\n",
    "\n",
    "        # 예측 단어를 문장에 저장\n",
    "        sentence = sentence + ' ' + word\n",
    "\n",
    "    sentence = init_word + sentence\n",
    "    return sentence"
   ]
  },
  {
   "cell_type": "code",
   "execution_count": null,
   "metadata": {
    "ExecuteTime": {
     "start_time": "2024-06-08T01:59:39.397Z"
    },
    "colab": {
     "base_uri": "https://localhost:8080/"
    },
    "id": "uAfJZAD4JIUM",
    "outputId": "3a61fef1-8790-48c7-e0b4-cee24472dbde"
   },
   "outputs": [],
   "source": [
    "print(sentence_generation(model, tokenizer, 'i', 10))"
   ]
  },
  {
   "cell_type": "code",
   "execution_count": null,
   "metadata": {
    "ExecuteTime": {
     "start_time": "2024-06-08T01:59:39.862Z"
    },
    "colab": {
     "base_uri": "https://localhost:8080/"
    },
    "id": "JeXp2oTZJLiS",
    "outputId": "00e7fa2c-821a-4bf1-ada3-736c227865fd"
   },
   "outputs": [],
   "source": [
    "print(sentence_generation(model, tokenizer, 'how', 10))"
   ]
  }
 ],
 "metadata": {
  "accelerator": "GPU",
  "colab": {
   "collapsed_sections": [],
   "machine_shape": "hm",
   "name": "Text generation with an RNN.ipynb",
   "provenance": []
  },
  "kernelspec": {
   "display_name": "Python 3",
   "language": "python",
   "name": "python3"
  },
  "language_info": {
   "codemirror_mode": {
    "name": "ipython",
    "version": 3
   },
   "file_extension": ".py",
   "mimetype": "text/x-python",
   "name": "python",
   "nbconvert_exporter": "python",
   "pygments_lexer": "ipython3",
   "version": "3.8.5"
  }
 },
 "nbformat": 4,
 "nbformat_minor": 1
}
