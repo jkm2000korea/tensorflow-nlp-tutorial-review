{
 "cells": [
  {
   "cell_type": "markdown",
   "metadata": {},
   "source": [
    "# 리뷰완료"
   ]
  },
  {
   "cell_type": "markdown",
   "metadata": {
    "id": "huQb0vF0HSOs"
   },
   "source": [
    "이 자료는 위키독스 딥 러닝을 이용한 자연어 처리 입문의 네거티브 샘플링 구현하기 튜토리얼입니다.  \n",
    "\n",
    "링크 : https://wikidocs.net/69141  \n",
    "\n",
    "2021년 10월 14일에 마지막으로 테스트되었습니다."
   ]
  },
  {
   "cell_type": "markdown",
   "metadata": {
    "id": "tnUhr3DtFhku"
   },
   "source": [
    "# 1. 20뉴스그룹 데이터 전처리하기"
   ]
  },
  {
   "cell_type": "code",
   "execution_count": 1,
   "metadata": {
    "ExecuteTime": {
     "end_time": "2024-06-11T13:41:00.762082Z",
     "start_time": "2024-06-11T13:40:46.014691Z"
    },
    "id": "zk8aRsZDEXkd"
   },
   "outputs": [],
   "source": [
    "import pandas as pd\n",
    "import numpy as np\n",
    "import nltk\n",
    "from nltk.corpus import stopwords\n",
    "from sklearn.datasets import fetch_20newsgroups\n",
    "from tensorflow.keras.preprocessing.text import Tokenizer"
   ]
  },
  {
   "cell_type": "code",
   "execution_count": 2,
   "metadata": {
    "ExecuteTime": {
     "end_time": "2024-06-11T13:41:01.988469Z",
     "start_time": "2024-06-11T13:41:00.762082Z"
    },
    "colab": {
     "base_uri": "https://localhost:8080/"
    },
    "id": "VKtuMmdK3aY6",
    "outputId": "68eebfc1-e5a0-459f-8324-deec8213b69a"
   },
   "outputs": [
    {
     "name": "stdout",
     "output_type": "stream",
     "text": [
      "총 샘플 수 : 11314\n"
     ]
    }
   ],
   "source": [
    "dataset = fetch_20newsgroups(shuffle=True, random_state=1, remove=('headers', 'footers', 'quotes'))\n",
    "documents = dataset.data\n",
    "print('총 샘플 수 :',len(documents))"
   ]
  },
  {
   "cell_type": "code",
   "execution_count": 3,
   "metadata": {
    "ExecuteTime": {
     "end_time": "2024-06-11T13:41:02.794639Z",
     "start_time": "2024-06-11T13:41:01.988469Z"
    },
    "id": "4tUNn_k16NPH"
   },
   "outputs": [
    {
     "name": "stderr",
     "output_type": "stream",
     "text": [
      "<ipython-input-3-b4124dfb5e6a>:3: FutureWarning: The default value of regex will change from True to False in a future version.\n",
      "  news_df['clean_doc'] = news_df['document'].str.replace(\"[^a-zA-Z]\", \" \")\n"
     ]
    }
   ],
   "source": [
    "news_df = pd.DataFrame({'document':documents})\n",
    "# 특수 문자 제거\n",
    "news_df['clean_doc'] = news_df['document'].str.replace(\"[^a-zA-Z]\", \" \")\n",
    "# 길이가 3이하인 단어는 제거 (길이가 짧은 단어 제거)\n",
    "news_df['clean_doc'] = news_df['clean_doc'].apply(lambda x: ' '.join([w for w in x.split() if len(w)>3]))\n",
    "# 전체 단어에 대한 소문자 변환\n",
    "news_df['clean_doc'] = news_df['clean_doc'].apply(lambda x: x.lower())"
   ]
  },
  {
   "cell_type": "code",
   "execution_count": 4,
   "metadata": {
    "ExecuteTime": {
     "end_time": "2024-06-11T13:41:02.885736Z",
     "start_time": "2024-06-11T13:41:02.794639Z"
    },
    "colab": {
     "base_uri": "https://localhost:8080/",
     "height": 203
    },
    "id": "muG9xzOs6Oac",
    "outputId": "3fa4908c-6328-49d5-a4a4-7d691188b039"
   },
   "outputs": [
    {
     "data": {
      "text/html": [
       "<div>\n",
       "<style scoped>\n",
       "    .dataframe tbody tr th:only-of-type {\n",
       "        vertical-align: middle;\n",
       "    }\n",
       "\n",
       "    .dataframe tbody tr th {\n",
       "        vertical-align: top;\n",
       "    }\n",
       "\n",
       "    .dataframe thead th {\n",
       "        text-align: right;\n",
       "    }\n",
       "</style>\n",
       "<table border=\"1\" class=\"dataframe\">\n",
       "  <thead>\n",
       "    <tr style=\"text-align: right;\">\n",
       "      <th></th>\n",
       "      <th>document</th>\n",
       "      <th>clean_doc</th>\n",
       "    </tr>\n",
       "  </thead>\n",
       "  <tbody>\n",
       "    <tr>\n",
       "      <th>0</th>\n",
       "      <td>Well i'm not sure about the story nad it did s...</td>\n",
       "      <td>well sure about story seem biased what disagre...</td>\n",
       "    </tr>\n",
       "    <tr>\n",
       "      <th>1</th>\n",
       "      <td>\\n\\n\\n\\n\\n\\n\\nYeah, do you expect people to re...</td>\n",
       "      <td>yeah expect people read actually accept hard a...</td>\n",
       "    </tr>\n",
       "    <tr>\n",
       "      <th>2</th>\n",
       "      <td>Although I realize that principle is not one o...</td>\n",
       "      <td>although realize that principle your strongest...</td>\n",
       "    </tr>\n",
       "    <tr>\n",
       "      <th>3</th>\n",
       "      <td>Notwithstanding all the legitimate fuss about ...</td>\n",
       "      <td>notwithstanding legitimate fuss about this pro...</td>\n",
       "    </tr>\n",
       "    <tr>\n",
       "      <th>4</th>\n",
       "      <td>Well, I will have to change the scoring on my ...</td>\n",
       "      <td>well will have change scoring playoff pool unf...</td>\n",
       "    </tr>\n",
       "  </tbody>\n",
       "</table>\n",
       "</div>"
      ],
      "text/plain": [
       "                                            document  \\\n",
       "0  Well i'm not sure about the story nad it did s...   \n",
       "1  \\n\\n\\n\\n\\n\\n\\nYeah, do you expect people to re...   \n",
       "2  Although I realize that principle is not one o...   \n",
       "3  Notwithstanding all the legitimate fuss about ...   \n",
       "4  Well, I will have to change the scoring on my ...   \n",
       "\n",
       "                                           clean_doc  \n",
       "0  well sure about story seem biased what disagre...  \n",
       "1  yeah expect people read actually accept hard a...  \n",
       "2  although realize that principle your strongest...  \n",
       "3  notwithstanding legitimate fuss about this pro...  \n",
       "4  well will have change scoring playoff pool unf...  "
      ]
     },
     "execution_count": 4,
     "metadata": {},
     "output_type": "execute_result"
    }
   ],
   "source": [
    "news_df.head()"
   ]
  },
  {
   "cell_type": "code",
   "execution_count": 5,
   "metadata": {
    "ExecuteTime": {
     "end_time": "2024-06-11T13:41:02.926411Z",
     "start_time": "2024-06-11T13:41:02.893044Z"
    },
    "colab": {
     "base_uri": "https://localhost:8080/"
    },
    "id": "KYuAfJNf6Rhd",
    "outputId": "6c98f92d-aac1-49dc-f39e-53d71ae9be06"
   },
   "outputs": [
    {
     "data": {
      "text/plain": [
       "False"
      ]
     },
     "execution_count": 5,
     "metadata": {},
     "output_type": "execute_result"
    }
   ],
   "source": [
    "news_df.isnull().values.any()"
   ]
  },
  {
   "cell_type": "code",
   "execution_count": 6,
   "metadata": {
    "ExecuteTime": {
     "end_time": "2024-06-11T13:41:02.940205Z",
     "start_time": "2024-06-11T13:41:02.926928Z"
    },
    "id": "Hx01GnG16uMS"
   },
   "outputs": [],
   "source": [
    "news_df.replace(\"\", float(\"NaN\"), inplace=True)"
   ]
  },
  {
   "cell_type": "code",
   "execution_count": 7,
   "metadata": {
    "ExecuteTime": {
     "end_time": "2024-06-11T13:41:02.956150Z",
     "start_time": "2024-06-11T13:41:02.940205Z"
    },
    "colab": {
     "base_uri": "https://localhost:8080/"
    },
    "id": "5Pw5BIic6Sia",
    "outputId": "7ad6d8b4-74e6-4fd7-b2c6-87f1b7873a29"
   },
   "outputs": [
    {
     "data": {
      "text/plain": [
       "True"
      ]
     },
     "execution_count": 7,
     "metadata": {},
     "output_type": "execute_result"
    }
   ],
   "source": [
    "news_df.isnull().values.any()"
   ]
  },
  {
   "cell_type": "code",
   "execution_count": 8,
   "metadata": {
    "ExecuteTime": {
     "end_time": "2024-06-11T13:41:02.971804Z",
     "start_time": "2024-06-11T13:41:02.956150Z"
    },
    "id": "EF4dk9kQ6Vt_"
   },
   "outputs": [],
   "source": [
    "news_df.dropna(inplace=True)"
   ]
  },
  {
   "cell_type": "code",
   "execution_count": 9,
   "metadata": {
    "ExecuteTime": {
     "end_time": "2024-06-11T13:41:02.980051Z",
     "start_time": "2024-06-11T13:41:02.971804Z"
    },
    "colab": {
     "base_uri": "https://localhost:8080/"
    },
    "id": "8oY9zFwj6xpG",
    "outputId": "0c0c0513-dffd-428c-d3b7-b665c9e62efe"
   },
   "outputs": [
    {
     "name": "stdout",
     "output_type": "stream",
     "text": [
      "10995\n"
     ]
    }
   ],
   "source": [
    "print(len(news_df))"
   ]
  },
  {
   "cell_type": "code",
   "execution_count": 10,
   "metadata": {
    "ExecuteTime": {
     "end_time": "2024-06-11T13:41:04.422506Z",
     "start_time": "2024-06-11T13:41:02.980345Z"
    },
    "id": "M1vPJR0P6y0v"
   },
   "outputs": [],
   "source": [
    "stop_words = stopwords.words('english') # NLTK로부터 불용어를 받아옵니다.\n",
    "tokenized_doc = news_df['clean_doc'].apply(lambda x: x.split()) # 토큰화\n",
    "\n",
    "# 불용어를 제거합니다.\n",
    "tokenized_doc = tokenized_doc.apply(lambda x: [item for item in x if item not in stop_words])"
   ]
  },
  {
   "cell_type": "code",
   "execution_count": 11,
   "metadata": {
    "ExecuteTime": {
     "end_time": "2024-06-11T13:41:04.438178Z",
     "start_time": "2024-06-11T13:41:04.422506Z"
    },
    "id": "NfY-JEAv6z-r"
   },
   "outputs": [],
   "source": [
    "tokenized_doc = tokenized_doc.to_list()"
   ]
  },
  {
   "cell_type": "code",
   "execution_count": 12,
   "metadata": {
    "ExecuteTime": {
     "end_time": "2024-06-11T13:41:04.446103Z",
     "start_time": "2024-06-11T13:41:04.438178Z"
    },
    "id": "oMaIyDW961FN"
   },
   "outputs": [],
   "source": [
    "# 단어가 1개 이하인 경우 중심 단어, 주변 단어가 존재하지 않으므로 불가.\n",
    "drop_train = [index for index, sentence in enumerate(tokenized_doc) if len(sentence) <= 1]"
   ]
  },
  {
   "cell_type": "code",
   "execution_count": 13,
   "metadata": {
    "ExecuteTime": {
     "end_time": "2024-06-11T13:41:04.455965Z",
     "start_time": "2024-06-11T13:41:04.446103Z"
    },
    "colab": {
     "base_uri": "https://localhost:8080/"
    },
    "id": "Gb5xmVlu62FX",
    "outputId": "a7907cce-eead-4f86-cdb7-798020c3487c"
   },
   "outputs": [
    {
     "name": "stdout",
     "output_type": "stream",
     "text": [
      "[44, 260, 353, 1651, 1839, 2321, 2336, 2371, 2862, 2963, 3290, 3387, 3395, 3396, 3421, 3563, 3591, 3713, 3874, 3897, 4180, 4524, 4587, 4617, 4947, 4970, 5129, 5525, 6015, 6227, 6652, 6723, 6883, 7080, 7956, 8000, 8156, 8212, 8283, 8588, 8867, 8903, 9045, 9555, 9696, 10439, 10447, 10564, 10707, 10730, 10750, 10838, 10896, 10908, 10967]\n"
     ]
    }
   ],
   "source": [
    "print(drop_train)"
   ]
  },
  {
   "cell_type": "code",
   "execution_count": null,
   "metadata": {
    "ExecuteTime": {
     "start_time": "2024-06-11T13:42:06.655Z"
    },
    "colab": {
     "base_uri": "https://localhost:8080/"
    },
    "id": "g7ep1JeY63LT",
    "outputId": "c5d20711-9934-4c07-d8aa-da3434db2352"
   },
   "outputs": [],
   "source": [
    "# tokenized_doc = np.delete(tokenized_doc, drop_train, axis=0)"
   ]
  },
  {
   "cell_type": "code",
   "execution_count": 17,
   "metadata": {
    "ExecuteTime": {
     "end_time": "2024-06-11T13:41:37.576639Z",
     "start_time": "2024-06-11T13:41:37.568012Z"
    },
    "colab": {
     "base_uri": "https://localhost:8080/"
    },
    "id": "lb0RfjFO64VR",
    "outputId": "428c544f-8cb0-4530-9399-e8089e10697d"
   },
   "outputs": [
    {
     "name": "stdout",
     "output_type": "stream",
     "text": [
      "10995\n"
     ]
    }
   ],
   "source": [
    "print(len(tokenized_doc))"
   ]
  },
  {
   "cell_type": "code",
   "execution_count": 18,
   "metadata": {
    "ExecuteTime": {
     "end_time": "2024-06-11T13:41:40.394776Z",
     "start_time": "2024-06-11T13:41:39.638364Z"
    },
    "id": "3IKvWstG65f4"
   },
   "outputs": [],
   "source": [
    "tokenizer = Tokenizer()\n",
    "tokenizer.fit_on_texts(tokenized_doc)\n",
    "\n",
    "word2idx = tokenizer.word_index\n",
    "idx2word = {value : key for key, value in word2idx.items()}\n",
    "encoded = tokenizer.texts_to_sequences(tokenized_doc)"
   ]
  },
  {
   "cell_type": "code",
   "execution_count": 19,
   "metadata": {
    "ExecuteTime": {
     "end_time": "2024-06-11T13:41:42.045384Z",
     "start_time": "2024-06-11T13:41:42.037372Z"
    },
    "colab": {
     "base_uri": "https://localhost:8080/"
    },
    "id": "zX3mAwbr69C9",
    "outputId": "b072bdce-a53c-4a51-9940-429aa9e5402a"
   },
   "outputs": [
    {
     "name": "stdout",
     "output_type": "stream",
     "text": [
      "[[9, 59, 603, 207, 3278, 1495, 474, 702, 9470, 13686, 5533, 15229, 702, 442, 702, 70, 1148, 1095, 1036, 20294, 984, 705, 4295, 702, 217, 207, 1979, 15230, 13686, 4865, 4520, 87, 1530, 6, 52, 149, 581, 661, 4406, 4988, 4866, 1920, 755, 10668, 1103, 7838, 442, 957, 10669, 634, 51, 228, 2669, 4989, 178, 66, 222, 4521, 6066, 68, 4296], [1027, 532, 2, 60, 98, 582, 107, 800, 23, 79, 4522, 333, 7839, 864, 421, 3825, 458, 6488, 458, 2700, 4730, 333, 23, 9, 4731, 7263, 186, 310, 146, 170, 642, 1260, 107, 33571, 13, 985, 33572, 33573, 9471, 11491], [262, 1036, 2223, 7840, 387, 1, 36, 3, 4, 69, 345, 901, 944, 20, 709, 6, 1662, 24705, 20295, 223, 40, 409, 52, 170, 585, 345, 189, 901, 944, 9, 1036, 1, 24, 901, 944, 1188, 222, 42, 125, 3279, 20295, 223, 1, 1037, 66, 3, 3278, 641, 295, 116, 8994, 1020, 258, 604, 218, 135, 3280, 71, 12465, 11492, 223], [8530, 1430, 11493, 1241, 13, 185, 42, 605, 271, 4627, 958, 340, 1921, 191, 3517, 2071, 33574, 51, 1515, 363, 1674, 3050, 20296, 33575, 8165, 340, 92, 113, 1328, 277, 1308, 62, 279, 6067, 3135, 3462, 548, 722, 35, 1420, 1269, 1128, 381, 75, 310, 1155, 25, 109, 69, 30, 4121, 718, 410, 255, 85, 512, 5892, 9472, 4523, 11, 2582, 1751, 61, 33576, 5113, 20297], [9, 185, 1531, 2205, 2517, 729, 7, 18, 303, 121, 1531, 479, 2413, 260, 1593, 310, 10, 2134, 6489, 1261, 6490, 6733, 55, 4297, 397, 5534]]\n"
     ]
    }
   ],
   "source": [
    "print(encoded[:5])"
   ]
  },
  {
   "cell_type": "code",
   "execution_count": 20,
   "metadata": {
    "ExecuteTime": {
     "end_time": "2024-06-11T13:41:43.275074Z",
     "start_time": "2024-06-11T13:41:43.266663Z"
    },
    "colab": {
     "base_uri": "https://localhost:8080/"
    },
    "id": "jghLyuFpE-I7",
    "outputId": "5969b5b8-a041-4c7d-fb55-4ce508d907d2"
   },
   "outputs": [
    {
     "name": "stdout",
     "output_type": "stream",
     "text": [
      "단어 집합의 크기 : 64282\n"
     ]
    }
   ],
   "source": [
    "vocab_size = len(word2idx) + 1 \n",
    "print('단어 집합의 크기 :', vocab_size)"
   ]
  },
  {
   "cell_type": "code",
   "execution_count": 21,
   "metadata": {
    "ExecuteTime": {
     "end_time": "2024-06-11T13:41:44.122310Z",
     "start_time": "2024-06-11T13:41:44.106123Z"
    },
    "id": "riWSoMB1FBv1"
   },
   "outputs": [],
   "source": [
    "from tensorflow.keras.preprocessing.sequence import skipgrams"
   ]
  },
  {
   "cell_type": "code",
   "execution_count": 22,
   "metadata": {
    "ExecuteTime": {
     "end_time": "2024-06-11T13:41:44.797912Z",
     "start_time": "2024-06-11T13:41:44.664608Z"
    },
    "colab": {
     "base_uri": "https://localhost:8080/"
    },
    "id": "gwWVeev67CH6",
    "outputId": "e467a7c2-31f4-4f82-d578-065ff7e49111"
   },
   "outputs": [
    {
     "name": "stdout",
     "output_type": "stream",
     "text": [
      "(media (702), quenched (44795)) -> 0\n",
      "(inhuman (10668), denouncing (47220)) -> 0\n",
      "(report (581), richardson (8027)) -> 0\n",
      "(shame (4988), networkable (51465)) -> 0\n",
      "(power (68), unfortunate (4296)) -> 1\n"
     ]
    }
   ],
   "source": [
    "# 네거티브 샘플링\n",
    "skip_grams = [skipgrams(sample, vocabulary_size=vocab_size, window_size=10) for sample in encoded[:10]]\n",
    "\n",
    "# 첫번째 샘플인 skip_grams[0] 내 skipgrams로 형성된 데이터셋 확인\n",
    "pairs, labels = skip_grams[0][0], skip_grams[0][1]\n",
    "for i in range(5):\n",
    "    print(\"({:s} ({:d}), {:s} ({:d})) -> {:d}\".format(\n",
    "          idx2word[pairs[i][0]], pairs[i][0], \n",
    "          idx2word[pairs[i][1]], pairs[i][1], \n",
    "          labels[i]))"
   ]
  },
  {
   "cell_type": "code",
   "execution_count": 23,
   "metadata": {
    "ExecuteTime": {
     "end_time": "2024-06-11T13:41:45.438917Z",
     "start_time": "2024-06-11T13:41:45.426769Z"
    },
    "colab": {
     "base_uri": "https://localhost:8080/"
    },
    "id": "HWaQyteV7EX8",
    "outputId": "b8035dbe-8da2-4904-b093-ca7d67a585a8"
   },
   "outputs": [
    {
     "name": "stdout",
     "output_type": "stream",
     "text": [
      "10\n"
     ]
    }
   ],
   "source": [
    "print(len(skip_grams))"
   ]
  },
  {
   "cell_type": "code",
   "execution_count": 24,
   "metadata": {
    "ExecuteTime": {
     "end_time": "2024-06-11T13:41:45.905374Z",
     "start_time": "2024-06-11T13:41:45.889305Z"
    },
    "colab": {
     "base_uri": "https://localhost:8080/"
    },
    "id": "Evk-a7Ej7FjF",
    "outputId": "7a470bda-1bdf-4958-ea6f-bbe0c3ff874d"
   },
   "outputs": [
    {
     "name": "stdout",
     "output_type": "stream",
     "text": [
      "2220\n",
      "2220\n"
     ]
    }
   ],
   "source": [
    "# 첫번째 샘플에 대해서 생긴 pairs와 labels\n",
    "print(len(pairs))\n",
    "print(len(labels))"
   ]
  },
  {
   "cell_type": "code",
   "execution_count": null,
   "metadata": {
    "ExecuteTime": {
     "start_time": "2024-06-11T13:41:46.361Z"
    },
    "id": "bzaa4pXV7IjN"
   },
   "outputs": [],
   "source": [
    "skip_grams = [skipgrams(sample, vocabulary_size=vocab_size, window_size=10) for sample in encoded]"
   ]
  },
  {
   "cell_type": "markdown",
   "metadata": {
    "id": "WjZzZGfcFfD8"
   },
   "source": [
    "# 2. Skip-Gram with Negative Sampling(SGNS) 구현하기"
   ]
  },
  {
   "cell_type": "code",
   "execution_count": null,
   "metadata": {
    "ExecuteTime": {
     "start_time": "2024-06-11T13:41:47.424Z"
    },
    "id": "N9mZQEjxFlFK"
   },
   "outputs": [],
   "source": [
    "from tensorflow.keras.models import Sequential, Model\n",
    "from tensorflow.keras.layers import Embedding, Reshape, Activation, Input\n",
    "from tensorflow.keras.layers import Dot\n",
    "from tensorflow.keras.utils import plot_model\n",
    "from IPython.display import SVG"
   ]
  },
  {
   "cell_type": "code",
   "execution_count": null,
   "metadata": {
    "ExecuteTime": {
     "start_time": "2024-06-11T13:41:48.114Z"
    },
    "id": "y4YLPMJzF-R1"
   },
   "outputs": [],
   "source": [
    "embedding_dim = 100"
   ]
  },
  {
   "cell_type": "code",
   "execution_count": null,
   "metadata": {
    "ExecuteTime": {
     "start_time": "2024-06-11T13:41:48.624Z"
    },
    "id": "R_nmYoBSF750"
   },
   "outputs": [],
   "source": [
    "# 중심 단어를 위한 임베딩 테이블\n",
    "w_inputs = Input(shape=(1, ), dtype='int32')\n",
    "word_embedding = Embedding(vocab_size, embedding_dim)(w_inputs)\n",
    "\n",
    "# 주변 단어를 위한 임베딩 테이블\n",
    "c_inputs = Input(shape=(1, ), dtype='int32')\n",
    "context_embedding  = Embedding(vocab_size, embedding_dim)(c_inputs)"
   ]
  },
  {
   "cell_type": "code",
   "execution_count": null,
   "metadata": {
    "ExecuteTime": {
     "start_time": "2024-06-11T13:41:49.179Z"
    },
    "id": "sYNFTL3NGGfG"
   },
   "outputs": [],
   "source": [
    "dot_product = Dot(axes=2)([word_embedding, context_embedding])\n",
    "dot_product = Reshape((1,), input_shape=(1, 1))(dot_product)\n",
    "output = Activation('sigmoid')(dot_product)"
   ]
  },
  {
   "cell_type": "code",
   "execution_count": null,
   "metadata": {
    "ExecuteTime": {
     "start_time": "2024-06-11T13:41:49.749Z"
    },
    "colab": {
     "base_uri": "https://localhost:8080/",
     "height": 938
    },
    "id": "Z86_CursGH2T",
    "outputId": "884f9480-5636-49e6-9eea-c0c8aac1451c"
   },
   "outputs": [],
   "source": [
    "model = Model(inputs=[w_inputs, c_inputs], outputs=output)\n",
    "model.summary()\n",
    "model.compile(loss='binary_crossentropy', optimizer='adam')\n",
    "plot_model(model, to_file='skip_gram.png', show_shapes=True, show_layer_names=True, rankdir='TB')"
   ]
  },
  {
   "cell_type": "code",
   "execution_count": null,
   "metadata": {
    "ExecuteTime": {
     "start_time": "2024-06-11T13:41:50.349Z"
    },
    "colab": {
     "base_uri": "https://localhost:8080/"
    },
    "id": "zIw7eIquGNjL",
    "outputId": "10db2a25-b36f-43c0-c53c-12b8b08b291e"
   },
   "outputs": [],
   "source": [
    "for epoch in range(1, 6):\n",
    "    loss = 0\n",
    "    for _, elem in enumerate(skip_grams):\n",
    "        first_elem = np.array(list(zip(*elem[0]))[0], dtype='int32')\n",
    "        second_elem = np.array(list(zip(*elem[0]))[1], dtype='int32')\n",
    "        labels = np.array(elem[1], dtype='int32')\n",
    "        X = [first_elem, second_elem]\n",
    "        Y = labels\n",
    "        loss += model.train_on_batch(X,Y)  \n",
    "    print('Epoch :',epoch, 'Loss :',loss)"
   ]
  },
  {
   "cell_type": "markdown",
   "metadata": {
    "id": "vLZ2rDt1GQjY"
   },
   "source": [
    "# 3. 결과 확인하기"
   ]
  },
  {
   "cell_type": "code",
   "execution_count": null,
   "metadata": {
    "ExecuteTime": {
     "start_time": "2024-06-11T13:41:51.428Z"
    },
    "id": "-TXPsv0NGUIj"
   },
   "outputs": [],
   "source": [
    "import gensim"
   ]
  },
  {
   "cell_type": "code",
   "execution_count": null,
   "metadata": {
    "ExecuteTime": {
     "start_time": "2024-06-11T13:41:51.954Z"
    },
    "id": "kpCk5Ut34HYC"
   },
   "outputs": [],
   "source": [
    "f = open('vectors.txt' ,'w')\n",
    "f.write('{} {}\\n'.format(vocab_size-1, embedding_dim))\n",
    "vectors = model.get_weights()[0]\n",
    "for word, i in tokenizer.word_index.items():\n",
    "    f.write('{} {}\\n'.format(word, ' '.join(map(str, list(vectors[i, :])))))\n",
    "f.close()"
   ]
  },
  {
   "cell_type": "code",
   "execution_count": null,
   "metadata": {
    "ExecuteTime": {
     "start_time": "2024-06-11T13:41:52.463Z"
    },
    "id": "EILs91hd4Kea"
   },
   "outputs": [],
   "source": [
    "w2v = gensim.models.KeyedVectors.load_word2vec_format('./vectors.txt', binary=False)"
   ]
  },
  {
   "cell_type": "code",
   "execution_count": null,
   "metadata": {
    "ExecuteTime": {
     "start_time": "2024-06-11T13:41:52.974Z"
    },
    "colab": {
     "base_uri": "https://localhost:8080/"
    },
    "id": "tE36GGiX9vDc",
    "outputId": "ef0c84dd-0acd-4c0d-815d-baef2d554a07"
   },
   "outputs": [],
   "source": [
    "w2v.most_similar(positive=['disease'])"
   ]
  },
  {
   "cell_type": "code",
   "execution_count": null,
   "metadata": {
    "ExecuteTime": {
     "start_time": "2024-06-11T13:41:53.438Z"
    },
    "colab": {
     "base_uri": "https://localhost:8080/"
    },
    "id": "k6FiqwjobX8n",
    "outputId": "1f631a3d-29f0-4b93-94be-972cb9f3751d"
   },
   "outputs": [],
   "source": [
    "w2v.most_similar(positive=['soldiers'])"
   ]
  },
  {
   "cell_type": "code",
   "execution_count": null,
   "metadata": {
    "ExecuteTime": {
     "start_time": "2024-06-11T13:41:53.889Z"
    },
    "colab": {
     "base_uri": "https://localhost:8080/"
    },
    "id": "CIZpxu_79wWU",
    "outputId": "04670189-e16e-40ae-af11-3762fb284667"
   },
   "outputs": [],
   "source": [
    "w2v.most_similar(positive=['police'])"
   ]
  },
  {
   "cell_type": "code",
   "execution_count": null,
   "metadata": {
    "ExecuteTime": {
     "start_time": "2024-06-11T13:41:54.279Z"
    },
    "colab": {
     "base_uri": "https://localhost:8080/"
    },
    "id": "jHhfL_JtfU_R",
    "outputId": "fbe976f9-d01b-41c1-d5c7-39c445113aa9"
   },
   "outputs": [],
   "source": [
    "w2v.most_similar(positive=['hero'])"
   ]
  },
  {
   "cell_type": "code",
   "execution_count": null,
   "metadata": {
    "ExecuteTime": {
     "start_time": "2024-06-11T13:41:54.684Z"
    },
    "colab": {
     "base_uri": "https://localhost:8080/"
    },
    "id": "sExcUtpFt4Wm",
    "outputId": "0ba5b036-ec49-4863-d920-20cefdc7bcd5"
   },
   "outputs": [],
   "source": [
    "w2v.most_similar(positive=['engine'])"
   ]
  },
  {
   "cell_type": "code",
   "execution_count": null,
   "metadata": {
    "ExecuteTime": {
     "start_time": "2024-06-11T13:41:55.014Z"
    },
    "colab": {
     "base_uri": "https://localhost:8080/"
    },
    "id": "TErCpfXIuOZM",
    "outputId": "0423aaf8-0b85-48d5-e78f-3d26313e7287"
   },
   "outputs": [],
   "source": [
    "w2v.most_similar(positive=['doctor'])"
   ]
  }
 ],
 "metadata": {
  "colab": {
   "collapsed_sections": [],
   "name": "negative sampling.ipynb",
   "provenance": []
  },
  "kernelspec": {
   "display_name": "Python 3",
   "language": "python",
   "name": "python3"
  },
  "language_info": {
   "codemirror_mode": {
    "name": "ipython",
    "version": 3
   },
   "file_extension": ".py",
   "mimetype": "text/x-python",
   "name": "python",
   "nbconvert_exporter": "python",
   "pygments_lexer": "ipython3",
   "version": "3.8.5"
  }
 },
 "nbformat": 4,
 "nbformat_minor": 1
}
