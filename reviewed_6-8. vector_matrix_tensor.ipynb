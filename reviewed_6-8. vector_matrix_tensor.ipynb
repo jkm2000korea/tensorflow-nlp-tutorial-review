{
 "cells": [
  {
   "cell_type": "markdown",
   "metadata": {},
   "source": [
    "# 리뷰완료"
   ]
  },
  {
   "cell_type": "markdown",
   "metadata": {
    "id": "_P8-opGC8alp"
   },
   "source": [
    "이 자료는 위키독스 딥 러닝을 이용한 자연어 처리 입문의 벡터와 행렬 연산 튜토리얼 자료입니다.  \n",
    "\n",
    "링크 : https://wikidocs.net/37001"
   ]
  },
  {
   "cell_type": "markdown",
   "metadata": {
    "id": "AcVjlL6q7yfV"
   },
   "source": [
    "# 1. 벡터와 행렬과 텐서"
   ]
  },
  {
   "cell_type": "markdown",
   "metadata": {
    "id": "Y5l-1VxJ7zqL"
   },
   "source": [
    "벡터는 크기와 방향을 가진 양입니다.   \n",
    "\n",
    "숫자가 나열된 형상이며 파이썬에서는 1차원 배열 또는 리스트로 표현합니다.   \n",
    "\n",
    "반면, 행렬은 행과 열을 가지는 2차원 형상을 가진 구조입니다.   \n",
    "파이썬에서는 2차원 배열로 표현합니다. \n",
    "가로줄을 행(row)라고 하며,   \n",
    "세로줄을 열(column)이라고 합니다.   \n",
    "\n",
    "3차원부터는 주로 텐서라고 부릅니다.  \n",
    "텐서는 파이썬에서는 3차원 이상의 배열로 표현합니다."
   ]
  },
  {
   "cell_type": "markdown",
   "metadata": {
    "id": "O7ibeheq7wv9"
   },
   "source": [
    "# 2. 텐서(Tensor)"
   ]
  },
  {
   "cell_type": "code",
   "execution_count": 1,
   "metadata": {
    "ExecuteTime": {
     "end_time": "2024-05-29T09:51:58.783972Z",
     "start_time": "2024-05-29T09:51:58.171351Z"
    },
    "id": "b0mam5_k6_iM"
   },
   "outputs": [],
   "source": [
    "import numpy as np"
   ]
  },
  {
   "cell_type": "markdown",
   "metadata": {
    "id": "qVuc-ufD7KwG"
   },
   "source": [
    "## 0차원 텐서 (스칼라)"
   ]
  },
  {
   "cell_type": "code",
   "execution_count": 2,
   "metadata": {
    "ExecuteTime": {
     "end_time": "2024-05-29T09:52:03.707424Z",
     "start_time": "2024-05-29T09:52:03.669042Z"
    },
    "colab": {
     "base_uri": "https://localhost:8080/"
    },
    "id": "ZrCKHEut7D-B",
    "outputId": "3949105a-1b31-429e-cf2f-2303c7596522"
   },
   "outputs": [
    {
     "name": "stdout",
     "output_type": "stream",
     "text": [
      "차원 : 0\n",
      "텐서의 크기(shape) : ()\n"
     ]
    }
   ],
   "source": [
    "d = np.array(5)\n",
    "print('차원 :',d.ndim)\n",
    "print('텐서의 크기(shape) :',d.shape)"
   ]
  },
  {
   "cell_type": "markdown",
   "metadata": {
    "id": "GZGqlexW7LnS"
   },
   "source": [
    "## 1차원 텐서 (벡터)"
   ]
  },
  {
   "cell_type": "code",
   "execution_count": 3,
   "metadata": {
    "ExecuteTime": {
     "end_time": "2024-05-29T09:52:10.147561Z",
     "start_time": "2024-05-29T09:52:10.132318Z"
    },
    "colab": {
     "base_uri": "https://localhost:8080/"
    },
    "id": "YPP71P3x7IoY",
    "outputId": "05515d52-b445-4c38-c014-1a1143a3965d"
   },
   "outputs": [
    {
     "name": "stdout",
     "output_type": "stream",
     "text": [
      "차원 : 1\n",
      "텐서의 크기(shape) : (4,)\n"
     ]
    }
   ],
   "source": [
    "d = np.array([1, 2, 3, 4])\n",
    "print('차원 :',d.ndim)\n",
    "print('텐서의 크기(shape) :',d.shape)"
   ]
  },
  {
   "cell_type": "markdown",
   "metadata": {
    "id": "ixB26hA-7b7l"
   },
   "source": [
    "## 2차원 텐서(행렬)"
   ]
  },
  {
   "cell_type": "code",
   "execution_count": 4,
   "metadata": {
    "ExecuteTime": {
     "end_time": "2024-05-29T09:52:19.860589Z",
     "start_time": "2024-05-29T09:52:19.844593Z"
    },
    "colab": {
     "base_uri": "https://localhost:8080/"
    },
    "id": "3RRN21dt7KO3",
    "outputId": "28fd4535-c71f-4c3f-c106-1b30175bc598"
   },
   "outputs": [
    {
     "name": "stdout",
     "output_type": "stream",
     "text": [
      "차원 : 2\n",
      "텐서의 크기(shape) : (3, 4)\n"
     ]
    }
   ],
   "source": [
    "d = np.array([[1, 2, 3, 4], [5, 6, 7, 8], [9, 10, 11, 12]])\n",
    "print('차원 :',d.ndim)\n",
    "print('텐서의 크기(shape) :',d.shape)"
   ]
  },
  {
   "cell_type": "markdown",
   "metadata": {
    "id": "AWrnp6M77of4"
   },
   "source": [
    "## 3차원 텐서(다차원 배열)"
   ]
  },
  {
   "cell_type": "code",
   "execution_count": 5,
   "metadata": {
    "ExecuteTime": {
     "end_time": "2024-05-29T09:52:53.862565Z",
     "start_time": "2024-05-29T09:52:53.854728Z"
    },
    "colab": {
     "base_uri": "https://localhost:8080/"
    },
    "id": "49NSWrwM7dR4",
    "outputId": "2b046f30-f059-4b00-b633-d2944191a2c6"
   },
   "outputs": [
    {
     "name": "stdout",
     "output_type": "stream",
     "text": [
      "차원 : 3\n",
      "텐서의 크기(shape) : (2, 3, 5)\n"
     ]
    }
   ],
   "source": [
    "d = np.array([\n",
    "            [[1, 2, 3, 4, 5], [6, 7, 8, 9, 10], [10, 11, 12, 13, 14]],\n",
    "            [[15, 16, 17, 18, 19], [19, 20, 21, 22, 23], [23, 24, 25, 26, 27]]\n",
    "            ])\n",
    "print('차원 :',d.ndim)\n",
    "print('텐서의 크기(shape) :',d.shape)"
   ]
  },
  {
   "cell_type": "markdown",
   "metadata": {
    "id": "zgx2NjLz74rY"
   },
   "source": [
    "# 3. 벡터와 행렬의 연산"
   ]
  },
  {
   "cell_type": "code",
   "execution_count": 6,
   "metadata": {
    "ExecuteTime": {
     "end_time": "2024-05-29T09:52:54.808642Z",
     "start_time": "2024-05-29T09:52:54.788776Z"
    },
    "id": "F5aqfq7i76O0"
   },
   "outputs": [],
   "source": [
    "import numpy as np"
   ]
  },
  {
   "cell_type": "code",
   "execution_count": 7,
   "metadata": {
    "ExecuteTime": {
     "end_time": "2024-05-29T09:52:57.812444Z",
     "start_time": "2024-05-29T09:52:57.791587Z"
    },
    "colab": {
     "base_uri": "https://localhost:8080/"
    },
    "id": "FXHhYAA6768E",
    "outputId": "4596e1e7-62f7-4347-dfbf-05792d91be8f"
   },
   "outputs": [
    {
     "name": "stdout",
     "output_type": "stream",
     "text": [
      "두 벡터의 합 : [9 6 8]\n",
      "두 벡터의 차 : [7 2 2]\n"
     ]
    }
   ],
   "source": [
    "A = np.array([8, 4, 5])\n",
    "B = np.array([1, 2, 3])\n",
    "print('두 벡터의 합 :',A+B)\n",
    "print('두 벡터의 차 :',A-B)"
   ]
  },
  {
   "cell_type": "code",
   "execution_count": 8,
   "metadata": {
    "ExecuteTime": {
     "end_time": "2024-05-29T09:53:00.610579Z",
     "start_time": "2024-05-29T09:53:00.602555Z"
    },
    "colab": {
     "base_uri": "https://localhost:8080/"
    },
    "id": "gd6H6JT67_Wf",
    "outputId": "1b82d02e-5c2e-4e9b-b2b6-d9a96b0a8a13"
   },
   "outputs": [
    {
     "name": "stdout",
     "output_type": "stream",
     "text": [
      "두 행렬의 합 :\n",
      "[[15 26 37 48]\n",
      " [51 62 73 84]]\n",
      "두 행렬의 차 :\n",
      "[[ 5 14 23 32]\n",
      " [49 58 67 76]]\n"
     ]
    }
   ],
   "source": [
    "A = np.array([[10, 20, 30, 40], [50, 60, 70, 80]])\n",
    "B = np.array([[5, 6, 7, 8],[1, 2, 3, 4]])\n",
    "print('두 행렬의 합 :')\n",
    "print(A+B)\n",
    "print('두 행렬의 차 :')\n",
    "print(A-B)"
   ]
  },
  {
   "cell_type": "code",
   "execution_count": 9,
   "metadata": {
    "ExecuteTime": {
     "end_time": "2024-05-29T09:53:01.242591Z",
     "start_time": "2024-05-29T09:53:01.231523Z"
    },
    "colab": {
     "base_uri": "https://localhost:8080/"
    },
    "id": "zZRZrk1M8EMv",
    "outputId": "469a6bc8-aabc-4de9-e954-bca48f064312"
   },
   "outputs": [
    {
     "name": "stdout",
     "output_type": "stream",
     "text": [
      "두 벡터의 내적 : 32\n"
     ]
    }
   ],
   "source": [
    "A = np.array([1, 2, 3])\n",
    "B = np.array([4, 5, 6])\n",
    "print('두 벡터의 내적 :',np.dot(A, B))"
   ]
  },
  {
   "cell_type": "code",
   "execution_count": 10,
   "metadata": {
    "ExecuteTime": {
     "end_time": "2024-05-29T09:53:03.451896Z",
     "start_time": "2024-05-29T09:53:03.434362Z"
    },
    "colab": {
     "base_uri": "https://localhost:8080/"
    },
    "id": "fG2P-su18P3J",
    "outputId": "a66a4f3f-ef01-4b51-c94e-1d20a450d968"
   },
   "outputs": [
    {
     "name": "stdout",
     "output_type": "stream",
     "text": [
      "두 행렬의 행렬곱 :\n",
      "[[23 31]\n",
      " [34 46]]\n"
     ]
    }
   ],
   "source": [
    "A = np.array([[1, 3],[2, 4]])\n",
    "B = np.array([[5, 7],[6, 8]])\n",
    "print('두 행렬의 행렬곱 :')\n",
    "print(np.matmul(A, B))"
   ]
  }
 ],
 "metadata": {
  "colab": {
   "collapsed_sections": [],
   "name": "vector / matrix / tensor.ipynb",
   "provenance": []
  },
  "kernelspec": {
   "display_name": "Python 3",
   "language": "python",
   "name": "python3"
  },
  "language_info": {
   "codemirror_mode": {
    "name": "ipython",
    "version": 3
   },
   "file_extension": ".py",
   "mimetype": "text/x-python",
   "name": "python",
   "nbconvert_exporter": "python",
   "pygments_lexer": "ipython3",
   "version": "3.8.5"
  }
 },
 "nbformat": 4,
 "nbformat_minor": 1
}
