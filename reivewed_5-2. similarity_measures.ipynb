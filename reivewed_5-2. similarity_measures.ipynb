{
 "cells": [
  {
   "cell_type": "markdown",
   "metadata": {},
   "source": [
    "# 리뷰완료"
   ]
  },
  {
   "cell_type": "markdown",
   "metadata": {
    "id": "2G6hNqwMQstm"
   },
   "source": [
    "이 자료는 위키독스 딥 러닝을 이용한 자연어 처리 입문의 여러가지 유사도 기법 튜토리얼 자료입니다."
   ]
  },
  {
   "cell_type": "markdown",
   "metadata": {
    "id": "sQYy__ieQu3w"
   },
   "source": [
    "링크 : https://wikidocs.net/24654"
   ]
  },
  {
   "cell_type": "markdown",
   "metadata": {
    "id": "pfAGiFk87Zka"
   },
   "source": [
    "# 1. 유클리드 거리"
   ]
  },
  {
   "cell_type": "code",
   "execution_count": 1,
   "metadata": {
    "ExecuteTime": {
     "end_time": "2024-05-23T12:41:09.342513Z",
     "start_time": "2024-05-23T12:41:08.342620Z"
    },
    "id": "sMvsj1Xp7LxU"
   },
   "outputs": [],
   "source": [
    "import numpy as np"
   ]
  },
  {
   "cell_type": "code",
   "execution_count": 2,
   "metadata": {
    "ExecuteTime": {
     "end_time": "2024-05-23T12:41:09.350695Z",
     "start_time": "2024-05-23T12:41:09.342513Z"
    },
    "colab": {
     "base_uri": "https://localhost:8080/"
    },
    "id": "W6GAsKOj7PaR",
    "outputId": "d61cbc66-cbe2-491a-e2d6-8d22c98b3ef9"
   },
   "outputs": [
    {
     "name": "stdout",
     "output_type": "stream",
     "text": [
      "문서1과 문서Q의 거리 : 2.23606797749979\n",
      "문서2과 문서Q의 거리 : 3.1622776601683795\n",
      "문서3과 문서Q의 거리 : 2.449489742783178\n"
     ]
    }
   ],
   "source": [
    "def dist(x,y):   \n",
    "    return np.sqrt(np.sum((x-y)**2))\n",
    "\n",
    "doc1 = np.array((2,3,0,1))\n",
    "doc2 = np.array((1,2,3,1))\n",
    "doc3 = np.array((2,1,2,2))\n",
    "docQ = np.array((1,1,0,1))\n",
    "\n",
    "print('문서1과 문서Q의 거리 :',dist(doc1,docQ))\n",
    "print('문서2과 문서Q의 거리 :',dist(doc2,docQ))\n",
    "print('문서3과 문서Q의 거리 :',dist(doc3,docQ))"
   ]
  },
  {
   "cell_type": "markdown",
   "metadata": {
    "id": "sWhsMz-S7YmH"
   },
   "source": [
    "# 2. 자카드 유사도"
   ]
  },
  {
   "cell_type": "markdown",
   "metadata": {},
   "source": [
    "# 자카드 유사도 (Jaccard Similarity)\n",
    "\n",
    "자카드 유사도(Jaccard Similarity)는 두 집합 간의 유사도를 측정하는 방법 중 하나입니다. 이는 두 집합의 교집합 크기를 합집합 크기로 나누어 계산합니다. 수식으로 표현하면 다음과 같습니다.\n",
    "\n",
    "$$\n",
    "J(A, B) = \\frac{|A \\cap B|}{|A \\cup B|}\n",
    "$$\n",
    "\n",
    "여기서,\n",
    "- \\( A \\)와 \\( B \\)는 비교하고자 하는 두 집합입니다.\n",
    "- \\( |A \\cap B| \\)는 두 집합의 교집합의 크기입니다.\n",
    "- \\( |A \\cup B| \\)는 두 집합의 합집합의 크기입니다.\n",
    "\n",
    "## 예제\n",
    "\n",
    "두 집합 \\( A \\)와 \\( B \\)가 다음과 같다고 가정해봅시다:\n",
    "- \\( A = \\{1, 2, 3\\} \\)\n",
    "- \\( B = \\{2, 3, 4, 5\\} \\)\n",
    "\n",
    "이 경우, 교집합과 합집합은 다음과 같이 계산됩니다:\n",
    "- \\( A \\cap B = \\{2, 3\\} \\)\n",
    "- \\( A \\cup B = \\{1, 2, 3, 4, 5\\} \\)\n",
    "\n",
    "따라서 자카드 유사도는 다음과 같습니다:\n",
    "$$\n",
    "J(A, B) = \\frac{|A \\cap B|}{|A \\cup B|} = \\frac{2}{5} = 0.4\n",
    "$$\n",
    "\n",
    "자카드 유사도는 0에서 1 사이의 값을 가지며, 1은 두 집합이 동일함을 의미하고 0은 두 집합이 공통 요소가 없음을 의미합니다.\n"
   ]
  },
  {
   "cell_type": "code",
   "execution_count": 3,
   "metadata": {
    "ExecuteTime": {
     "end_time": "2024-05-23T12:41:14.702356Z",
     "start_time": "2024-05-23T12:41:14.682730Z"
    },
    "colab": {
     "base_uri": "https://localhost:8080/"
    },
    "id": "8PSAOmlb7P5w",
    "outputId": "37f61f97-b785-40fb-91d1-15efa13a8b1e"
   },
   "outputs": [
    {
     "name": "stdout",
     "output_type": "stream",
     "text": [
      "문서1 : ['apple', 'banana', 'everyone', 'like', 'likey', 'watch', 'card', 'holder']\n",
      "문서2 : ['apple', 'banana', 'coupon', 'passport', 'love', 'you']\n"
     ]
    }
   ],
   "source": [
    "doc1 = \"apple banana everyone like likey watch card holder\"\n",
    "doc2 = \"apple banana coupon passport love you\"\n",
    "\n",
    "tokenized_doc1 = doc1.split()\n",
    "tokenized_doc2 = doc2.split()\n",
    "\n",
    "print('문서1 :',tokenized_doc1)\n",
    "print('문서2 :',tokenized_doc2)"
   ]
  },
  {
   "cell_type": "code",
   "execution_count": 4,
   "metadata": {
    "ExecuteTime": {
     "end_time": "2024-05-23T12:41:15.454251Z",
     "start_time": "2024-05-23T12:41:15.438098Z"
    },
    "colab": {
     "base_uri": "https://localhost:8080/"
    },
    "id": "_mQvLS2R7SdX",
    "outputId": "d2233024-fb13-4ed0-8774-2874cf9b5577"
   },
   "outputs": [
    {
     "name": "stdout",
     "output_type": "stream",
     "text": [
      "문서1과 문서2의 합집합 : {'watch', 'apple', 'banana', 'holder', 'coupon', 'you', 'love', 'passport', 'likey', 'like', 'everyone', 'card'}\n"
     ]
    }
   ],
   "source": [
    "union = set(tokenized_doc1).union(set(tokenized_doc2))\n",
    "print('문서1과 문서2의 합집합 :',union)"
   ]
  },
  {
   "cell_type": "code",
   "execution_count": 5,
   "metadata": {
    "ExecuteTime": {
     "end_time": "2024-05-23T12:41:16.314594Z",
     "start_time": "2024-05-23T12:41:16.306493Z"
    },
    "colab": {
     "base_uri": "https://localhost:8080/"
    },
    "id": "K7VcOsQr7Tdn",
    "outputId": "834591d2-e0b4-4a20-af5d-ba18f850e7dd"
   },
   "outputs": [
    {
     "name": "stdout",
     "output_type": "stream",
     "text": [
      "문서1과 문서2의 교집합 : {'apple', 'banana'}\n"
     ]
    }
   ],
   "source": [
    "intersection = set(tokenized_doc1).intersection(set(tokenized_doc2))\n",
    "print('문서1과 문서2의 교집합 :',intersection)"
   ]
  },
  {
   "cell_type": "code",
   "execution_count": 6,
   "metadata": {
    "ExecuteTime": {
     "end_time": "2024-05-23T12:41:17.215687Z",
     "start_time": "2024-05-23T12:41:17.206963Z"
    },
    "colab": {
     "base_uri": "https://localhost:8080/"
    },
    "id": "3FqiAU_lqeRR",
    "outputId": "436cb548-0471-48f4-cac4-33d03bc6471e"
   },
   "outputs": [
    {
     "name": "stdout",
     "output_type": "stream",
     "text": [
      "자카드 유사도 : 0.16666666666666666\n"
     ]
    }
   ],
   "source": [
    "print('자카드 유사도 :',len(intersection)/len(union))"
   ]
  }
 ],
 "metadata": {
  "colab": {
   "collapsed_sections": [],
   "name": "Similarity measures.ipynb",
   "provenance": []
  },
  "kernelspec": {
   "display_name": "Python 3",
   "language": "python",
   "name": "python3"
  },
  "language_info": {
   "codemirror_mode": {
    "name": "ipython",
    "version": 3
   },
   "file_extension": ".py",
   "mimetype": "text/x-python",
   "name": "python",
   "nbconvert_exporter": "python",
   "pygments_lexer": "ipython3",
   "version": "3.8.5"
  }
 },
 "nbformat": 4,
 "nbformat_minor": 1
}
